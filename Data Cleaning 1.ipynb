{
 "cells": [
  {
   "cell_type": "markdown",
   "metadata": {},
   "source": [
    "# Data Cleaning"
   ]
  },
  {
   "cell_type": "markdown",
   "metadata": {},
   "source": [
    "### Imports"
   ]
  },
  {
   "cell_type": "code",
   "execution_count": 1,
   "metadata": {},
   "outputs": [],
   "source": [
    "import pandas as pd\n",
    "import numpy as np"
   ]
  },
  {
   "cell_type": "markdown",
   "metadata": {},
   "source": [
    "### Reading the file that I created using web scraping"
   ]
  },
  {
   "cell_type": "code",
   "execution_count": 2,
   "metadata": {},
   "outputs": [],
   "source": [
    "df=pd.read_csv('logic_immo_scrap_complete.csv')"
   ]
  },
  {
   "cell_type": "code",
   "execution_count": 3,
   "metadata": {},
   "outputs": [
    {
     "data": {
      "text/plain": [
       "(4240, 6)"
      ]
     },
     "execution_count": 3,
     "metadata": {},
     "output_type": "execute_result"
    }
   ],
   "source": [
    "df.shape"
   ]
  },
  {
   "cell_type": "code",
   "execution_count": 4,
   "metadata": {},
   "outputs": [
    {
     "data": {
      "text/html": [
       "<div>\n",
       "<style scoped>\n",
       "    .dataframe tbody tr th:only-of-type {\n",
       "        vertical-align: middle;\n",
       "    }\n",
       "\n",
       "    .dataframe tbody tr th {\n",
       "        vertical-align: top;\n",
       "    }\n",
       "\n",
       "    .dataframe thead th {\n",
       "        text-align: right;\n",
       "    }\n",
       "</style>\n",
       "<table border=\"1\" class=\"dataframe\">\n",
       "  <thead>\n",
       "    <tr style=\"text-align: right;\">\n",
       "      <th></th>\n",
       "      <th>Superficie</th>\n",
       "      <th>Rooms</th>\n",
       "      <th>Bedrooms</th>\n",
       "      <th>Price</th>\n",
       "      <th>Location</th>\n",
       "      <th>description</th>\n",
       "    </tr>\n",
       "  </thead>\n",
       "  <tbody>\n",
       "    <tr>\n",
       "      <th>0</th>\n",
       "      <td>33m²</td>\n",
       "      <td>1 p.</td>\n",
       "      <td>-1</td>\n",
       "      <td>328 600 €</td>\n",
       "      <td>Paris 19 (75019)|Secrétan - Jaurès...</td>\n",
       "      <td>Ref de l'annonce\\r\\n:Grand Studio\\r\\nParking\\r...</td>\n",
       "    </tr>\n",
       "    <tr>\n",
       "      <th>1</th>\n",
       "      <td>122m²</td>\n",
       "      <td>5 p.</td>\n",
       "      <td>4 p.</td>\n",
       "      <td>1 940 000 €</td>\n",
       "      <td>Paris 04 (75004)\\r\\nParis 4ème</td>\n",
       "      <td>Ref de l'annonce\\r\\n:158\\r\\nParking\\r\\nTerrass...</td>\n",
       "    </tr>\n",
       "    <tr>\n",
       "      <th>2</th>\n",
       "      <td>68m²</td>\n",
       "      <td>4 p.</td>\n",
       "      <td>3 p.</td>\n",
       "      <td>830 000 €</td>\n",
       "      <td>Paris 10 (75010)\\r\\nParis 10ème</td>\n",
       "      <td>Ref de l'annonce\\r\\n:2679339\\r\\nTerrasse/Balco...</td>\n",
       "    </tr>\n",
       "    <tr>\n",
       "      <th>3</th>\n",
       "      <td>36m²</td>\n",
       "      <td>2 p.</td>\n",
       "      <td>1 p.</td>\n",
       "      <td>524 000 €</td>\n",
       "      <td>Paris 18 (75018)\\r\\nAbbesses</td>\n",
       "      <td>Ref de l'annonce\\r\\n:0555\\r\\nEtage du bien\\r\\n...</td>\n",
       "    </tr>\n",
       "    <tr>\n",
       "      <th>4</th>\n",
       "      <td>32m²</td>\n",
       "      <td>1 p.</td>\n",
       "      <td>-1</td>\n",
       "      <td>375 000 €</td>\n",
       "      <td>Paris 15 (75015)\\r\\nParis 15ème</td>\n",
       "      <td>Ref de l'annonce\\r\\n:162373805\\r\\nChauffage\\r\\...</td>\n",
       "    </tr>\n",
       "  </tbody>\n",
       "</table>\n",
       "</div>"
      ],
      "text/plain": [
       "  Superficie Rooms Bedrooms        Price  \\\n",
       "0       33m²  1 p.       -1    328 600 €   \n",
       "1      122m²  5 p.     4 p.  1 940 000 €   \n",
       "2       68m²  4 p.     3 p.    830 000 €   \n",
       "3       36m²  2 p.     1 p.    524 000 €   \n",
       "4       32m²  1 p.       -1    375 000 €   \n",
       "\n",
       "                                Location  \\\n",
       "0  Paris 19 (75019)|Secrétan - Jaurès...   \n",
       "1         Paris 04 (75004)\\r\\nParis 4ème   \n",
       "2        Paris 10 (75010)\\r\\nParis 10ème   \n",
       "3           Paris 18 (75018)\\r\\nAbbesses   \n",
       "4        Paris 15 (75015)\\r\\nParis 15ème   \n",
       "\n",
       "                                         description  \n",
       "0  Ref de l'annonce\\r\\n:Grand Studio\\r\\nParking\\r...  \n",
       "1  Ref de l'annonce\\r\\n:158\\r\\nParking\\r\\nTerrass...  \n",
       "2  Ref de l'annonce\\r\\n:2679339\\r\\nTerrasse/Balco...  \n",
       "3  Ref de l'annonce\\r\\n:0555\\r\\nEtage du bien\\r\\n...  \n",
       "4  Ref de l'annonce\\r\\n:162373805\\r\\nChauffage\\r\\...  "
      ]
     },
     "execution_count": 4,
     "metadata": {},
     "output_type": "execute_result"
    }
   ],
   "source": [
    "df.head()"
   ]
  },
  {
   "cell_type": "markdown",
   "metadata": {},
   "source": [
    "### In this Data Cleaning notebook, I will try to do the following things:\n",
    "    - \"Location\" extract only the district\n",
    "    - \"Superficie\" parsing\n",
    "    - Bedrooms check for -1 values\n",
    "    - Parsing of description column: I will extract the following features: Parking, Cellar, floor building,floor apartment, patio/balcony, Heating, nb_bathrooms, Renovated\n",
    "    - Price parsing"
   ]
  },
  {
   "cell_type": "markdown",
   "metadata": {},
   "source": [
    "-> Let's try to extract the district from the column 'Location'."
   ]
  },
  {
   "cell_type": "code",
   "execution_count": 5,
   "metadata": {},
   "outputs": [
    {
     "data": {
      "text/plain": [
       "75018    481\n",
       "75015    424\n",
       "75016    391\n",
       "75017    322\n",
       "75020    285\n",
       "75013    233\n",
       "75014    209\n",
       "75011    209\n",
       "75019    196\n",
       "75006    178\n",
       "75007    174\n",
       "75008    174\n",
       "75010    166\n",
       "75012    150\n",
       "75005    110\n",
       "75004    107\n",
       "75009    100\n",
       "75003     94\n",
       "75116     89\n",
       "75002     88\n",
       "75001     60\n",
       "Name: Loc_Paris, dtype: int64"
      ]
     },
     "execution_count": 5,
     "metadata": {},
     "output_type": "execute_result"
    }
   ],
   "source": [
    "#Location extract only the district\n",
    "import re\n",
    "df[\"Loc_Paris\"]=df.Location.apply(lambda x: re.findall(r'\\d{5}',x)[0] )\n",
    "df.Loc_Paris.value_counts()"
   ]
  },
  {
   "cell_type": "code",
   "execution_count": 6,
   "metadata": {},
   "outputs": [
    {
     "data": {
      "text/html": [
       "<div>\n",
       "<style scoped>\n",
       "    .dataframe tbody tr th:only-of-type {\n",
       "        vertical-align: middle;\n",
       "    }\n",
       "\n",
       "    .dataframe tbody tr th {\n",
       "        vertical-align: top;\n",
       "    }\n",
       "\n",
       "    .dataframe thead th {\n",
       "        text-align: right;\n",
       "    }\n",
       "</style>\n",
       "<table border=\"1\" class=\"dataframe\">\n",
       "  <thead>\n",
       "    <tr style=\"text-align: right;\">\n",
       "      <th></th>\n",
       "      <th>Superficie</th>\n",
       "      <th>Rooms</th>\n",
       "      <th>Bedrooms</th>\n",
       "      <th>Price</th>\n",
       "      <th>Location</th>\n",
       "      <th>description</th>\n",
       "      <th>Loc_Paris</th>\n",
       "    </tr>\n",
       "  </thead>\n",
       "  <tbody>\n",
       "    <tr>\n",
       "      <th>62</th>\n",
       "      <td>17m²</td>\n",
       "      <td>2 p.</td>\n",
       "      <td>1 p.</td>\n",
       "      <td>365 000 €</td>\n",
       "      <td>Paris 16 (75116)\\r\\nParis</td>\n",
       "      <td>Ref de l'annonce\\r\\n:d2117f\\r\\nChauffage\\r\\n:I...</td>\n",
       "      <td>75116</td>\n",
       "    </tr>\n",
       "    <tr>\n",
       "      <th>117</th>\n",
       "      <td>29m²</td>\n",
       "      <td>1 p.</td>\n",
       "      <td>-1</td>\n",
       "      <td>457 000 €</td>\n",
       "      <td>Paris 16 (75116)\\r\\nParis</td>\n",
       "      <td>Ref de l'annonce\\r\\n:W-02I86Q\\r\\nEtage du bien...</td>\n",
       "      <td>75116</td>\n",
       "    </tr>\n",
       "    <tr>\n",
       "      <th>123</th>\n",
       "      <td>177m²</td>\n",
       "      <td>5 p.</td>\n",
       "      <td>3 p.</td>\n",
       "      <td>1 930 000 €</td>\n",
       "      <td>Paris 16 (75116)\\r\\nParis</td>\n",
       "      <td>Ref de l'annonce\\r\\n:W-02GTRV\\r\\nNombre d'étag...</td>\n",
       "      <td>75116</td>\n",
       "    </tr>\n",
       "    <tr>\n",
       "      <th>124</th>\n",
       "      <td>201m²</td>\n",
       "      <td>6 p.</td>\n",
       "      <td>3 p.</td>\n",
       "      <td>3 150 000 €</td>\n",
       "      <td>Paris 16 (75116)\\r\\nParis</td>\n",
       "      <td>Ref de l'annonce\\r\\n:W-02HFSG\\r\\nEtage du bien...</td>\n",
       "      <td>75116</td>\n",
       "    </tr>\n",
       "    <tr>\n",
       "      <th>125</th>\n",
       "      <td>143m²</td>\n",
       "      <td>4 p.</td>\n",
       "      <td>2 p.</td>\n",
       "      <td>2 665 000 €</td>\n",
       "      <td>Paris 16 (75116)\\r\\nParis</td>\n",
       "      <td>Ref de l'annonce\\r\\n:W-02EE9H\\r\\nChauffage\\r\\n...</td>\n",
       "      <td>75116</td>\n",
       "    </tr>\n",
       "    <tr>\n",
       "      <th>...</th>\n",
       "      <td>...</td>\n",
       "      <td>...</td>\n",
       "      <td>...</td>\n",
       "      <td>...</td>\n",
       "      <td>...</td>\n",
       "      <td>...</td>\n",
       "      <td>...</td>\n",
       "    </tr>\n",
       "    <tr>\n",
       "      <th>4005</th>\n",
       "      <td>420m²</td>\n",
       "      <td>10 p.</td>\n",
       "      <td>5 p.</td>\n",
       "      <td>12 900 000 €</td>\n",
       "      <td>Paris 16 (75116)\\r\\nParis</td>\n",
       "      <td>Ref de l'annonce\\r\\n:Henri Martin\\r\\nRénové\\r\\...</td>\n",
       "      <td>75116</td>\n",
       "    </tr>\n",
       "    <tr>\n",
       "      <th>4047</th>\n",
       "      <td>362m²</td>\n",
       "      <td>8 p.</td>\n",
       "      <td>5 p.</td>\n",
       "      <td>5 950 000 €</td>\n",
       "      <td>Paris 16 (75116)\\r\\nParis</td>\n",
       "      <td>Ref de l'annonce\\r\\n:1018PSN\\r\\nChauffage\\r\\n:...</td>\n",
       "      <td>75116</td>\n",
       "    </tr>\n",
       "    <tr>\n",
       "      <th>4055</th>\n",
       "      <td>201m²</td>\n",
       "      <td>6 p.</td>\n",
       "      <td>3 p.</td>\n",
       "      <td>2 500 000 €</td>\n",
       "      <td>Paris 16 (75116)\\r\\nParis</td>\n",
       "      <td>Ref de l'annonce\\r\\n:577VHFDH\\r\\nChauffage\\r\\n...</td>\n",
       "      <td>75116</td>\n",
       "    </tr>\n",
       "    <tr>\n",
       "      <th>4057</th>\n",
       "      <td>89m²</td>\n",
       "      <td>3 p.</td>\n",
       "      <td>2 p.</td>\n",
       "      <td>1 030 000 €</td>\n",
       "      <td>Paris 16 (75116)\\r\\nParis</td>\n",
       "      <td>Ref de l'annonce\\r\\n:546\\r\\nChauffage\\r\\n:Cent...</td>\n",
       "      <td>75116</td>\n",
       "    </tr>\n",
       "    <tr>\n",
       "      <th>4113</th>\n",
       "      <td>242m²</td>\n",
       "      <td>7 p.</td>\n",
       "      <td>4 p.</td>\n",
       "      <td>2 890 000 €</td>\n",
       "      <td>Paris 16 (75116)\\r\\nParis</td>\n",
       "      <td>Ref de l'annonce\\r\\n:30608640\\r\\nChauffage\\r\\n...</td>\n",
       "      <td>75116</td>\n",
       "    </tr>\n",
       "  </tbody>\n",
       "</table>\n",
       "<p>89 rows × 7 columns</p>\n",
       "</div>"
      ],
      "text/plain": [
       "     Superficie  Rooms Bedrooms         Price                   Location  \\\n",
       "62         17m²   2 p.     1 p.     365 000 €  Paris 16 (75116)\\r\\nParis   \n",
       "117        29m²   1 p.       -1     457 000 €  Paris 16 (75116)\\r\\nParis   \n",
       "123       177m²   5 p.     3 p.   1 930 000 €  Paris 16 (75116)\\r\\nParis   \n",
       "124       201m²   6 p.     3 p.   3 150 000 €  Paris 16 (75116)\\r\\nParis   \n",
       "125       143m²   4 p.     2 p.   2 665 000 €  Paris 16 (75116)\\r\\nParis   \n",
       "...         ...    ...      ...           ...                        ...   \n",
       "4005      420m²  10 p.     5 p.  12 900 000 €  Paris 16 (75116)\\r\\nParis   \n",
       "4047      362m²   8 p.     5 p.   5 950 000 €  Paris 16 (75116)\\r\\nParis   \n",
       "4055      201m²   6 p.     3 p.   2 500 000 €  Paris 16 (75116)\\r\\nParis   \n",
       "4057       89m²   3 p.     2 p.   1 030 000 €  Paris 16 (75116)\\r\\nParis   \n",
       "4113      242m²   7 p.     4 p.   2 890 000 €  Paris 16 (75116)\\r\\nParis   \n",
       "\n",
       "                                            description Loc_Paris  \n",
       "62    Ref de l'annonce\\r\\n:d2117f\\r\\nChauffage\\r\\n:I...     75116  \n",
       "117   Ref de l'annonce\\r\\n:W-02I86Q\\r\\nEtage du bien...     75116  \n",
       "123   Ref de l'annonce\\r\\n:W-02GTRV\\r\\nNombre d'étag...     75116  \n",
       "124   Ref de l'annonce\\r\\n:W-02HFSG\\r\\nEtage du bien...     75116  \n",
       "125   Ref de l'annonce\\r\\n:W-02EE9H\\r\\nChauffage\\r\\n...     75116  \n",
       "...                                                 ...       ...  \n",
       "4005  Ref de l'annonce\\r\\n:Henri Martin\\r\\nRénové\\r\\...     75116  \n",
       "4047  Ref de l'annonce\\r\\n:1018PSN\\r\\nChauffage\\r\\n:...     75116  \n",
       "4055  Ref de l'annonce\\r\\n:577VHFDH\\r\\nChauffage\\r\\n...     75116  \n",
       "4057  Ref de l'annonce\\r\\n:546\\r\\nChauffage\\r\\n:Cent...     75116  \n",
       "4113  Ref de l'annonce\\r\\n:30608640\\r\\nChauffage\\r\\n...     75116  \n",
       "\n",
       "[89 rows x 7 columns]"
      ]
     },
     "execution_count": 6,
     "metadata": {},
     "output_type": "execute_result"
    }
   ],
   "source": [
    "#It seems that some districts are misspelled.\n",
    "df[df.Loc_Paris=='75116']"
   ]
  },
  {
   "cell_type": "code",
   "execution_count": 7,
   "metadata": {},
   "outputs": [
    {
     "data": {
      "text/plain": [
       "75018    481\n",
       "75016    480\n",
       "75015    424\n",
       "75017    322\n",
       "75020    285\n",
       "75013    233\n",
       "75011    209\n",
       "75014    209\n",
       "75019    196\n",
       "75006    178\n",
       "75008    174\n",
       "75007    174\n",
       "75010    166\n",
       "75012    150\n",
       "75005    110\n",
       "75004    107\n",
       "75009    100\n",
       "75003     94\n",
       "75002     88\n",
       "75001     60\n",
       "Name: Loc_Paris, dtype: int64"
      ]
     },
     "execution_count": 7,
     "metadata": {},
     "output_type": "execute_result"
    }
   ],
   "source": [
    "# it should be '75016' instead of '75116'\n",
    "df.Loc_Paris.replace('75116','75016',inplace=True)\n",
    "df.Loc_Paris.value_counts()"
   ]
  },
  {
   "cell_type": "code",
   "execution_count": 8,
   "metadata": {},
   "outputs": [],
   "source": [
    "#transform the feature loc_Paris \n",
    "df.Loc_Paris=df.Loc_Paris.apply(lambda x: int(x)-75000)\n",
    "#I Want the column Loc_Paris to be treated as a categorical variable\n",
    "df['Loc_Paris']=df.Loc_Paris.apply(lambda x: str(x))"
   ]
  },
  {
   "cell_type": "markdown",
   "metadata": {},
   "source": [
    "-> Superficie Parsing"
   ]
  },
  {
   "cell_type": "code",
   "execution_count": 9,
   "metadata": {},
   "outputs": [
    {
     "data": {
      "text/plain": [
       "0        33\n",
       "1       122\n",
       "2        68\n",
       "3        36\n",
       "4        32\n",
       "       ... \n",
       "4235    128\n",
       "4236     56\n",
       "4237    155\n",
       "4238    107\n",
       "4239     43\n",
       "Name: m2, Length: 4240, dtype: int64"
      ]
     },
     "execution_count": 9,
     "metadata": {},
     "output_type": "execute_result"
    }
   ],
   "source": [
    "#Superficie parsing\n",
    "df['m2']=df.Superficie.apply(lambda x: int(x.split('m²')[0]))\n",
    "df.m2"
   ]
  },
  {
   "cell_type": "markdown",
   "metadata": {},
   "source": [
    "-> Rooms Parsing"
   ]
  },
  {
   "cell_type": "code",
   "execution_count": 10,
   "metadata": {},
   "outputs": [
    {
     "data": {
      "text/plain": [
       "2 p.     1169\n",
       "3 p.      924\n",
       "1 p.      726\n",
       "4 p.      590\n",
       "5 p.      467\n",
       "6 p.      198\n",
       "8 p.       82\n",
       "7 p.       67\n",
       "9 p.        7\n",
       "12 p.       3\n",
       "10 p.       3\n",
       "14 p.       1\n",
       "30 p.       1\n",
       "16 p.       1\n",
       "11 p.       1\n",
       "Name: Rooms, dtype: int64"
      ]
     },
     "execution_count": 10,
     "metadata": {},
     "output_type": "execute_result"
    }
   ],
   "source": [
    "df.Rooms.value_counts()"
   ]
  },
  {
   "cell_type": "code",
   "execution_count": 11,
   "metadata": {},
   "outputs": [
    {
     "data": {
      "text/plain": [
       "2     1169\n",
       "3      924\n",
       "1      726\n",
       "4      590\n",
       "5      467\n",
       "6      198\n",
       "8       82\n",
       "7       67\n",
       "9        7\n",
       "12       3\n",
       "10       3\n",
       "30       1\n",
       "14       1\n",
       "11       1\n",
       "16       1\n",
       "Name: nb_rooms, dtype: int64"
      ]
     },
     "execution_count": 11,
     "metadata": {},
     "output_type": "execute_result"
    }
   ],
   "source": [
    "df['nb_rooms']=df.Rooms.apply(lambda x: x.replace('p.','').strip())\n",
    "df.nb_rooms.value_counts()\n",
    "#outliers spotted we will deal with them in the EDA section"
   ]
  },
  {
   "cell_type": "markdown",
   "metadata": {},
   "source": [
    "-> Bedrooms Parsing"
   ]
  },
  {
   "cell_type": "code",
   "execution_count": 12,
   "metadata": {},
   "outputs": [],
   "source": [
    "df.Bedrooms=df.Bedrooms.apply(lambda x: x.replace('p.','').strip())\n",
    "df['nb_bedrooms']=df.Bedrooms.apply(lambda x: x.replace('-1', '0'))                                                     "
   ]
  },
  {
   "cell_type": "code",
   "execution_count": 13,
   "metadata": {},
   "outputs": [
    {
     "data": {
      "text/plain": [
       "1     1369\n",
       "2     1031\n",
       "0      735\n",
       "3      676\n",
       "4      356\n",
       "5       60\n",
       "6        9\n",
       "12       1\n",
       "8        1\n",
       "7        1\n",
       "10       1\n",
       "Name: nb_bedrooms, dtype: int64"
      ]
     },
     "execution_count": 13,
     "metadata": {},
     "output_type": "execute_result"
    }
   ],
   "source": [
    "df.nb_bedrooms.value_counts()"
   ]
  },
  {
   "cell_type": "markdown",
   "metadata": {},
   "source": [
    "-> Parsing of description: extract features: Parking, Cellar, floor building, floor apartment, patio/balcony, Heating, nb_bathrooms, Renovated ?"
   ]
  },
  {
   "cell_type": "code",
   "execution_count": 14,
   "metadata": {},
   "outputs": [],
   "source": [
    "#We create a funciton to extract features from the column description\n",
    "\n",
    "def extract_features(x,feature):\n",
    "    for i in range(len(df)):\n",
    "        if feature in str(x):\n",
    "            return (x.split(f'{feature}\\r\\n:')[1].split('\\r')[0])\n",
    "        else:\n",
    "            return 0"
   ]
  },
  {
   "cell_type": "code",
   "execution_count": 15,
   "metadata": {},
   "outputs": [],
   "source": [
    "#Extracting the number of floor of the building\n",
    "df[\"building_floor\"]=df.description.apply(lambda x: extract_features(x,'bâtiment'))\n",
    "\n",
    "#Extracting where the apartment is located in the building\n",
    "df[\"apartment_floor\"]=df.description.apply(lambda x: extract_features(x,'bien'))\n",
    "\n",
    "#Extracting the number of bathrooms\n",
    "df[\"nb_bath\"]=df.description.apply(lambda x: extract_features(x,'bain'))\n",
    "\n",
    "#Extracting the presence or absence of a Cellar\n",
    "df[\"Cellar\"]=df.description.apply(lambda x: 1 if \"cave\" in str(x).lower() else 0)\n",
    "\n",
    "#Extracting the presence or absence of a balcony or a patio\n",
    "df[\"balc_patio\"]=df.description.apply(lambda x: extract_features(x,'Balcon'))\n",
    "\n",
    "#Extracting the type of Heating\n",
    "df[\"Heating\"]=df.description.apply(lambda x: extract_features(x,'Chauffage'))\n",
    "\n",
    "#Finding if the apartment was renovated\n",
    "df[\"Renovated\"]=df.description.apply(lambda x: 1 if \"rénové\" in str(x).lower() else 0)\n",
    "\n",
    "#Extracting if the presence or absence of a Parking\n",
    "df[\"Parking\"]=df.description.apply(lambda x: 1 if \"parking\" in str(x).lower() else 0)"
   ]
  },
  {
   "cell_type": "markdown",
   "metadata": {},
   "source": [
    "-> Price parsing"
   ]
  },
  {
   "cell_type": "code",
   "execution_count": 16,
   "metadata": {},
   "outputs": [],
   "source": [
    "#price parsing\n",
    "df=df[~(df.Price=='Nous consulter')]\n",
    "df['SalePrice']=df.Price.apply(lambda x: int(x.replace('€',\"\").replace(' ','')))"
   ]
  },
  {
   "cell_type": "code",
   "execution_count": 17,
   "metadata": {},
   "outputs": [
    {
     "data": {
      "text/html": [
       "<div>\n",
       "<style scoped>\n",
       "    .dataframe tbody tr th:only-of-type {\n",
       "        vertical-align: middle;\n",
       "    }\n",
       "\n",
       "    .dataframe tbody tr th {\n",
       "        vertical-align: top;\n",
       "    }\n",
       "\n",
       "    .dataframe thead th {\n",
       "        text-align: right;\n",
       "    }\n",
       "</style>\n",
       "<table border=\"1\" class=\"dataframe\">\n",
       "  <thead>\n",
       "    <tr style=\"text-align: right;\">\n",
       "      <th></th>\n",
       "      <th>Superficie</th>\n",
       "      <th>Rooms</th>\n",
       "      <th>Bedrooms</th>\n",
       "      <th>Price</th>\n",
       "      <th>Location</th>\n",
       "      <th>description</th>\n",
       "      <th>Loc_Paris</th>\n",
       "      <th>m2</th>\n",
       "      <th>nb_rooms</th>\n",
       "      <th>nb_bedrooms</th>\n",
       "      <th>building_floor</th>\n",
       "      <th>apartment_floor</th>\n",
       "      <th>nb_bath</th>\n",
       "      <th>Cellar</th>\n",
       "      <th>balc_patio</th>\n",
       "      <th>Heating</th>\n",
       "      <th>Renovated</th>\n",
       "      <th>Parking</th>\n",
       "      <th>SalePrice</th>\n",
       "    </tr>\n",
       "  </thead>\n",
       "  <tbody>\n",
       "    <tr>\n",
       "      <th>0</th>\n",
       "      <td>33m²</td>\n",
       "      <td>1 p.</td>\n",
       "      <td>-1</td>\n",
       "      <td>328 600 €</td>\n",
       "      <td>Paris 19 (75019)|Secrétan - Jaurès...</td>\n",
       "      <td>Ref de l'annonce\\r\\n:Grand Studio\\r\\nParking\\r...</td>\n",
       "      <td>19</td>\n",
       "      <td>33</td>\n",
       "      <td>1</td>\n",
       "      <td>0</td>\n",
       "      <td>14</td>\n",
       "      <td>1er</td>\n",
       "      <td>1</td>\n",
       "      <td>0</td>\n",
       "      <td>0</td>\n",
       "      <td>0</td>\n",
       "      <td>0</td>\n",
       "      <td>1</td>\n",
       "      <td>328600</td>\n",
       "    </tr>\n",
       "    <tr>\n",
       "      <th>1</th>\n",
       "      <td>122m²</td>\n",
       "      <td>5 p.</td>\n",
       "      <td>4</td>\n",
       "      <td>1 940 000 €</td>\n",
       "      <td>Paris 04 (75004)\\r\\nParis 4ème</td>\n",
       "      <td>Ref de l'annonce\\r\\n:158\\r\\nParking\\r\\nTerrass...</td>\n",
       "      <td>4</td>\n",
       "      <td>122</td>\n",
       "      <td>5</td>\n",
       "      <td>4</td>\n",
       "      <td>4</td>\n",
       "      <td>2e</td>\n",
       "      <td>1</td>\n",
       "      <td>1</td>\n",
       "      <td>Terrasse</td>\n",
       "      <td>0</td>\n",
       "      <td>0</td>\n",
       "      <td>1</td>\n",
       "      <td>1940000</td>\n",
       "    </tr>\n",
       "    <tr>\n",
       "      <th>2</th>\n",
       "      <td>68m²</td>\n",
       "      <td>4 p.</td>\n",
       "      <td>3</td>\n",
       "      <td>830 000 €</td>\n",
       "      <td>Paris 10 (75010)\\r\\nParis 10ème</td>\n",
       "      <td>Ref de l'annonce\\r\\n:2679339\\r\\nTerrasse/Balco...</td>\n",
       "      <td>10</td>\n",
       "      <td>68</td>\n",
       "      <td>4</td>\n",
       "      <td>3</td>\n",
       "      <td>3</td>\n",
       "      <td>0</td>\n",
       "      <td>1</td>\n",
       "      <td>0</td>\n",
       "      <td>Terrasse</td>\n",
       "      <td>0</td>\n",
       "      <td>0</td>\n",
       "      <td>0</td>\n",
       "      <td>830000</td>\n",
       "    </tr>\n",
       "    <tr>\n",
       "      <th>3</th>\n",
       "      <td>36m²</td>\n",
       "      <td>2 p.</td>\n",
       "      <td>1</td>\n",
       "      <td>524 000 €</td>\n",
       "      <td>Paris 18 (75018)\\r\\nAbbesses</td>\n",
       "      <td>Ref de l'annonce\\r\\n:0555\\r\\nEtage du bien\\r\\n...</td>\n",
       "      <td>18</td>\n",
       "      <td>36</td>\n",
       "      <td>2</td>\n",
       "      <td>1</td>\n",
       "      <td>0</td>\n",
       "      <td>2e</td>\n",
       "      <td>1</td>\n",
       "      <td>1</td>\n",
       "      <td>0</td>\n",
       "      <td>0</td>\n",
       "      <td>0</td>\n",
       "      <td>0</td>\n",
       "      <td>524000</td>\n",
       "    </tr>\n",
       "    <tr>\n",
       "      <th>4</th>\n",
       "      <td>32m²</td>\n",
       "      <td>1 p.</td>\n",
       "      <td>-1</td>\n",
       "      <td>375 000 €</td>\n",
       "      <td>Paris 15 (75015)\\r\\nParis 15ème</td>\n",
       "      <td>Ref de l'annonce\\r\\n:162373805\\r\\nChauffage\\r\\...</td>\n",
       "      <td>15</td>\n",
       "      <td>32</td>\n",
       "      <td>1</td>\n",
       "      <td>0</td>\n",
       "      <td>9</td>\n",
       "      <td>8e</td>\n",
       "      <td>0</td>\n",
       "      <td>1</td>\n",
       "      <td>0</td>\n",
       "      <td>Au gaz</td>\n",
       "      <td>0</td>\n",
       "      <td>0</td>\n",
       "      <td>375000</td>\n",
       "    </tr>\n",
       "  </tbody>\n",
       "</table>\n",
       "</div>"
      ],
      "text/plain": [
       "  Superficie Rooms Bedrooms        Price  \\\n",
       "0       33m²  1 p.       -1    328 600 €   \n",
       "1      122m²  5 p.        4  1 940 000 €   \n",
       "2       68m²  4 p.        3    830 000 €   \n",
       "3       36m²  2 p.        1    524 000 €   \n",
       "4       32m²  1 p.       -1    375 000 €   \n",
       "\n",
       "                                Location  \\\n",
       "0  Paris 19 (75019)|Secrétan - Jaurès...   \n",
       "1         Paris 04 (75004)\\r\\nParis 4ème   \n",
       "2        Paris 10 (75010)\\r\\nParis 10ème   \n",
       "3           Paris 18 (75018)\\r\\nAbbesses   \n",
       "4        Paris 15 (75015)\\r\\nParis 15ème   \n",
       "\n",
       "                                         description Loc_Paris   m2 nb_rooms  \\\n",
       "0  Ref de l'annonce\\r\\n:Grand Studio\\r\\nParking\\r...        19   33        1   \n",
       "1  Ref de l'annonce\\r\\n:158\\r\\nParking\\r\\nTerrass...         4  122        5   \n",
       "2  Ref de l'annonce\\r\\n:2679339\\r\\nTerrasse/Balco...        10   68        4   \n",
       "3  Ref de l'annonce\\r\\n:0555\\r\\nEtage du bien\\r\\n...        18   36        2   \n",
       "4  Ref de l'annonce\\r\\n:162373805\\r\\nChauffage\\r\\...        15   32        1   \n",
       "\n",
       "  nb_bedrooms building_floor apartment_floor nb_bath  Cellar balc_patio  \\\n",
       "0           0             14             1er       1       0          0   \n",
       "1           4              4              2e       1       1   Terrasse   \n",
       "2           3              3               0       1       0   Terrasse   \n",
       "3           1              0              2e       1       1          0   \n",
       "4           0              9              8e       0       1          0   \n",
       "\n",
       "  Heating  Renovated  Parking  SalePrice  \n",
       "0       0          0        1     328600  \n",
       "1       0          0        1    1940000  \n",
       "2       0          0        0     830000  \n",
       "3       0          0        0     524000  \n",
       "4  Au gaz          0        0     375000  "
      ]
     },
     "execution_count": 17,
     "metadata": {},
     "output_type": "execute_result"
    }
   ],
   "source": [
    "df.head()"
   ]
  },
  {
   "cell_type": "markdown",
   "metadata": {},
   "source": [
    "### Now that we have done some Feature Engineering and Data cleaning, I think it could be interesting to explore the values of the different features of the dataframe."
   ]
  },
  {
   "cell_type": "code",
   "execution_count": 18,
   "metadata": {},
   "outputs": [
    {
     "data": {
      "text/plain": [
       "18    481\n",
       "16    479\n",
       "15    424\n",
       "17    322\n",
       "20    285\n",
       "13    233\n",
       "14    209\n",
       "11    209\n",
       "19    195\n",
       "6     178\n",
       "7     174\n",
       "8     172\n",
       "10    166\n",
       "12    150\n",
       "5     110\n",
       "4     107\n",
       "9     100\n",
       "3      94\n",
       "2      88\n",
       "1      60\n",
       "Name: Loc_Paris, dtype: int64"
      ]
     },
     "execution_count": 18,
     "metadata": {},
     "output_type": "execute_result"
    }
   ],
   "source": [
    "#Loc_Paris\n",
    "df.Loc_Paris.value_counts()"
   ]
  },
  {
   "cell_type": "markdown",
   "metadata": {},
   "source": [
    "Everything seems normal."
   ]
  },
  {
   "cell_type": "code",
   "execution_count": 19,
   "metadata": {},
   "outputs": [
    {
     "data": {
      "text/plain": [
       "33         1\n",
       "19         1\n",
       "21         1\n",
       "20         1\n",
       "26         1\n",
       "28         2\n",
       "27         2\n",
       "1900       2\n",
       "22         3\n",
       "18         3\n",
       "29         4\n",
       "17         5\n",
       "16         6\n",
       "32         7\n",
       "30         9\n",
       "13         9\n",
       "31        10\n",
       "15        10\n",
       "12        29\n",
       "11        38\n",
       "1         43\n",
       "14        50\n",
       "2         59\n",
       "10        77\n",
       "9        101\n",
       "3        170\n",
       "8        203\n",
       "4        239\n",
       "7        355\n",
       "5        539\n",
       "0       1116\n",
       "6       1140\n",
       "Name: building_floor, dtype: int64"
      ]
     },
     "execution_count": 19,
     "metadata": {},
     "output_type": "execute_result"
    }
   ],
   "source": [
    "#building_floor\n",
    "df.building_floor.value_counts().sort_values()"
   ]
  },
  {
   "cell_type": "markdown",
   "metadata": {},
   "source": [
    "The 0 values correspond to missing values. \n",
    "Indeed it seems that 1117 properties advertisements did not specify the number of floors of the building. To deal with missing values we can do 3 things:\n",
    "1.Delete the rows with missing values\n",
    "2.Delete the column\n",
    "3.Impute the mean number of floors for each district. \n",
    "I tried the three solutions and it seems that the first one works best.\n",
    "But I have another idea that could work well. I think separate the number of buildings into four categories: Small, Average, High, Tower. Let's do that and we will check later in the EDA if it was a good idea."
   ]
  },
  {
   "cell_type": "markdown",
   "metadata": {},
   "source": [
    "-> First solution"
   ]
  },
  {
   "cell_type": "code",
   "execution_count": 20,
   "metadata": {},
   "outputs": [],
   "source": [
    "#df.building_floor=df.groupby('Loc_Paris').building_floor.transform(lambda x: x.replace(0,int(x.median()))).apply(lambda x: int(x))\n",
    "#df.building_floor.value_counts()"
   ]
  },
  {
   "cell_type": "markdown",
   "metadata": {},
   "source": [
    "-> Third Solution"
   ]
  },
  {
   "cell_type": "code",
   "execution_count": 21,
   "metadata": {},
   "outputs": [],
   "source": [
    "#Drop the columns where we do not know the number of floors of the building.\n",
    "#df=df[~(df.building_floor==0)]\n",
    "#Drop the rows with 1900 floors, because this is not possible\n",
    "df=df[~(df.building_floor=='1900')]\n",
    "#df.building_floor.value_counts()"
   ]
  },
  {
   "cell_type": "markdown",
   "metadata": {},
   "source": [
    "-> My idea"
   ]
  },
  {
   "cell_type": "code",
   "execution_count": 22,
   "metadata": {},
   "outputs": [],
   "source": [
    "#Function giving four categories of buildings in Paris\n",
    "def height(x):\n",
    "    if x ==0:\n",
    "        return 'Average'\n",
    "    elif x<4:\n",
    "        return 'Small'\n",
    "    elif x<=9:\n",
    "        return 'Average'\n",
    "    elif x<=12:\n",
    "        return 'High'\n",
    "    else:\n",
    "        return 'Tower'\n",
    "        "
   ]
  },
  {
   "cell_type": "code",
   "execution_count": 23,
   "metadata": {},
   "outputs": [
    {
     "data": {
      "text/plain": [
       "Average    3693\n",
       "Small       272\n",
       "High        144\n",
       "Tower       125\n",
       "Name: building_height, dtype: int64"
      ]
     },
     "execution_count": 23,
     "metadata": {},
     "output_type": "execute_result"
    }
   ],
   "source": [
    "df['building_height']=df.building_floor.apply(lambda x: height(int(x)))\n",
    "df.building_height.value_counts()"
   ]
  },
  {
   "cell_type": "code",
   "execution_count": 24,
   "metadata": {},
   "outputs": [
    {
     "data": {
      "text/plain": [
       "0         891\n",
       "1er       699\n",
       "2e        617\n",
       "4e        501\n",
       "3e        494\n",
       "5e        415\n",
       "6e        290\n",
       "7e        132\n",
       "8e         67\n",
       "9e         40\n",
       "11e        17\n",
       "10e        17\n",
       "15e         9\n",
       "18e         6\n",
       "13e         5\n",
       "12e         5\n",
       "17e         3\n",
       "16e         3\n",
       "28e         2\n",
       "24e         2\n",
       "29e         2\n",
       "25e         2\n",
       "21e         2\n",
       "30e         2\n",
       "32767e      1\n",
       "20e         1\n",
       "32e         1\n",
       "1930e       1\n",
       "19e         1\n",
       "23e         1\n",
       "1900e       1\n",
       "27e         1\n",
       "14e         1\n",
       "22e         1\n",
       "26e         1\n",
       "Name: apartment_floor, dtype: int64"
      ]
     },
     "execution_count": 24,
     "metadata": {},
     "output_type": "execute_result"
    }
   ],
   "source": [
    "#apartment floor\n",
    "df.apartment_floor.value_counts()"
   ]
  },
  {
   "cell_type": "markdown",
   "metadata": {},
   "source": [
    "Some rows with wrong values such as '32767' or '1900e' or '1930e'. We should drop them.\n",
    "Same problem that with the building floor, it seems that 546 property advertisements did not specify at which floor the apartment is located in the building. After looking online, I found out that these properties were at the ground floor of the building. Therefore let us create another fearure."
   ]
  },
  {
   "cell_type": "code",
   "execution_count": 25,
   "metadata": {},
   "outputs": [],
   "source": [
    "#Imputation\n",
    "#df.apartment_floor=df.groupby('Loc_Paris').apartment_floor.transform(lambda x: x.replace(0,x.value_counts().idxmax()))\n",
    "#Replace the remaining 0 by the most frequent occurences in the all districts\n",
    "#df.apartment_floor=df.apartment_floor.transform(lambda x: x.replace(0,df.apartment_floor.value_counts().idxmax()))\n",
    "#df.apartment_floor.value_counts()"
   ]
  },
  {
   "cell_type": "code",
   "execution_count": 26,
   "metadata": {},
   "outputs": [
    {
     "data": {
      "text/plain": [
       "0    3340\n",
       "1     891\n",
       "Name: Ground_floor, dtype: int64"
      ]
     },
     "execution_count": 26,
     "metadata": {},
     "output_type": "execute_result"
    }
   ],
   "source": [
    "#Drop rows with wrong values such as '32767' or '1900e' or '1930e'\n",
    "df=df[~(df.apartment_floor=='1900e')]\n",
    "df=df[~(df.apartment_floor=='32767e')]\n",
    "df=df[~(df.apartment_floor=='1930e')]\n",
    "#Creation of the \"ground floor\" feature\n",
    "df['Ground_floor']=df.apartment_floor.apply(lambda x: 1 if x==0 else 0)\n",
    "df.Ground_floor.value_counts()"
   ]
  },
  {
   "cell_type": "code",
   "execution_count": 27,
   "metadata": {},
   "outputs": [],
   "source": [
    "#I will drop the rows where we do not know both the height of the building and the floor of the apartment\n",
    "df= df[~((df.apartment_floor==0) & (df.building_floor==0))]"
   ]
  },
  {
   "cell_type": "code",
   "execution_count": 28,
   "metadata": {},
   "outputs": [],
   "source": [
    "#transform apartment floor and building floor into numerical features\n",
    "df['apartment_floor']=df.apartment_floor.apply(lambda x: int(str(x).replace('e','').replace('r','')))\n",
    "df['building_floor']=df.building_floor.apply(lambda x: int(x))"
   ]
  },
  {
   "cell_type": "code",
   "execution_count": 29,
   "metadata": {},
   "outputs": [
    {
     "data": {
      "text/plain": [
       "1    2045\n",
       "0    1840\n",
       "Name: Cellar, dtype: int64"
      ]
     },
     "execution_count": 29,
     "metadata": {},
     "output_type": "execute_result"
    }
   ],
   "source": [
    "#Cellar\n",
    "df.Cellar.value_counts()"
   ]
  },
  {
   "cell_type": "code",
   "execution_count": 30,
   "metadata": {},
   "outputs": [
    {
     "data": {
      "text/plain": [
       "0                   2837\n",
       "Balcon               686\n",
       "Terrasse             214\n",
       "Terrasse, balcon     148\n",
       "Name: balc_patio, dtype: int64"
      ]
     },
     "execution_count": 30,
     "metadata": {},
     "output_type": "execute_result"
    }
   ],
   "source": [
    "#balcony and patio\n",
    "df.balc_patio.value_counts()"
   ]
  },
  {
   "cell_type": "code",
   "execution_count": 31,
   "metadata": {},
   "outputs": [],
   "source": [
    "#replace 0 values with Unknown since we do  not know what type of Heating is used\n",
    "df.Heating=df.Heating.apply(lambda x: str(x).replace('0','Unknown'))"
   ]
  },
  {
   "cell_type": "code",
   "execution_count": 32,
   "metadata": {},
   "outputs": [
    {
     "data": {
      "text/plain": [
       "0    3111\n",
       "1     774\n",
       "Name: Heating_Central, dtype: int64"
      ]
     },
     "execution_count": 32,
     "metadata": {},
     "output_type": "execute_result"
    }
   ],
   "source": [
    "#Create two new features for Heating: \"individual\" and \"Central\", since both are the most important classes.\n",
    "df['Heating_Central']=df.Heating.apply(lambda x: 1 if 'Central' in str(x) else 0)\n",
    "df['Heating_Individual']=df.Heating.apply(lambda x: 1 if 'Individuel' in str(x) else 0)\n",
    "df.Heating_Central.value_counts()\n"
   ]
  },
  {
   "cell_type": "code",
   "execution_count": 33,
   "metadata": {},
   "outputs": [
    {
     "data": {
      "text/plain": [
       "0    3464\n",
       "1     421\n",
       "Name: Parking, dtype: int64"
      ]
     },
     "execution_count": 33,
     "metadata": {},
     "output_type": "execute_result"
    }
   ],
   "source": [
    "#Parking\n",
    "df.Parking.value_counts()"
   ]
  },
  {
   "cell_type": "code",
   "execution_count": 34,
   "metadata": {},
   "outputs": [],
   "source": [
    "#Drop the rows with unknown for m2 feature\n",
    "df=df[~(df.m2==-1)]"
   ]
  },
  {
   "cell_type": "code",
   "execution_count": 35,
   "metadata": {},
   "outputs": [
    {
     "data": {
      "text/plain": [
       "Index(['Superficie', 'Rooms', 'Bedrooms', 'Price', 'Location', 'description',\n",
       "       'Loc_Paris', 'm2', 'nb_rooms', 'nb_bedrooms', 'building_floor',\n",
       "       'apartment_floor', 'nb_bath', 'Cellar', 'balc_patio', 'Heating',\n",
       "       'Renovated', 'Parking', 'SalePrice', 'building_height', 'Ground_floor',\n",
       "       'Heating_Central', 'Heating_Individual'],\n",
       "      dtype='object')"
      ]
     },
     "execution_count": 35,
     "metadata": {},
     "output_type": "execute_result"
    }
   ],
   "source": [
    "df.columns"
   ]
  },
  {
   "cell_type": "markdown",
   "metadata": {},
   "source": [
    "### Now I will create another feature that could be interesting \"Last floor\". I think this feature can have an impact on the price. I will verify this assumption in the Exploratory Data Analysis."
   ]
  },
  {
   "cell_type": "code",
   "execution_count": 36,
   "metadata": {},
   "outputs": [],
   "source": [
    "#Let us create one other feature that could be interesting: 'Last_etage'\n",
    "df['Last_floor']= df.apply(lambda x: 1 if int(x.building_floor)==int(x.apartment_floor) else 0,axis=1)\n",
    "\n"
   ]
  },
  {
   "cell_type": "markdown",
   "metadata": {},
   "source": [
    "I will finish this Data cleaning part by looking at the types of the features that I created."
   ]
  },
  {
   "cell_type": "code",
   "execution_count": 37,
   "metadata": {},
   "outputs": [
    {
     "name": "stdout",
     "output_type": "stream",
     "text": [
      "<class 'pandas.core.frame.DataFrame'>\n",
      "Int64Index: 3868 entries, 0 to 4239\n",
      "Data columns (total 24 columns):\n",
      " #   Column              Non-Null Count  Dtype \n",
      "---  ------              --------------  ----- \n",
      " 0   Superficie          3868 non-null   object\n",
      " 1   Rooms               3868 non-null   object\n",
      " 2   Bedrooms            3868 non-null   object\n",
      " 3   Price               3868 non-null   object\n",
      " 4   Location            3868 non-null   object\n",
      " 5   description         3868 non-null   object\n",
      " 6   Loc_Paris           3868 non-null   object\n",
      " 7   m2                  3868 non-null   int64 \n",
      " 8   nb_rooms            3868 non-null   object\n",
      " 9   nb_bedrooms         3868 non-null   object\n",
      " 10  building_floor      3868 non-null   int64 \n",
      " 11  apartment_floor     3868 non-null   int64 \n",
      " 12  nb_bath             3868 non-null   object\n",
      " 13  Cellar              3868 non-null   int64 \n",
      " 14  balc_patio          3868 non-null   object\n",
      " 15  Heating             3868 non-null   object\n",
      " 16  Renovated           3868 non-null   int64 \n",
      " 17  Parking             3868 non-null   int64 \n",
      " 18  SalePrice           3868 non-null   int64 \n",
      " 19  building_height     3868 non-null   object\n",
      " 20  Ground_floor        3868 non-null   int64 \n",
      " 21  Heating_Central     3868 non-null   int64 \n",
      " 22  Heating_Individual  3868 non-null   int64 \n",
      " 23  Last_floor          3868 non-null   int64 \n",
      "dtypes: int64(11), object(13)\n",
      "memory usage: 755.5+ KB\n"
     ]
    }
   ],
   "source": [
    "df.info()"
   ]
  },
  {
   "cell_type": "code",
   "execution_count": 38,
   "metadata": {},
   "outputs": [],
   "source": [
    "#I want the feature Loc_Paris to be categorical\n",
    "df['district']=df.Loc_Paris.apply(lambda x: str(x)+'e')\n",
    "\n"
   ]
  },
  {
   "cell_type": "code",
   "execution_count": 39,
   "metadata": {},
   "outputs": [],
   "source": [
    "df.to_csv('House_price_cleaned.csv',index=False)"
   ]
  }
 ],
 "metadata": {
  "kernelspec": {
   "display_name": "Python 3",
   "language": "python",
   "name": "python3"
  },
  "language_info": {
   "codemirror_mode": {
    "name": "ipython",
    "version": 3
   },
   "file_extension": ".py",
   "mimetype": "text/x-python",
   "name": "python",
   "nbconvert_exporter": "python",
   "pygments_lexer": "ipython3",
   "version": "3.7.6"
  }
 },
 "nbformat": 4,
 "nbformat_minor": 4
}
