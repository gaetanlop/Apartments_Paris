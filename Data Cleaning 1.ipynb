{
 "cells": [
  {
   "cell_type": "code",
   "execution_count": 5,
   "metadata": {},
   "outputs": [],
   "source": [
    "import pandas as pd\n",
    "import numpy as np"
   ]
  },
  {
   "cell_type": "code",
   "execution_count": 6,
   "metadata": {},
   "outputs": [],
   "source": [
    "df=pd.read_csv('logic_immo_scrap_complete.csv')"
   ]
  },
  {
   "cell_type": "code",
   "execution_count": 7,
   "metadata": {},
   "outputs": [
    {
     "data": {
      "text/plain": [
       "(4240, 6)"
      ]
     },
     "execution_count": 7,
     "metadata": {},
     "output_type": "execute_result"
    }
   ],
   "source": [
    "df.shape"
   ]
  },
  {
   "cell_type": "code",
   "execution_count": 8,
   "metadata": {},
   "outputs": [
    {
     "data": {
      "text/html": [
       "<div>\n",
       "<style scoped>\n",
       "    .dataframe tbody tr th:only-of-type {\n",
       "        vertical-align: middle;\n",
       "    }\n",
       "\n",
       "    .dataframe tbody tr th {\n",
       "        vertical-align: top;\n",
       "    }\n",
       "\n",
       "    .dataframe thead th {\n",
       "        text-align: right;\n",
       "    }\n",
       "</style>\n",
       "<table border=\"1\" class=\"dataframe\">\n",
       "  <thead>\n",
       "    <tr style=\"text-align: right;\">\n",
       "      <th></th>\n",
       "      <th>Superficie</th>\n",
       "      <th>Rooms</th>\n",
       "      <th>Bedrooms</th>\n",
       "      <th>Price</th>\n",
       "      <th>Location</th>\n",
       "      <th>description</th>\n",
       "    </tr>\n",
       "  </thead>\n",
       "  <tbody>\n",
       "    <tr>\n",
       "      <th>0</th>\n",
       "      <td>33m²</td>\n",
       "      <td>1 p.</td>\n",
       "      <td>-1</td>\n",
       "      <td>328 600 €</td>\n",
       "      <td>Paris 19 (75019)|Secrétan - Jaurès...</td>\n",
       "      <td>Ref de l'annonce\\r\\n:Grand Studio\\r\\nParking\\r...</td>\n",
       "    </tr>\n",
       "    <tr>\n",
       "      <th>1</th>\n",
       "      <td>122m²</td>\n",
       "      <td>5 p.</td>\n",
       "      <td>4 p.</td>\n",
       "      <td>1 940 000 €</td>\n",
       "      <td>Paris 04 (75004)\\r\\nParis 4ème</td>\n",
       "      <td>Ref de l'annonce\\r\\n:158\\r\\nParking\\r\\nTerrass...</td>\n",
       "    </tr>\n",
       "    <tr>\n",
       "      <th>2</th>\n",
       "      <td>68m²</td>\n",
       "      <td>4 p.</td>\n",
       "      <td>3 p.</td>\n",
       "      <td>830 000 €</td>\n",
       "      <td>Paris 10 (75010)\\r\\nParis 10ème</td>\n",
       "      <td>Ref de l'annonce\\r\\n:2679339\\r\\nTerrasse/Balco...</td>\n",
       "    </tr>\n",
       "    <tr>\n",
       "      <th>3</th>\n",
       "      <td>36m²</td>\n",
       "      <td>2 p.</td>\n",
       "      <td>1 p.</td>\n",
       "      <td>524 000 €</td>\n",
       "      <td>Paris 18 (75018)\\r\\nAbbesses</td>\n",
       "      <td>Ref de l'annonce\\r\\n:0555\\r\\nEtage du bien\\r\\n...</td>\n",
       "    </tr>\n",
       "    <tr>\n",
       "      <th>4</th>\n",
       "      <td>32m²</td>\n",
       "      <td>1 p.</td>\n",
       "      <td>-1</td>\n",
       "      <td>375 000 €</td>\n",
       "      <td>Paris 15 (75015)\\r\\nParis 15ème</td>\n",
       "      <td>Ref de l'annonce\\r\\n:162373805\\r\\nChauffage\\r\\...</td>\n",
       "    </tr>\n",
       "  </tbody>\n",
       "</table>\n",
       "</div>"
      ],
      "text/plain": [
       "  Superficie Rooms Bedrooms        Price  \\\n",
       "0       33m²  1 p.       -1    328 600 €   \n",
       "1      122m²  5 p.     4 p.  1 940 000 €   \n",
       "2       68m²  4 p.     3 p.    830 000 €   \n",
       "3       36m²  2 p.     1 p.    524 000 €   \n",
       "4       32m²  1 p.       -1    375 000 €   \n",
       "\n",
       "                                Location  \\\n",
       "0  Paris 19 (75019)|Secrétan - Jaurès...   \n",
       "1         Paris 04 (75004)\\r\\nParis 4ème   \n",
       "2        Paris 10 (75010)\\r\\nParis 10ème   \n",
       "3           Paris 18 (75018)\\r\\nAbbesses   \n",
       "4        Paris 15 (75015)\\r\\nParis 15ème   \n",
       "\n",
       "                                         description  \n",
       "0  Ref de l'annonce\\r\\n:Grand Studio\\r\\nParking\\r...  \n",
       "1  Ref de l'annonce\\r\\n:158\\r\\nParking\\r\\nTerrass...  \n",
       "2  Ref de l'annonce\\r\\n:2679339\\r\\nTerrasse/Balco...  \n",
       "3  Ref de l'annonce\\r\\n:0555\\r\\nEtage du bien\\r\\n...  \n",
       "4  Ref de l'annonce\\r\\n:162373805\\r\\nChauffage\\r\\...  "
      ]
     },
     "execution_count": 8,
     "metadata": {},
     "output_type": "execute_result"
    }
   ],
   "source": [
    "df.head()"
   ]
  },
  {
   "cell_type": "code",
   "execution_count": 10,
   "metadata": {},
   "outputs": [],
   "source": [
    "#Location extract only the district\n",
    "#Superficie parsing\n",
    "#Bedrooms check for -1 values\n",
    "#parsing of description: extract features: Parking, Cellar, floor building, floor apartment, \n",
    "                            #patio/balcony, Heating, nb_bathrooms, Renovated ?\n",
    "#price parsing"
   ]
  },
  {
   "cell_type": "markdown",
   "metadata": {},
   "source": [
    "Let's try to extract the district from the column 'Location'."
   ]
  },
  {
   "cell_type": "code",
   "execution_count": 12,
   "metadata": {},
   "outputs": [
    {
     "data": {
      "text/plain": [
       "75018    481\n",
       "75015    424\n",
       "75016    391\n",
       "75017    322\n",
       "75020    285\n",
       "75013    233\n",
       "75011    209\n",
       "75014    209\n",
       "75019    196\n",
       "75006    178\n",
       "75007    174\n",
       "75008    174\n",
       "75010    166\n",
       "75012    150\n",
       "75005    110\n",
       "75004    107\n",
       "75009    100\n",
       "75003     94\n",
       "75116     89\n",
       "75002     88\n",
       "75001     60\n",
       "Name: Loc_Paris, dtype: int64"
      ]
     },
     "execution_count": 12,
     "metadata": {},
     "output_type": "execute_result"
    }
   ],
   "source": [
    "#Location extract only the district\n",
    "import re\n",
    "df[\"Loc_Paris\"]=df.Location.apply(lambda x: re.findall(r'\\d{5}',x)[0] )\n",
    "df.Loc_Paris.value_counts()"
   ]
  },
  {
   "cell_type": "code",
   "execution_count": 13,
   "metadata": {},
   "outputs": [
    {
     "data": {
      "text/html": [
       "<div>\n",
       "<style scoped>\n",
       "    .dataframe tbody tr th:only-of-type {\n",
       "        vertical-align: middle;\n",
       "    }\n",
       "\n",
       "    .dataframe tbody tr th {\n",
       "        vertical-align: top;\n",
       "    }\n",
       "\n",
       "    .dataframe thead th {\n",
       "        text-align: right;\n",
       "    }\n",
       "</style>\n",
       "<table border=\"1\" class=\"dataframe\">\n",
       "  <thead>\n",
       "    <tr style=\"text-align: right;\">\n",
       "      <th></th>\n",
       "      <th>Superficie</th>\n",
       "      <th>Rooms</th>\n",
       "      <th>Bedrooms</th>\n",
       "      <th>Price</th>\n",
       "      <th>Location</th>\n",
       "      <th>description</th>\n",
       "      <th>Loc_Paris</th>\n",
       "    </tr>\n",
       "  </thead>\n",
       "  <tbody>\n",
       "    <tr>\n",
       "      <th>62</th>\n",
       "      <td>17m²</td>\n",
       "      <td>2 p.</td>\n",
       "      <td>1 p.</td>\n",
       "      <td>365 000 €</td>\n",
       "      <td>Paris 16 (75116)\\r\\nParis</td>\n",
       "      <td>Ref de l'annonce\\r\\n:d2117f\\r\\nChauffage\\r\\n:I...</td>\n",
       "      <td>75116</td>\n",
       "    </tr>\n",
       "    <tr>\n",
       "      <th>117</th>\n",
       "      <td>29m²</td>\n",
       "      <td>1 p.</td>\n",
       "      <td>-1</td>\n",
       "      <td>457 000 €</td>\n",
       "      <td>Paris 16 (75116)\\r\\nParis</td>\n",
       "      <td>Ref de l'annonce\\r\\n:W-02I86Q\\r\\nEtage du bien...</td>\n",
       "      <td>75116</td>\n",
       "    </tr>\n",
       "    <tr>\n",
       "      <th>123</th>\n",
       "      <td>177m²</td>\n",
       "      <td>5 p.</td>\n",
       "      <td>3 p.</td>\n",
       "      <td>1 930 000 €</td>\n",
       "      <td>Paris 16 (75116)\\r\\nParis</td>\n",
       "      <td>Ref de l'annonce\\r\\n:W-02GTRV\\r\\nNombre d'étag...</td>\n",
       "      <td>75116</td>\n",
       "    </tr>\n",
       "    <tr>\n",
       "      <th>124</th>\n",
       "      <td>201m²</td>\n",
       "      <td>6 p.</td>\n",
       "      <td>3 p.</td>\n",
       "      <td>3 150 000 €</td>\n",
       "      <td>Paris 16 (75116)\\r\\nParis</td>\n",
       "      <td>Ref de l'annonce\\r\\n:W-02HFSG\\r\\nEtage du bien...</td>\n",
       "      <td>75116</td>\n",
       "    </tr>\n",
       "    <tr>\n",
       "      <th>125</th>\n",
       "      <td>143m²</td>\n",
       "      <td>4 p.</td>\n",
       "      <td>2 p.</td>\n",
       "      <td>2 665 000 €</td>\n",
       "      <td>Paris 16 (75116)\\r\\nParis</td>\n",
       "      <td>Ref de l'annonce\\r\\n:W-02EE9H\\r\\nChauffage\\r\\n...</td>\n",
       "      <td>75116</td>\n",
       "    </tr>\n",
       "    <tr>\n",
       "      <th>...</th>\n",
       "      <td>...</td>\n",
       "      <td>...</td>\n",
       "      <td>...</td>\n",
       "      <td>...</td>\n",
       "      <td>...</td>\n",
       "      <td>...</td>\n",
       "      <td>...</td>\n",
       "    </tr>\n",
       "    <tr>\n",
       "      <th>4005</th>\n",
       "      <td>420m²</td>\n",
       "      <td>10 p.</td>\n",
       "      <td>5 p.</td>\n",
       "      <td>12 900 000 €</td>\n",
       "      <td>Paris 16 (75116)\\r\\nParis</td>\n",
       "      <td>Ref de l'annonce\\r\\n:Henri Martin\\r\\nRénové\\r\\...</td>\n",
       "      <td>75116</td>\n",
       "    </tr>\n",
       "    <tr>\n",
       "      <th>4047</th>\n",
       "      <td>362m²</td>\n",
       "      <td>8 p.</td>\n",
       "      <td>5 p.</td>\n",
       "      <td>5 950 000 €</td>\n",
       "      <td>Paris 16 (75116)\\r\\nParis</td>\n",
       "      <td>Ref de l'annonce\\r\\n:1018PSN\\r\\nChauffage\\r\\n:...</td>\n",
       "      <td>75116</td>\n",
       "    </tr>\n",
       "    <tr>\n",
       "      <th>4055</th>\n",
       "      <td>201m²</td>\n",
       "      <td>6 p.</td>\n",
       "      <td>3 p.</td>\n",
       "      <td>2 500 000 €</td>\n",
       "      <td>Paris 16 (75116)\\r\\nParis</td>\n",
       "      <td>Ref de l'annonce\\r\\n:577VHFDH\\r\\nChauffage\\r\\n...</td>\n",
       "      <td>75116</td>\n",
       "    </tr>\n",
       "    <tr>\n",
       "      <th>4057</th>\n",
       "      <td>89m²</td>\n",
       "      <td>3 p.</td>\n",
       "      <td>2 p.</td>\n",
       "      <td>1 030 000 €</td>\n",
       "      <td>Paris 16 (75116)\\r\\nParis</td>\n",
       "      <td>Ref de l'annonce\\r\\n:546\\r\\nChauffage\\r\\n:Cent...</td>\n",
       "      <td>75116</td>\n",
       "    </tr>\n",
       "    <tr>\n",
       "      <th>4113</th>\n",
       "      <td>242m²</td>\n",
       "      <td>7 p.</td>\n",
       "      <td>4 p.</td>\n",
       "      <td>2 890 000 €</td>\n",
       "      <td>Paris 16 (75116)\\r\\nParis</td>\n",
       "      <td>Ref de l'annonce\\r\\n:30608640\\r\\nChauffage\\r\\n...</td>\n",
       "      <td>75116</td>\n",
       "    </tr>\n",
       "  </tbody>\n",
       "</table>\n",
       "<p>89 rows × 7 columns</p>\n",
       "</div>"
      ],
      "text/plain": [
       "     Superficie  Rooms Bedrooms         Price                   Location  \\\n",
       "62         17m²   2 p.     1 p.     365 000 €  Paris 16 (75116)\\r\\nParis   \n",
       "117        29m²   1 p.       -1     457 000 €  Paris 16 (75116)\\r\\nParis   \n",
       "123       177m²   5 p.     3 p.   1 930 000 €  Paris 16 (75116)\\r\\nParis   \n",
       "124       201m²   6 p.     3 p.   3 150 000 €  Paris 16 (75116)\\r\\nParis   \n",
       "125       143m²   4 p.     2 p.   2 665 000 €  Paris 16 (75116)\\r\\nParis   \n",
       "...         ...    ...      ...           ...                        ...   \n",
       "4005      420m²  10 p.     5 p.  12 900 000 €  Paris 16 (75116)\\r\\nParis   \n",
       "4047      362m²   8 p.     5 p.   5 950 000 €  Paris 16 (75116)\\r\\nParis   \n",
       "4055      201m²   6 p.     3 p.   2 500 000 €  Paris 16 (75116)\\r\\nParis   \n",
       "4057       89m²   3 p.     2 p.   1 030 000 €  Paris 16 (75116)\\r\\nParis   \n",
       "4113      242m²   7 p.     4 p.   2 890 000 €  Paris 16 (75116)\\r\\nParis   \n",
       "\n",
       "                                            description Loc_Paris  \n",
       "62    Ref de l'annonce\\r\\n:d2117f\\r\\nChauffage\\r\\n:I...     75116  \n",
       "117   Ref de l'annonce\\r\\n:W-02I86Q\\r\\nEtage du bien...     75116  \n",
       "123   Ref de l'annonce\\r\\n:W-02GTRV\\r\\nNombre d'étag...     75116  \n",
       "124   Ref de l'annonce\\r\\n:W-02HFSG\\r\\nEtage du bien...     75116  \n",
       "125   Ref de l'annonce\\r\\n:W-02EE9H\\r\\nChauffage\\r\\n...     75116  \n",
       "...                                                 ...       ...  \n",
       "4005  Ref de l'annonce\\r\\n:Henri Martin\\r\\nRénové\\r\\...     75116  \n",
       "4047  Ref de l'annonce\\r\\n:1018PSN\\r\\nChauffage\\r\\n:...     75116  \n",
       "4055  Ref de l'annonce\\r\\n:577VHFDH\\r\\nChauffage\\r\\n...     75116  \n",
       "4057  Ref de l'annonce\\r\\n:546\\r\\nChauffage\\r\\n:Cent...     75116  \n",
       "4113  Ref de l'annonce\\r\\n:30608640\\r\\nChauffage\\r\\n...     75116  \n",
       "\n",
       "[89 rows x 7 columns]"
      ]
     },
     "execution_count": 13,
     "metadata": {},
     "output_type": "execute_result"
    }
   ],
   "source": [
    "#It seems that some districts are misspelled.\n",
    "df[df.Loc_Paris=='75116']"
   ]
  },
  {
   "cell_type": "code",
   "execution_count": 14,
   "metadata": {},
   "outputs": [
    {
     "data": {
      "text/plain": [
       "75018    481\n",
       "75016    480\n",
       "75015    424\n",
       "75017    322\n",
       "75020    285\n",
       "75013    233\n",
       "75011    209\n",
       "75014    209\n",
       "75019    196\n",
       "75006    178\n",
       "75008    174\n",
       "75007    174\n",
       "75010    166\n",
       "75012    150\n",
       "75005    110\n",
       "75004    107\n",
       "75009    100\n",
       "75003     94\n",
       "75002     88\n",
       "75001     60\n",
       "Name: Loc_Paris, dtype: int64"
      ]
     },
     "execution_count": 14,
     "metadata": {},
     "output_type": "execute_result"
    }
   ],
   "source": [
    "# it should be '75016' instead of '75116'\n",
    "df.Loc_Paris.replace('75116','75016',inplace=True)\n",
    "df.Loc_Paris.value_counts()"
   ]
  },
  {
   "cell_type": "code",
   "execution_count": 15,
   "metadata": {},
   "outputs": [
    {
     "data": {
      "text/plain": [
       "0        33\n",
       "1       122\n",
       "2        68\n",
       "3        36\n",
       "4        32\n",
       "       ... \n",
       "4235    128\n",
       "4236     56\n",
       "4237    155\n",
       "4238    107\n",
       "4239     43\n",
       "Name: m2, Length: 4240, dtype: int64"
      ]
     },
     "execution_count": 15,
     "metadata": {},
     "output_type": "execute_result"
    }
   ],
   "source": [
    "#Superficie parsing\n",
    "df['m2']=df.Superficie.apply(lambda x: int(x.split('m²')[0]))\n",
    "df.m2"
   ]
  },
  {
   "cell_type": "code",
   "execution_count": 16,
   "metadata": {},
   "outputs": [
    {
     "data": {
      "text/plain": [
       "2 p.     1169\n",
       "3 p.      924\n",
       "1 p.      726\n",
       "4 p.      590\n",
       "5 p.      467\n",
       "6 p.      198\n",
       "8 p.       82\n",
       "7 p.       67\n",
       "9 p.        7\n",
       "10 p.       3\n",
       "12 p.       3\n",
       "16 p.       1\n",
       "14 p.       1\n",
       "11 p.       1\n",
       "30 p.       1\n",
       "Name: Rooms, dtype: int64"
      ]
     },
     "execution_count": 16,
     "metadata": {},
     "output_type": "execute_result"
    }
   ],
   "source": [
    "df.Rooms.value_counts()\n",
    "#Outliers spotted"
   ]
  },
  {
   "cell_type": "code",
   "execution_count": 17,
   "metadata": {},
   "outputs": [
    {
     "data": {
      "text/plain": [
       "1 p.     1369\n",
       "2 p.     1031\n",
       "0 p.      735\n",
       "3 p.      676\n",
       "4 p.      356\n",
       "5 p.       60\n",
       "6 p.        9\n",
       "10 p.       1\n",
       "12 p.       1\n",
       "7 p.        1\n",
       "8 p.        1\n",
       "Name: Bedrooms, dtype: int64"
      ]
     },
     "execution_count": 17,
     "metadata": {},
     "output_type": "execute_result"
    }
   ],
   "source": [
    "#Bedrooms check for -1 values\n",
    "df.Bedrooms.replace(\"-1\", \"0 p.\",inplace=True)\n",
    "df.Bedrooms.value_counts()"
   ]
  },
  {
   "cell_type": "code",
   "execution_count": 18,
   "metadata": {},
   "outputs": [],
   "source": [
    "#parsing of description: extract features: Parking, Cellar, floor building, floor apartment, \n",
    "                            #patio/balcony, Heating, nb_bathrooms, Renovated ?\n",
    "    \n",
    "#We create a funciton to extract features from the column description\n",
    "\n",
    "def extract_features(x,feature):\n",
    "    for i in range(len(df)):\n",
    "        if feature in str(x):\n",
    "            return (x.split(f'{feature}\\r\\n:')[1].split('\\r')[0])\n",
    "        else:\n",
    "            return 0\n",
    "\n",
    "    \n",
    "        \n"
   ]
  },
  {
   "cell_type": "code",
   "execution_count": 19,
   "metadata": {},
   "outputs": [],
   "source": [
    "df[\"building_floor\"]=df.description.apply(lambda x: extract_features(x,'bâtiment'))\n",
    "\n",
    "df[\"apartment_floor\"]=df.description.apply(lambda x: extract_features(x,'bien'))\n",
    "\n",
    "df[\"nb_bath\"]=df.description.apply(lambda x: extract_features(x,'bain'))\n",
    "\n",
    "df[\"Cellar\"]=df.description.apply(lambda x: 1 if \"cave\" in str(x).lower() else 0)\n",
    "\n",
    "df[\"balc_patio\"]=df.description.apply(lambda x: extract_features(x,'Balcon'))\n",
    "\n",
    "df[\"Heating\"]=df.description.apply(lambda x: extract_features(x,'Chauffage'))\n",
    "\n",
    "df[\"Renovated\"]=df.description.apply(lambda x: 1 if \"rénové\" in str(x).lower() else 0)\n",
    "\n",
    "df[\"Parking\"]=df.description.apply(lambda x: 1 if \"parking\" in str(x).lower() else 0)"
   ]
  },
  {
   "cell_type": "code",
   "execution_count": 20,
   "metadata": {},
   "outputs": [],
   "source": [
    "#price parsing\n",
    "df['Price']=df.Price.apply(lambda x: x.replace('€',\"\"))"
   ]
  },
  {
   "cell_type": "code",
   "execution_count": 21,
   "metadata": {},
   "outputs": [
    {
     "data": {
      "text/html": [
       "<div>\n",
       "<style scoped>\n",
       "    .dataframe tbody tr th:only-of-type {\n",
       "        vertical-align: middle;\n",
       "    }\n",
       "\n",
       "    .dataframe tbody tr th {\n",
       "        vertical-align: top;\n",
       "    }\n",
       "\n",
       "    .dataframe thead th {\n",
       "        text-align: right;\n",
       "    }\n",
       "</style>\n",
       "<table border=\"1\" class=\"dataframe\">\n",
       "  <thead>\n",
       "    <tr style=\"text-align: right;\">\n",
       "      <th></th>\n",
       "      <th>Superficie</th>\n",
       "      <th>Rooms</th>\n",
       "      <th>Bedrooms</th>\n",
       "      <th>Price</th>\n",
       "      <th>Location</th>\n",
       "      <th>description</th>\n",
       "      <th>Loc_Paris</th>\n",
       "      <th>m2</th>\n",
       "      <th>building_floor</th>\n",
       "      <th>apartment_floor</th>\n",
       "      <th>nb_bath</th>\n",
       "      <th>Cellar</th>\n",
       "      <th>balc_patio</th>\n",
       "      <th>Heating</th>\n",
       "      <th>Renovated</th>\n",
       "      <th>Parking</th>\n",
       "    </tr>\n",
       "  </thead>\n",
       "  <tbody>\n",
       "    <tr>\n",
       "      <th>0</th>\n",
       "      <td>33m²</td>\n",
       "      <td>1 p.</td>\n",
       "      <td>0 p.</td>\n",
       "      <td>328 600</td>\n",
       "      <td>Paris 19 (75019)|Secrétan - Jaurès...</td>\n",
       "      <td>Ref de l'annonce\\r\\n:Grand Studio\\r\\nParking\\r...</td>\n",
       "      <td>75019</td>\n",
       "      <td>33</td>\n",
       "      <td>14</td>\n",
       "      <td>1er</td>\n",
       "      <td>1</td>\n",
       "      <td>0</td>\n",
       "      <td>0</td>\n",
       "      <td>0</td>\n",
       "      <td>0</td>\n",
       "      <td>1</td>\n",
       "    </tr>\n",
       "    <tr>\n",
       "      <th>1</th>\n",
       "      <td>122m²</td>\n",
       "      <td>5 p.</td>\n",
       "      <td>4 p.</td>\n",
       "      <td>1 940 000</td>\n",
       "      <td>Paris 04 (75004)\\r\\nParis 4ème</td>\n",
       "      <td>Ref de l'annonce\\r\\n:158\\r\\nParking\\r\\nTerrass...</td>\n",
       "      <td>75004</td>\n",
       "      <td>122</td>\n",
       "      <td>4</td>\n",
       "      <td>2e</td>\n",
       "      <td>1</td>\n",
       "      <td>1</td>\n",
       "      <td>Terrasse</td>\n",
       "      <td>0</td>\n",
       "      <td>0</td>\n",
       "      <td>1</td>\n",
       "    </tr>\n",
       "    <tr>\n",
       "      <th>2</th>\n",
       "      <td>68m²</td>\n",
       "      <td>4 p.</td>\n",
       "      <td>3 p.</td>\n",
       "      <td>830 000</td>\n",
       "      <td>Paris 10 (75010)\\r\\nParis 10ème</td>\n",
       "      <td>Ref de l'annonce\\r\\n:2679339\\r\\nTerrasse/Balco...</td>\n",
       "      <td>75010</td>\n",
       "      <td>68</td>\n",
       "      <td>3</td>\n",
       "      <td>0</td>\n",
       "      <td>1</td>\n",
       "      <td>0</td>\n",
       "      <td>Terrasse</td>\n",
       "      <td>0</td>\n",
       "      <td>0</td>\n",
       "      <td>0</td>\n",
       "    </tr>\n",
       "    <tr>\n",
       "      <th>3</th>\n",
       "      <td>36m²</td>\n",
       "      <td>2 p.</td>\n",
       "      <td>1 p.</td>\n",
       "      <td>524 000</td>\n",
       "      <td>Paris 18 (75018)\\r\\nAbbesses</td>\n",
       "      <td>Ref de l'annonce\\r\\n:0555\\r\\nEtage du bien\\r\\n...</td>\n",
       "      <td>75018</td>\n",
       "      <td>36</td>\n",
       "      <td>0</td>\n",
       "      <td>2e</td>\n",
       "      <td>1</td>\n",
       "      <td>1</td>\n",
       "      <td>0</td>\n",
       "      <td>0</td>\n",
       "      <td>0</td>\n",
       "      <td>0</td>\n",
       "    </tr>\n",
       "    <tr>\n",
       "      <th>4</th>\n",
       "      <td>32m²</td>\n",
       "      <td>1 p.</td>\n",
       "      <td>0 p.</td>\n",
       "      <td>375 000</td>\n",
       "      <td>Paris 15 (75015)\\r\\nParis 15ème</td>\n",
       "      <td>Ref de l'annonce\\r\\n:162373805\\r\\nChauffage\\r\\...</td>\n",
       "      <td>75015</td>\n",
       "      <td>32</td>\n",
       "      <td>9</td>\n",
       "      <td>8e</td>\n",
       "      <td>0</td>\n",
       "      <td>1</td>\n",
       "      <td>0</td>\n",
       "      <td>Au gaz</td>\n",
       "      <td>0</td>\n",
       "      <td>0</td>\n",
       "    </tr>\n",
       "  </tbody>\n",
       "</table>\n",
       "</div>"
      ],
      "text/plain": [
       "  Superficie Rooms Bedrooms       Price  \\\n",
       "0       33m²  1 p.     0 p.    328 600    \n",
       "1      122m²  5 p.     4 p.  1 940 000    \n",
       "2       68m²  4 p.     3 p.    830 000    \n",
       "3       36m²  2 p.     1 p.    524 000    \n",
       "4       32m²  1 p.     0 p.    375 000    \n",
       "\n",
       "                                Location  \\\n",
       "0  Paris 19 (75019)|Secrétan - Jaurès...   \n",
       "1         Paris 04 (75004)\\r\\nParis 4ème   \n",
       "2        Paris 10 (75010)\\r\\nParis 10ème   \n",
       "3           Paris 18 (75018)\\r\\nAbbesses   \n",
       "4        Paris 15 (75015)\\r\\nParis 15ème   \n",
       "\n",
       "                                         description Loc_Paris   m2  \\\n",
       "0  Ref de l'annonce\\r\\n:Grand Studio\\r\\nParking\\r...     75019   33   \n",
       "1  Ref de l'annonce\\r\\n:158\\r\\nParking\\r\\nTerrass...     75004  122   \n",
       "2  Ref de l'annonce\\r\\n:2679339\\r\\nTerrasse/Balco...     75010   68   \n",
       "3  Ref de l'annonce\\r\\n:0555\\r\\nEtage du bien\\r\\n...     75018   36   \n",
       "4  Ref de l'annonce\\r\\n:162373805\\r\\nChauffage\\r\\...     75015   32   \n",
       "\n",
       "  building_floor apartment_floor nb_bath  Cellar balc_patio Heating  \\\n",
       "0             14             1er       1       0          0       0   \n",
       "1              4              2e       1       1   Terrasse       0   \n",
       "2              3               0       1       0   Terrasse       0   \n",
       "3              0              2e       1       1          0       0   \n",
       "4              9              8e       0       1          0  Au gaz   \n",
       "\n",
       "   Renovated  Parking  \n",
       "0          0        1  \n",
       "1          0        1  \n",
       "2          0        0  \n",
       "3          0        0  \n",
       "4          0        0  "
      ]
     },
     "execution_count": 21,
     "metadata": {},
     "output_type": "execute_result"
    }
   ],
   "source": [
    "df.head()"
   ]
  },
  {
   "cell_type": "markdown",
   "metadata": {},
   "source": [
    "Now that we have done a lot of feature Engineering and Data cleaning, I think it could be interesting to explore the values of the different features of the dataframe."
   ]
  },
  {
   "cell_type": "code",
   "execution_count": 22,
   "metadata": {},
   "outputs": [
    {
     "data": {
      "text/plain": [
       "75018    481\n",
       "75016    480\n",
       "75015    424\n",
       "75017    322\n",
       "75020    285\n",
       "75013    233\n",
       "75011    209\n",
       "75014    209\n",
       "75019    196\n",
       "75006    178\n",
       "75008    174\n",
       "75007    174\n",
       "75010    166\n",
       "75012    150\n",
       "75005    110\n",
       "75004    107\n",
       "75009    100\n",
       "75003     94\n",
       "75002     88\n",
       "75001     60\n",
       "Name: Loc_Paris, dtype: int64"
      ]
     },
     "execution_count": 22,
     "metadata": {},
     "output_type": "execute_result"
    }
   ],
   "source": [
    "#Loc_Paris\n",
    "df.Loc_Paris.value_counts()"
   ]
  },
  {
   "cell_type": "code",
   "execution_count": 23,
   "metadata": {},
   "outputs": [
    {
     "data": {
      "text/plain": [
       "6       1141\n",
       "0       1117\n",
       "5        539\n",
       "7        356\n",
       "4        239\n",
       "8        203\n",
       "3        170\n",
       "9        101\n",
       "10        77\n",
       "2         60\n",
       "14        50\n",
       "1         43\n",
       "11        38\n",
       "12        29\n",
       "15        10\n",
       "31        10\n",
       "13         9\n",
       "30         9\n",
       "32         7\n",
       "16         6\n",
       "17         5\n",
       "29         4\n",
       "22         3\n",
       "18         3\n",
       "1900       2\n",
       "27         2\n",
       "28         2\n",
       "26         1\n",
       "19         1\n",
       "33         1\n",
       "20         1\n",
       "21         1\n",
       "Name: building_floor, dtype: int64"
      ]
     },
     "execution_count": 23,
     "metadata": {},
     "output_type": "execute_result"
    }
   ],
   "source": [
    "#building_floor\n",
    "df.building_floor.value_counts()"
   ]
  },
  {
   "cell_type": "markdown",
   "metadata": {},
   "source": [
    "The 0 values correspond to missing values. \n",
    "Indeed it seems that for 1117 property advertisements did not specified the number of floors of the building. To deal with missing values we can do 3 things:\n",
    "1.Delete the rows with missing values\n",
    "2.Delete the column\n",
    "3.Impute the mean number of floors for each district. \n",
    "I tried the first and the third solution and it seems that the best one is the first one."
   ]
  },
  {
   "cell_type": "code",
   "execution_count": null,
   "metadata": {},
   "outputs": [],
   "source": [
    "#df.building_floor=df.groupby('Loc_Paris').building_floor.transform(lambda x: x.replace(0,int(x.median()))).apply(lambda x: int(x))\n",
    "#df.building_floor.value_counts()"
   ]
  },
  {
   "cell_type": "code",
   "execution_count": 24,
   "metadata": {},
   "outputs": [
    {
     "data": {
      "text/plain": [
       "6     1141\n",
       "5      539\n",
       "7      356\n",
       "4      239\n",
       "8      203\n",
       "3      170\n",
       "9      101\n",
       "10      77\n",
       "2       60\n",
       "14      50\n",
       "1       43\n",
       "11      38\n",
       "12      29\n",
       "15      10\n",
       "31      10\n",
       "30       9\n",
       "13       9\n",
       "32       7\n",
       "16       6\n",
       "17       5\n",
       "29       4\n",
       "18       3\n",
       "22       3\n",
       "27       2\n",
       "28       2\n",
       "26       1\n",
       "21       1\n",
       "20       1\n",
       "33       1\n",
       "19       1\n",
       "Name: building_floor, dtype: int64"
      ]
     },
     "execution_count": 24,
     "metadata": {},
     "output_type": "execute_result"
    }
   ],
   "source": [
    "#Drop the columns where we do not know the number of floors of the building.\n",
    "df=df[~(df.building_floor==0)]\n",
    "#Drop the rows with 1900 floors, because this is not possible\n",
    "df=df[~(df.building_floor=='1900')]\n",
    "df.building_floor.value_counts()"
   ]
  },
  {
   "cell_type": "code",
   "execution_count": 25,
   "metadata": {},
   "outputs": [
    {
     "data": {
      "text/plain": [
       "0         546\n",
       "1er       531\n",
       "2e        470\n",
       "4e        400\n",
       "3e        384\n",
       "5e        321\n",
       "6e        233\n",
       "7e         99\n",
       "8e         49\n",
       "9e         29\n",
       "10e        11\n",
       "15e         8\n",
       "11e         8\n",
       "18e         6\n",
       "12e         5\n",
       "13e         4\n",
       "30e         2\n",
       "29e         2\n",
       "19e         1\n",
       "25e         1\n",
       "20e         1\n",
       "17e         1\n",
       "1900e       1\n",
       "21e         1\n",
       "32e         1\n",
       "24e         1\n",
       "16e         1\n",
       "28e         1\n",
       "32767e      1\n",
       "23e         1\n",
       "22e         1\n",
       "Name: apartment_floor, dtype: int64"
      ]
     },
     "execution_count": 25,
     "metadata": {},
     "output_type": "execute_result"
    }
   ],
   "source": [
    "df.apartment_floor.value_counts()"
   ]
  },
  {
   "cell_type": "markdown",
   "metadata": {},
   "source": [
    "Some rows with wrong values such as '32767' or '1900e' or '1930e'. We should drop them.\n",
    "Same problem that with the building floor, it seems that for 546 property advertisements did not specified at which floor the apartment is located in the building. We will use the same method."
   ]
  },
  {
   "cell_type": "code",
   "execution_count": null,
   "metadata": {},
   "outputs": [],
   "source": [
    "#Imputation\n",
    "#df.apartment_floor=df.groupby('Loc_Paris').apartment_floor.transform(lambda x: x.replace(0,x.value_counts().idxmax()))\n",
    "#Replace the remaining 0 by the most frequent occurences in the all districts\n",
    "#df.apartment_floor=df.apartment_floor.transform(lambda x: x.replace(0,df.apartment_floor.value_counts().idxmax()))\n",
    "#df.apartment_floor.value_counts()"
   ]
  },
  {
   "cell_type": "code",
   "execution_count": 27,
   "metadata": {},
   "outputs": [
    {
     "data": {
      "text/plain": [
       "1er    531\n",
       "2e     470\n",
       "4e     400\n",
       "3e     384\n",
       "5e     321\n",
       "6e     233\n",
       "7e      99\n",
       "8e      49\n",
       "9e      29\n",
       "10e     11\n",
       "11e      8\n",
       "15e      8\n",
       "18e      6\n",
       "12e      5\n",
       "13e      4\n",
       "30e      2\n",
       "29e      2\n",
       "19e      1\n",
       "25e      1\n",
       "22e      1\n",
       "20e      1\n",
       "21e      1\n",
       "32e      1\n",
       "17e      1\n",
       "16e      1\n",
       "24e      1\n",
       "28e      1\n",
       "23e      1\n",
       "Name: apartment_floor, dtype: int64"
      ]
     },
     "execution_count": 27,
     "metadata": {},
     "output_type": "execute_result"
    }
   ],
   "source": [
    "#Drop rows with wrong values such as '32767' or '1900e' or '1930e'\n",
    "df=df[~(df.apartment_floor=='1900e')]\n",
    "df=df[~(df.apartment_floor=='32767e')]\n",
    "df=df[~(df.apartment_floor=='1930e')]\n",
    "df=df[~(df.apartment_floor==0)]\n",
    "df.apartment_floor.value_counts()"
   ]
  },
  {
   "cell_type": "code",
   "execution_count": 28,
   "metadata": {},
   "outputs": [
    {
     "data": {
      "text/plain": [
       "array([0, 1], dtype=int64)"
      ]
     },
     "execution_count": 28,
     "metadata": {},
     "output_type": "execute_result"
    }
   ],
   "source": [
    "df.Cellar.unique()"
   ]
  },
  {
   "cell_type": "code",
   "execution_count": 29,
   "metadata": {},
   "outputs": [
    {
     "data": {
      "text/plain": [
       "array([0, 'Terrasse', 'Balcon', 'Terrasse, balcon'], dtype=object)"
      ]
     },
     "execution_count": 29,
     "metadata": {},
     "output_type": "execute_result"
    }
   ],
   "source": [
    "df.balc_patio.unique()"
   ]
  },
  {
   "cell_type": "code",
   "execution_count": 31,
   "metadata": {},
   "outputs": [],
   "source": [
    "#replace 0 values with Unknown since we do  not know what chauffage is used\n",
    "df.Heating=df.Heating.apply(lambda x: str(x).replace('0','Unknown'))"
   ]
  },
  {
   "cell_type": "code",
   "execution_count": 32,
   "metadata": {},
   "outputs": [
    {
     "data": {
      "text/plain": [
       "0    1974\n",
       "1     599\n",
       "Name: Heating_Central, dtype: int64"
      ]
     },
     "execution_count": 32,
     "metadata": {},
     "output_type": "execute_result"
    }
   ],
   "source": [
    "#Create two new features for Chauffage: \"individuel\" and \"Central\", since both are the most important classes\n",
    "df['Heating_Central']=df.Heating.apply(lambda x: 1 if 'Central' in str(x) else 0)\n",
    "df['Heating_Individual']=df.Heating.apply(lambda x: 1 if 'Individuel' in str(x) else 0)\n",
    "df.Heating_Central.value_counts()\n"
   ]
  },
  {
   "cell_type": "code",
   "execution_count": 33,
   "metadata": {},
   "outputs": [
    {
     "data": {
      "text/plain": [
       "0    2249\n",
       "1     324\n",
       "Name: Parking, dtype: int64"
      ]
     },
     "execution_count": 33,
     "metadata": {},
     "output_type": "execute_result"
    }
   ],
   "source": [
    "df.Parking.value_counts()"
   ]
  },
  {
   "cell_type": "code",
   "execution_count": 34,
   "metadata": {},
   "outputs": [],
   "source": [
    "#Drop the rows with unknown for m2 feature\n",
    "df=df[~(df.m2==-1)]"
   ]
  },
  {
   "cell_type": "code",
   "execution_count": 35,
   "metadata": {},
   "outputs": [
    {
     "data": {
      "text/plain": [
       "Index(['Superficie', 'Rooms', 'Bedrooms', 'Price', 'Location', 'description',\n",
       "       'Loc_Paris', 'm2', 'building_floor', 'apartment_floor', 'nb_bath',\n",
       "       'Cellar', 'balc_patio', 'Heating', 'Renovated', 'Parking',\n",
       "       'Heating_Central', 'Heating_Individual'],\n",
       "      dtype='object')"
      ]
     },
     "execution_count": 35,
     "metadata": {},
     "output_type": "execute_result"
    }
   ],
   "source": [
    "df.columns"
   ]
  },
  {
   "cell_type": "markdown",
   "metadata": {},
   "source": [
    "Now let us do some more Feature Engineering with the \"Price\" column, the \"district in Paris\", the \"apartment floor\" and I will create another feature that could be interesting \"Last floor\". I think this feature can have an impact on the price. I will verify this assumption in the Exploratory Data Analysis."
   ]
  },
  {
   "cell_type": "code",
   "execution_count": 36,
   "metadata": {},
   "outputs": [],
   "source": [
    "df=df[~(df.Price=='Nous consulter')]\n",
    "#I want the column price to be numeric\n",
    "df['Price_int']=df.Price.apply(lambda x: int(x.strip().replace(' ','')))\n",
    "\n",
    "#I Want the column Loc_Paris to be treated as a categorical variable\n",
    "df['Loc_Paris']=df.Loc_Paris.apply(lambda x: str(x))\n",
    "#transform the feature loc_Paris \n",
    "df.Loc_Paris=df.Loc_Paris.apply(lambda x: int(x)-75000)\n",
    "\n",
    "#transform apartment floor into a numerical feature\n",
    "df['apartment_floor']=df.apartment_floor.apply(lambda x: int(x.replace('e','').replace('r','')))\n",
    "\n",
    "#Let us create one other feature that could be interesting: 'Last_etage'\n",
    "df['Last_floor']= df.apply(lambda x: 1 if x.building_floor==x.apartment_floor else 0,axis=1)\n",
    "\n",
    "# transforming the feature nb_bain to categorical\n",
    "df['nb_bath']=df.nb_bath.apply(lambda x: str(x))"
   ]
  },
  {
   "cell_type": "code",
   "execution_count": 37,
   "metadata": {},
   "outputs": [],
   "source": [
    "df.to_csv('House_price_cleaned.csv',index=False)"
   ]
  },
  {
   "cell_type": "code",
   "execution_count": null,
   "metadata": {},
   "outputs": [],
   "source": []
  }
 ],
 "metadata": {
  "kernelspec": {
   "display_name": "Python 3",
   "language": "python",
   "name": "python3"
  },
  "language_info": {
   "codemirror_mode": {
    "name": "ipython",
    "version": 3
   },
   "file_extension": ".py",
   "mimetype": "text/x-python",
   "name": "python",
   "nbconvert_exporter": "python",
   "pygments_lexer": "ipython3",
   "version": "3.6.10"
  }
 },
 "nbformat": 4,
 "nbformat_minor": 4
}
