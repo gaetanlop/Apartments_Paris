{
 "cells": [
  {
   "cell_type": "code",
   "execution_count": 1,
   "metadata": {},
   "outputs": [],
   "source": [
    "import pandas as pd"
   ]
  },
  {
   "cell_type": "code",
   "execution_count": 4,
   "metadata": {},
   "outputs": [
    {
     "name": "stderr",
     "output_type": "stream",
     "text": [
      "b'Skipping line 22911: expected 16 fields, saw 17\\nSkipping line 26301: expected 16 fields, saw 18\\n'\n",
      "C:\\Users\\gaeta\\anaconda3\\lib\\site-packages\\IPython\\core\\interactiveshell.py:3063: DtypeWarning: Columns (2,4,7,11,14) have mixed types.Specify dtype option on import or set low_memory=False.\n",
      "  interactivity=interactivity, compiler=compiler, result=result)\n"
     ]
    }
   ],
   "source": [
    "df=pd.read_csv('airbnb_Paris.csv',error_bad_lines=False)"
   ]
  },
  {
   "cell_type": "code",
   "execution_count": 5,
   "metadata": {},
   "outputs": [
    {
     "data": {
      "text/html": [
       "<div>\n",
       "<style scoped>\n",
       "    .dataframe tbody tr th:only-of-type {\n",
       "        vertical-align: middle;\n",
       "    }\n",
       "\n",
       "    .dataframe tbody tr th {\n",
       "        vertical-align: top;\n",
       "    }\n",
       "\n",
       "    .dataframe thead th {\n",
       "        text-align: right;\n",
       "    }\n",
       "</style>\n",
       "<table border=\"1\" class=\"dataframe\">\n",
       "  <thead>\n",
       "    <tr style=\"text-align: right;\">\n",
       "      <th></th>\n",
       "      <th>id</th>\n",
       "      <th>name</th>\n",
       "      <th>host_id</th>\n",
       "      <th>host_name</th>\n",
       "      <th>neighbourhood_group</th>\n",
       "      <th>neighbourhood</th>\n",
       "      <th>latitude</th>\n",
       "      <th>longitude</th>\n",
       "      <th>room_type</th>\n",
       "      <th>price</th>\n",
       "      <th>minimum_nights</th>\n",
       "      <th>number_of_reviews</th>\n",
       "      <th>last_review</th>\n",
       "      <th>reviews_per_month</th>\n",
       "      <th>calculated_host_listings_count</th>\n",
       "      <th>availability_365;;</th>\n",
       "    </tr>\n",
       "  </thead>\n",
       "  <tbody>\n",
       "    <tr>\n",
       "      <th>0</th>\n",
       "      <td>2577</td>\n",
       "      <td>Loft for 4 by Canal Saint Martin</td>\n",
       "      <td>2827</td>\n",
       "      <td>Karine</td>\n",
       "      <td>NaN</td>\n",
       "      <td>Entrepôt</td>\n",
       "      <td>48.86993</td>\n",
       "      <td>2.36251</td>\n",
       "      <td>Entire home/apt</td>\n",
       "      <td>125.0</td>\n",
       "      <td>3.0</td>\n",
       "      <td>1</td>\n",
       "      <td>2019-01-02</td>\n",
       "      <td>0.06</td>\n",
       "      <td>1</td>\n",
       "      <td>365;;</td>\n",
       "    </tr>\n",
       "    <tr>\n",
       "      <th>1</th>\n",
       "      <td>3109</td>\n",
       "      <td>zen and calm</td>\n",
       "      <td>3631</td>\n",
       "      <td>Anne</td>\n",
       "      <td>NaN</td>\n",
       "      <td>Observatoire</td>\n",
       "      <td>48.83349</td>\n",
       "      <td>2.31852</td>\n",
       "      <td>Entire home/apt</td>\n",
       "      <td>60.0</td>\n",
       "      <td>2.0</td>\n",
       "      <td>9</td>\n",
       "      <td>2019-10-24</td>\n",
       "      <td>0.21</td>\n",
       "      <td>1</td>\n",
       "      <td>365;;</td>\n",
       "    </tr>\n",
       "    <tr>\n",
       "      <th>2</th>\n",
       "      <td>4890</td>\n",
       "      <td>Quiet Historic &amp; Cute  +Free Cruise</td>\n",
       "      <td>6792</td>\n",
       "      <td>Jennifer Of Cobblestone</td>\n",
       "      <td>NaN</td>\n",
       "      <td>Temple</td>\n",
       "      <td>48.86409</td>\n",
       "      <td>2.35651</td>\n",
       "      <td>Entire home/apt</td>\n",
       "      <td>100.0</td>\n",
       "      <td>4.0</td>\n",
       "      <td>22</td>\n",
       "      <td>2017-04-30</td>\n",
       "      <td>0.21</td>\n",
       "      <td>1</td>\n",
       "      <td>55;;</td>\n",
       "    </tr>\n",
       "    <tr>\n",
       "      <th>3</th>\n",
       "      <td>5396</td>\n",
       "      <td>Explore the heart of old Paris</td>\n",
       "      <td>7903</td>\n",
       "      <td>Borzou</td>\n",
       "      <td>NaN</td>\n",
       "      <td>Hôtel-de-Ville</td>\n",
       "      <td>48.85100</td>\n",
       "      <td>2.35869</td>\n",
       "      <td>Entire home/apt</td>\n",
       "      <td>115.0</td>\n",
       "      <td>1.0</td>\n",
       "      <td>221</td>\n",
       "      <td>2020-05-26</td>\n",
       "      <td>1.66</td>\n",
       "      <td>1</td>\n",
       "      <td>90;;</td>\n",
       "    </tr>\n",
       "    <tr>\n",
       "      <th>4</th>\n",
       "      <td>7397</td>\n",
       "      <td>MARAIS - 2ROOMS APT - 2/4 PEOPLE</td>\n",
       "      <td>2626</td>\n",
       "      <td>Franck</td>\n",
       "      <td>NaN</td>\n",
       "      <td>Hôtel-de-Ville</td>\n",
       "      <td>48.85758</td>\n",
       "      <td>2.35275</td>\n",
       "      <td>Entire home/apt</td>\n",
       "      <td>119.0</td>\n",
       "      <td>10.0</td>\n",
       "      <td>268</td>\n",
       "      <td>2020-02-26</td>\n",
       "      <td>2.39</td>\n",
       "      <td>2</td>\n",
       "      <td>288;;</td>\n",
       "    </tr>\n",
       "  </tbody>\n",
       "</table>\n",
       "</div>"
      ],
      "text/plain": [
       "     id                                 name host_id                host_name  \\\n",
       "0  2577     Loft for 4 by Canal Saint Martin    2827                   Karine   \n",
       "1  3109                         zen and calm    3631                     Anne   \n",
       "2  4890  Quiet Historic & Cute  +Free Cruise    6792  Jennifer Of Cobblestone   \n",
       "3  5396       Explore the heart of old Paris    7903                   Borzou   \n",
       "4  7397     MARAIS - 2ROOMS APT - 2/4 PEOPLE    2626                   Franck   \n",
       "\n",
       "  neighbourhood_group   neighbourhood  latitude longitude        room_type  \\\n",
       "0                 NaN        Entrepôt  48.86993   2.36251  Entire home/apt   \n",
       "1                 NaN    Observatoire  48.83349   2.31852  Entire home/apt   \n",
       "2                 NaN          Temple  48.86409   2.35651  Entire home/apt   \n",
       "3                 NaN  Hôtel-de-Ville  48.85100   2.35869  Entire home/apt   \n",
       "4                 NaN  Hôtel-de-Ville  48.85758   2.35275  Entire home/apt   \n",
       "\n",
       "   price  minimum_nights number_of_reviews last_review  reviews_per_month  \\\n",
       "0  125.0             3.0                 1  2019-01-02               0.06   \n",
       "1   60.0             2.0                 9  2019-10-24               0.21   \n",
       "2  100.0             4.0                22  2017-04-30               0.21   \n",
       "3  115.0             1.0               221  2020-05-26               1.66   \n",
       "4  119.0            10.0               268  2020-02-26               2.39   \n",
       "\n",
       "  calculated_host_listings_count availability_365;;  \n",
       "0                              1              365;;  \n",
       "1                              1              365;;  \n",
       "2                              1               55;;  \n",
       "3                              1               90;;  \n",
       "4                              2              288;;  "
      ]
     },
     "execution_count": 5,
     "metadata": {},
     "output_type": "execute_result"
    }
   ],
   "source": [
    "df.head()"
   ]
  },
  {
   "cell_type": "code",
   "execution_count": 6,
   "metadata": {},
   "outputs": [
    {
     "data": {
      "text/plain": [
       "array(['Entire home/apt', nan, 'Private room', 'Hotel room',\n",
       "       'Shared room', '90', '95', '60', '110', '25', '57'], dtype=object)"
      ]
     },
     "execution_count": 6,
     "metadata": {},
     "output_type": "execute_result"
    }
   ],
   "source": [
    "df.room_type.unique()"
   ]
  },
  {
   "cell_type": "code",
   "execution_count": 7,
   "metadata": {},
   "outputs": [
    {
     "data": {
      "text/plain": [
       "(67344, 16)"
      ]
     },
     "execution_count": 7,
     "metadata": {},
     "output_type": "execute_result"
    }
   ],
   "source": [
    "df.shape"
   ]
  },
  {
   "cell_type": "code",
   "execution_count": 8,
   "metadata": {},
   "outputs": [],
   "source": [
    "example=\"https://towardsdatascience.com/predicting-airbnb-prices-with-machine-learning-and-location-data-5c1e033d0a5a#3efa\""
   ]
  },
  {
   "cell_type": "code",
   "execution_count": null,
   "metadata": {},
   "outputs": [],
   "source": []
  }
 ],
 "metadata": {
  "kernelspec": {
   "display_name": "Python 3",
   "language": "python",
   "name": "python3"
  },
  "language_info": {
   "codemirror_mode": {
    "name": "ipython",
    "version": 3
   },
   "file_extension": ".py",
   "mimetype": "text/x-python",
   "name": "python",
   "nbconvert_exporter": "python",
   "pygments_lexer": "ipython3",
   "version": "3.7.6"
  }
 },
 "nbformat": 4,
 "nbformat_minor": 2
}
