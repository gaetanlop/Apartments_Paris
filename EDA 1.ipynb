{
 "cells": [
  {
   "cell_type": "code",
   "execution_count": 205,
   "metadata": {},
   "outputs": [],
   "source": [
    "import pandas as pd\n",
    "import numpy as np\n",
    "import matplotlib.pyplot as plt\n",
    "import seaborn as sns"
   ]
  },
  {
   "cell_type": "code",
   "execution_count": 206,
   "metadata": {},
   "outputs": [],
   "source": [
    "df=pd.read_csv('House_price_cleaned.csv')"
   ]
  },
  {
   "cell_type": "code",
   "execution_count": 207,
   "metadata": {},
   "outputs": [
    {
     "data": {
      "text/plain": [
       "(2559, 18)"
      ]
     },
     "execution_count": 207,
     "metadata": {},
     "output_type": "execute_result"
    }
   ],
   "source": [
    "df.shape"
   ]
  },
  {
   "cell_type": "code",
   "execution_count": 208,
   "metadata": {},
   "outputs": [
    {
     "name": "stdout",
     "output_type": "stream",
     "text": [
      "<class 'pandas.core.frame.DataFrame'>\n",
      "RangeIndex: 2559 entries, 0 to 2558\n",
      "Data columns (total 18 columns):\n",
      " #   Column                Non-Null Count  Dtype \n",
      "---  ------                --------------  ----- \n",
      " 0   Superficie            2559 non-null   object\n",
      " 1   Rooms                 2559 non-null   object\n",
      " 2   Bedrooms              2559 non-null   object\n",
      " 3   Price                 2559 non-null   object\n",
      " 4   Location              2559 non-null   object\n",
      " 5   description           2559 non-null   object\n",
      " 6   Loc_Paris             2559 non-null   int64 \n",
      " 7   m2                    2559 non-null   int64 \n",
      " 8   nb_bat                2559 non-null   int64 \n",
      " 9   nb_good               2559 non-null   object\n",
      " 10  nb_bain               2559 non-null   int64 \n",
      " 11  Cave                  2559 non-null   int64 \n",
      " 12  balc_terr             2559 non-null   object\n",
      " 13  Chauffage             2559 non-null   object\n",
      " 14  Rénové                2559 non-null   int64 \n",
      " 15  Parking               2559 non-null   int64 \n",
      " 16  Chauffage_Central     2559 non-null   int64 \n",
      " 17  Chauffage_Individuel  2559 non-null   int64 \n",
      "dtypes: int64(9), object(9)\n",
      "memory usage: 360.0+ KB\n"
     ]
    }
   ],
   "source": [
    "df.info()"
   ]
  },
  {
   "cell_type": "code",
   "execution_count": 209,
   "metadata": {},
   "outputs": [],
   "source": [
    "df=df[~(df.Price=='Nous consulter')]"
   ]
  },
  {
   "cell_type": "code",
   "execution_count": 210,
   "metadata": {},
   "outputs": [],
   "source": [
    "#I want the column price to be numeric\n",
    "df['Price_int']=df.Price.apply(lambda x: int(x.strip().replace(' ','')))\n",
    "#I Want the column Loc_Paris to be treated as a categorical variable\n",
    "df['Loc_Paris']=df.Loc_Paris.apply(lambda x: str(x))\n",
    "\n"
   ]
  },
  {
   "cell_type": "code",
   "execution_count": 211,
   "metadata": {},
   "outputs": [
    {
     "data": {
      "text/plain": [
       "1     529\n",
       "2     467\n",
       "4     397\n",
       "3     382\n",
       "5     321\n",
       "6     231\n",
       "7      99\n",
       "8      48\n",
       "9      27\n",
       "10     11\n",
       "15      8\n",
       "11      8\n",
       "18      5\n",
       "12      5\n",
       "13      4\n",
       "29      2\n",
       "30      2\n",
       "28      1\n",
       "24      1\n",
       "22      1\n",
       "20      1\n",
       "16      1\n",
       "25      1\n",
       "17      1\n",
       "19      1\n",
       "21      1\n",
       "23      1\n",
       "32      1\n",
       "Name: nb_good, dtype: int64"
      ]
     },
     "execution_count": 211,
     "metadata": {},
     "output_type": "execute_result"
    }
   ],
   "source": [
    "#transform nb_good into a numerical feature\n",
    "df['nb_good']=df.nb_good.apply(lambda x: int(x.replace('e','').replace('r','')))\n",
    "df.nb_good.value_counts()"
   ]
  },
  {
   "cell_type": "code",
   "execution_count": 212,
   "metadata": {},
   "outputs": [
    {
     "data": {
      "text/plain": [
       "0    2094\n",
       "1     463\n",
       "Name: Last_etage, dtype: int64"
      ]
     },
     "execution_count": 212,
     "metadata": {},
     "output_type": "execute_result"
    }
   ],
   "source": [
    "#Let us create one other feature that could be interesting: 'Last_etage'\n",
    "\n",
    "df['Last_etage']= df.apply(lambda x: 1 if x.nb_bat==x.nb_good else 0,axis=1)\n",
    "df.Last_etage.value_counts()"
   ]
  },
  {
   "cell_type": "code",
   "execution_count": 213,
   "metadata": {},
   "outputs": [
    {
     "name": "stdout",
     "output_type": "stream",
     "text": [
      "<class 'pandas.core.frame.DataFrame'>\n",
      "Int64Index: 2557 entries, 0 to 2558\n",
      "Data columns (total 20 columns):\n",
      " #   Column                Non-Null Count  Dtype \n",
      "---  ------                --------------  ----- \n",
      " 0   Superficie            2557 non-null   object\n",
      " 1   Rooms                 2557 non-null   object\n",
      " 2   Bedrooms              2557 non-null   object\n",
      " 3   Price                 2557 non-null   object\n",
      " 4   Location              2557 non-null   object\n",
      " 5   description           2557 non-null   object\n",
      " 6   Loc_Paris             2557 non-null   object\n",
      " 7   m2                    2557 non-null   int64 \n",
      " 8   nb_bat                2557 non-null   int64 \n",
      " 9   nb_good               2557 non-null   int64 \n",
      " 10  nb_bain               2557 non-null   int64 \n",
      " 11  Cave                  2557 non-null   int64 \n",
      " 12  balc_terr             2557 non-null   object\n",
      " 13  Chauffage             2557 non-null   object\n",
      " 14  Rénové                2557 non-null   int64 \n",
      " 15  Parking               2557 non-null   int64 \n",
      " 16  Chauffage_Central     2557 non-null   int64 \n",
      " 17  Chauffage_Individuel  2557 non-null   int64 \n",
      " 18  Price_int             2557 non-null   int64 \n",
      " 19  Last_etage            2557 non-null   int64 \n",
      "dtypes: int64(11), object(9)\n",
      "memory usage: 419.5+ KB\n"
     ]
    }
   ],
   "source": [
    "df.info()"
   ]
  },
  {
   "cell_type": "code",
   "execution_count": 214,
   "metadata": {},
   "outputs": [
    {
     "data": {
      "text/html": [
       "<div>\n",
       "<style scoped>\n",
       "    .dataframe tbody tr th:only-of-type {\n",
       "        vertical-align: middle;\n",
       "    }\n",
       "\n",
       "    .dataframe tbody tr th {\n",
       "        vertical-align: top;\n",
       "    }\n",
       "\n",
       "    .dataframe thead th {\n",
       "        text-align: right;\n",
       "    }\n",
       "</style>\n",
       "<table border=\"1\" class=\"dataframe\">\n",
       "  <thead>\n",
       "    <tr style=\"text-align: right;\">\n",
       "      <th></th>\n",
       "      <th>m2</th>\n",
       "      <th>nb_bat</th>\n",
       "      <th>nb_good</th>\n",
       "      <th>nb_bain</th>\n",
       "      <th>Cave</th>\n",
       "      <th>Rénové</th>\n",
       "      <th>Parking</th>\n",
       "      <th>Chauffage_Central</th>\n",
       "      <th>Chauffage_Individuel</th>\n",
       "      <th>Price_int</th>\n",
       "      <th>Last_etage</th>\n",
       "    </tr>\n",
       "  </thead>\n",
       "  <tbody>\n",
       "    <tr>\n",
       "      <th>count</th>\n",
       "      <td>2557.000000</td>\n",
       "      <td>2557.000000</td>\n",
       "      <td>2557.000000</td>\n",
       "      <td>2557.000000</td>\n",
       "      <td>2557.000000</td>\n",
       "      <td>2557.000000</td>\n",
       "      <td>2557.000000</td>\n",
       "      <td>2557.000000</td>\n",
       "      <td>2557.000000</td>\n",
       "      <td>2.557000e+03</td>\n",
       "      <td>2557.000000</td>\n",
       "    </tr>\n",
       "    <tr>\n",
       "      <th>mean</th>\n",
       "      <td>74.482597</td>\n",
       "      <td>6.705905</td>\n",
       "      <td>3.673445</td>\n",
       "      <td>0.675401</td>\n",
       "      <td>0.583887</td>\n",
       "      <td>0.082127</td>\n",
       "      <td>0.124364</td>\n",
       "      <td>0.232695</td>\n",
       "      <td>0.216269</td>\n",
       "      <td>1.025951e+06</td>\n",
       "      <td>0.181072</td>\n",
       "    </tr>\n",
       "    <tr>\n",
       "      <th>std</th>\n",
       "      <td>57.248089</td>\n",
       "      <td>3.586994</td>\n",
       "      <td>2.815973</td>\n",
       "      <td>0.748128</td>\n",
       "      <td>0.493009</td>\n",
       "      <td>0.274613</td>\n",
       "      <td>0.330061</td>\n",
       "      <td>0.422632</td>\n",
       "      <td>0.411780</td>\n",
       "      <td>1.052927e+06</td>\n",
       "      <td>0.385153</td>\n",
       "    </tr>\n",
       "    <tr>\n",
       "      <th>min</th>\n",
       "      <td>4.000000</td>\n",
       "      <td>1.000000</td>\n",
       "      <td>1.000000</td>\n",
       "      <td>0.000000</td>\n",
       "      <td>0.000000</td>\n",
       "      <td>0.000000</td>\n",
       "      <td>0.000000</td>\n",
       "      <td>0.000000</td>\n",
       "      <td>0.000000</td>\n",
       "      <td>5.000000e+04</td>\n",
       "      <td>0.000000</td>\n",
       "    </tr>\n",
       "    <tr>\n",
       "      <th>25%</th>\n",
       "      <td>36.000000</td>\n",
       "      <td>5.000000</td>\n",
       "      <td>2.000000</td>\n",
       "      <td>0.000000</td>\n",
       "      <td>0.000000</td>\n",
       "      <td>0.000000</td>\n",
       "      <td>0.000000</td>\n",
       "      <td>0.000000</td>\n",
       "      <td>0.000000</td>\n",
       "      <td>4.400000e+05</td>\n",
       "      <td>0.000000</td>\n",
       "    </tr>\n",
       "    <tr>\n",
       "      <th>50%</th>\n",
       "      <td>60.000000</td>\n",
       "      <td>6.000000</td>\n",
       "      <td>3.000000</td>\n",
       "      <td>1.000000</td>\n",
       "      <td>1.000000</td>\n",
       "      <td>0.000000</td>\n",
       "      <td>0.000000</td>\n",
       "      <td>0.000000</td>\n",
       "      <td>0.000000</td>\n",
       "      <td>7.200000e+05</td>\n",
       "      <td>0.000000</td>\n",
       "    </tr>\n",
       "    <tr>\n",
       "      <th>75%</th>\n",
       "      <td>94.000000</td>\n",
       "      <td>7.000000</td>\n",
       "      <td>5.000000</td>\n",
       "      <td>1.000000</td>\n",
       "      <td>1.000000</td>\n",
       "      <td>0.000000</td>\n",
       "      <td>0.000000</td>\n",
       "      <td>0.000000</td>\n",
       "      <td>0.000000</td>\n",
       "      <td>1.249000e+06</td>\n",
       "      <td>0.000000</td>\n",
       "    </tr>\n",
       "    <tr>\n",
       "      <th>max</th>\n",
       "      <td>855.000000</td>\n",
       "      <td>33.000000</td>\n",
       "      <td>32.000000</td>\n",
       "      <td>10.000000</td>\n",
       "      <td>1.000000</td>\n",
       "      <td>1.000000</td>\n",
       "      <td>1.000000</td>\n",
       "      <td>1.000000</td>\n",
       "      <td>1.000000</td>\n",
       "      <td>1.970000e+07</td>\n",
       "      <td>1.000000</td>\n",
       "    </tr>\n",
       "  </tbody>\n",
       "</table>\n",
       "</div>"
      ],
      "text/plain": [
       "                m2       nb_bat      nb_good      nb_bain         Cave  \\\n",
       "count  2557.000000  2557.000000  2557.000000  2557.000000  2557.000000   \n",
       "mean     74.482597     6.705905     3.673445     0.675401     0.583887   \n",
       "std      57.248089     3.586994     2.815973     0.748128     0.493009   \n",
       "min       4.000000     1.000000     1.000000     0.000000     0.000000   \n",
       "25%      36.000000     5.000000     2.000000     0.000000     0.000000   \n",
       "50%      60.000000     6.000000     3.000000     1.000000     1.000000   \n",
       "75%      94.000000     7.000000     5.000000     1.000000     1.000000   \n",
       "max     855.000000    33.000000    32.000000    10.000000     1.000000   \n",
       "\n",
       "            Rénové      Parking  Chauffage_Central  Chauffage_Individuel  \\\n",
       "count  2557.000000  2557.000000        2557.000000           2557.000000   \n",
       "mean      0.082127     0.124364           0.232695              0.216269   \n",
       "std       0.274613     0.330061           0.422632              0.411780   \n",
       "min       0.000000     0.000000           0.000000              0.000000   \n",
       "25%       0.000000     0.000000           0.000000              0.000000   \n",
       "50%       0.000000     0.000000           0.000000              0.000000   \n",
       "75%       0.000000     0.000000           0.000000              0.000000   \n",
       "max       1.000000     1.000000           1.000000              1.000000   \n",
       "\n",
       "          Price_int   Last_etage  \n",
       "count  2.557000e+03  2557.000000  \n",
       "mean   1.025951e+06     0.181072  \n",
       "std    1.052927e+06     0.385153  \n",
       "min    5.000000e+04     0.000000  \n",
       "25%    4.400000e+05     0.000000  \n",
       "50%    7.200000e+05     0.000000  \n",
       "75%    1.249000e+06     0.000000  \n",
       "max    1.970000e+07     1.000000  "
      ]
     },
     "execution_count": 214,
     "metadata": {},
     "output_type": "execute_result"
    }
   ],
   "source": [
    "df.describe()"
   ]
  },
  {
   "cell_type": "code",
   "execution_count": 215,
   "metadata": {},
   "outputs": [
    {
     "data": {
      "text/plain": [
       "Index(['Superficie', 'Rooms', 'Bedrooms', 'Price', 'Location', 'description',\n",
       "       'Loc_Paris', 'm2', 'nb_bat', 'nb_good', 'nb_bain', 'Cave', 'balc_terr',\n",
       "       'Chauffage', 'Rénové', 'Parking', 'Chauffage_Central',\n",
       "       'Chauffage_Individuel', 'Price_int', 'Last_etage'],\n",
       "      dtype='object')"
      ]
     },
     "execution_count": 215,
     "metadata": {},
     "output_type": "execute_result"
    }
   ],
   "source": [
    "df.columns"
   ]
  },
  {
   "cell_type": "code",
   "execution_count": 216,
   "metadata": {},
   "outputs": [],
   "source": [
    "#numerical variables\n",
    "num=['m2','Price_int']\n",
    "\n",
    "#categorical variables\n",
    "cat=['Rooms', 'Bedrooms','nb_bat', 'nb_good', 'nb_bain','nb_good','balc_terr','Loc_Paris','Cave','Rénové', 'Parking', 'Chauffage_Central',\n",
    "       'Chauffage_Individuel','Last_etage']"
   ]
  },
  {
   "cell_type": "code",
   "execution_count": 217,
   "metadata": {},
   "outputs": [
    {
     "data": {
      "image/png": "[encoded data removed]",
      "text/plain": [
       "<Figure size 432x288 with 1 Axes>"
      ]
     },
     "metadata": {
      "needs_background": "light"
     },
     "output_type": "display_data"
    },
    {
     "data": {
      "image/png": "[encoded data removed]",
      "text/plain": [
       "<Figure size 432x288 with 1 Axes>"
      ]
     },
     "metadata": {
      "needs_background": "light"
     },
     "output_type": "display_data"
    }
   ],
   "source": [
    "for i in num:\n",
    "    df[i].hist()\n",
    "    plt.title(f'{i} distribution')\n",
    "    plt.show()"
   ]
  },
  {
   "cell_type": "code",
   "execution_count": 218,
   "metadata": {},
   "outputs": [],
   "source": [
    "#m2, Price_int are not normally distributed. We will need to normalize to use some regression techniques."
   ]
  },
  {
   "cell_type": "code",
   "execution_count": 219,
   "metadata": {},
   "outputs": [
    {
     "data": {
      "text/plain": [
       "<matplotlib.axes._subplots.AxesSubplot at 0x22bf4277c88>"
      ]
     },
     "execution_count": 219,
     "metadata": {},
     "output_type": "execute_result"
    },
    {
     "data": {
      "image/png": "[encoded data removed]",
      "text/plain": [
       "<Figure size 432x288 with 1 Axes>"
      ]
     },
     "metadata": {
      "needs_background": "light"
     },
     "output_type": "display_data"
    }
   ],
   "source": [
    "df.boxplot(column='m2')"
   ]
  },
  {
   "cell_type": "code",
   "execution_count": 220,
   "metadata": {},
   "outputs": [],
   "source": [
    "# It seems that there are a lot of outliers\n"
   ]
  },
  {
   "cell_type": "code",
   "execution_count": 221,
   "metadata": {},
   "outputs": [
    {
     "data": {
      "text/plain": [
       "<matplotlib.axes._subplots.AxesSubplot at 0x22bf3d10088>"
      ]
     },
     "execution_count": 221,
     "metadata": {},
     "output_type": "execute_result"
    },
    {
     "data": {
      "image/png": "[encoded data removed]",
      "text/plain": [
       "<Figure size 432x288 with 1 Axes>"
      ]
     },
     "metadata": {
      "needs_background": "light"
     },
     "output_type": "display_data"
    }
   ],
   "source": [
    "df.boxplot(column='Price_int')"
   ]
  },
  {
   "cell_type": "code",
   "execution_count": 222,
   "metadata": {},
   "outputs": [],
   "source": [
    "# lot of outliers too"
   ]
  },
  {
   "cell_type": "code",
   "execution_count": 223,
   "metadata": {},
   "outputs": [
    {
     "data": {
      "text/plain": [
       "<matplotlib.axes._subplots.AxesSubplot at 0x22bf3a8f9c8>"
      ]
     },
     "execution_count": 223,
     "metadata": {},
     "output_type": "execute_result"
    },
    {
     "data": {
      "image/png": "[encoded data removed]",
      "text/plain": [
       "<Figure size 864x648 with 2 Axes>"
      ]
     },
     "metadata": {
      "needs_background": "light"
     },
     "output_type": "display_data"
    }
   ],
   "source": [
    "plt.figure(figsize=(12,9))\n",
    "sns.heatmap(df[num].corr(), annot=True)"
   ]
  },
  {
   "cell_type": "code",
   "execution_count": 224,
   "metadata": {},
   "outputs": [],
   "source": [
    "#Check what is correlated with what to avoid multicolinearity"
   ]
  },
  {
   "cell_type": "code",
   "execution_count": 225,
   "metadata": {},
   "outputs": [
    {
     "data": {
      "text/plain": [
       "<matplotlib.axes._subplots.AxesSubplot at 0x22bf469bd08>"
      ]
     },
     "execution_count": 225,
     "metadata": {},
     "output_type": "execute_result"
    },
    {
     "data": {
      "image/png": "[encoded data removed]",
      "text/plain": [
       "<Figure size 432x288 with 1 Axes>"
      ]
     },
     "metadata": {
      "needs_background": "light"
     },
     "output_type": "display_data"
    }
   ],
   "source": [
    "sns.regplot(x='m2',y='Price_int',data=df)"
   ]
  },
  {
   "cell_type": "code",
   "execution_count": 226,
   "metadata": {},
   "outputs": [
    {
     "data": {
      "text/plain": [
       "<matplotlib.axes._subplots.AxesSubplot at 0x22bf4498508>"
      ]
     },
     "execution_count": 226,
     "metadata": {},
     "output_type": "execute_result"
    },
    {
     "data": {
      "image/png": "[encoded data removed]",
      "text/plain": [
       "<Figure size 432x288 with 1 Axes>"
      ]
     },
     "metadata": {
      "needs_background": "light"
     },
     "output_type": "display_data"
    }
   ],
   "source": [
    "sns.boxplot(x='Rénové',y='Price_int',data=df)"
   ]
  },
  {
   "cell_type": "code",
   "execution_count": 227,
   "metadata": {},
   "outputs": [],
   "source": [
    "#Now let us check categorical variables"
   ]
  },
  {
   "cell_type": "code",
   "execution_count": 228,
   "metadata": {},
   "outputs": [
    {
     "data": {
      "image/png": "[encoded data removed]",
      "text/plain": [
       "<Figure size 432x288 with 1 Axes>"
      ]
     },
     "metadata": {
      "needs_background": "light"
     },
     "output_type": "display_data"
    },
    {
     "data": {
      "image/png": "[encoded data removed]",
      "text/plain": [
       "<Figure size 432x288 with 1 Axes>"
      ]
     },
     "metadata": {
      "needs_background": "light"
     },
     "output_type": "display_data"
    },
    {
     "data": {
      "image/png": "[encoded data removed]",
      "text/plain": [
       "<Figure size 432x288 with 1 Axes>"
      ]
     },
     "metadata": {
      "needs_background": "light"
     },
     "output_type": "display_data"
    },
    {
     "data": {
      "image/png": "[encoded data removed]",
      "text/plain": [
       "<Figure size 432x288 with 1 Axes>"
      ]
     },
     "metadata": {
      "needs_background": "light"
     },
     "output_type": "display_data"
    },
    {
     "data": {
      "image/png": "[encoded data removed]",
      "text/plain": [
       "<Figure size 432x288 with 1 Axes>"
      ]
     },
     "metadata": {
      "needs_background": "light"
     },
     "output_type": "display_data"
    },
    {
     "data": {
      "image/png": "[encoded data removed]",
      "text/plain": [
       "<Figure size 432x288 with 1 Axes>"
      ]
     },
     "metadata": {
      "needs_background": "light"
     },
     "output_type": "display_data"
    },
    {
     "data": {
      "image/png": "[encoded data removed]",
      "text/plain": [
       "<Figure size 432x288 with 1 Axes>"
      ]
     },
     "metadata": {
      "needs_background": "light"
     },
     "output_type": "display_data"
    },
    {
     "data": {
      "image/png": "[encoded data removed]",
      "text/plain": [
       "<Figure size 432x288 with 1 Axes>"
      ]
     },
     "metadata": {
      "needs_background": "light"
     },
     "output_type": "display_data"
    },
    {
     "data": {
      "image/png": "[encoded data removed]",
      "text/plain": [
       "<Figure size 432x288 with 1 Axes>"
      ]
     },
     "metadata": {
      "needs_background": "light"
     },
     "output_type": "display_data"
    },
    {
     "data": {
      "image/png": "[encoded data removed]",
      "text/plain": [
       "<Figure size 432x288 with 1 Axes>"
      ]
     },
     "metadata": {
      "needs_background": "light"
     },
     "output_type": "display_data"
    },
    {
     "data": {
      "image/png": "[encoded data removed]",
      "text/plain": [
       "<Figure size 432x288 with 1 Axes>"
      ]
     },
     "metadata": {
      "needs_background": "light"
     },
     "output_type": "display_data"
    },
    {
     "data": {
      "image/png": "[encoded data removed]",
      "text/plain": [
       "<Figure size 432x288 with 1 Axes>"
      ]
     },
     "metadata": {
      "needs_background": "light"
     },
     "output_type": "display_data"
    },
    {
     "data": {
      "image/png": "[encoded data removed]",
      "text/plain": [
       "<Figure size 432x288 with 1 Axes>"
      ]
     },
     "metadata": {
      "needs_background": "light"
     },
     "output_type": "display_data"
    },
    {
     "data": {
      "image/png": "[encoded data removed]",
      "text/plain": [
       "<Figure size 432x288 with 1 Axes>"
      ]
     },
     "metadata": {
      "needs_background": "light"
     },
     "output_type": "display_data"
    }
   ],
   "source": [
    "for i in cat:\n",
    "    plt.title(f' value count for {i}')\n",
    "    sns.barplot(x=df[i].value_counts().index,y=df[i].value_counts())\n",
    "    plt.show()"
   ]
  },
  {
   "cell_type": "code",
   "execution_count": 229,
   "metadata": {},
   "outputs": [
    {
     "data": {
      "text/html": [
       "<div>\n",
       "<style scoped>\n",
       "    .dataframe tbody tr th:only-of-type {\n",
       "        vertical-align: middle;\n",
       "    }\n",
       "\n",
       "    .dataframe tbody tr th {\n",
       "        vertical-align: top;\n",
       "    }\n",
       "\n",
       "    .dataframe thead th {\n",
       "        text-align: right;\n",
       "    }\n",
       "</style>\n",
       "<table border=\"1\" class=\"dataframe\">\n",
       "  <thead>\n",
       "    <tr style=\"text-align: right;\">\n",
       "      <th></th>\n",
       "      <th>Price_int</th>\n",
       "    </tr>\n",
       "    <tr>\n",
       "      <th>Rooms</th>\n",
       "      <th></th>\n",
       "    </tr>\n",
       "  </thead>\n",
       "  <tbody>\n",
       "    <tr>\n",
       "      <th>1 p.</th>\n",
       "      <td>2.951775e+05</td>\n",
       "    </tr>\n",
       "    <tr>\n",
       "      <th>2 p.</th>\n",
       "      <td>5.422652e+05</td>\n",
       "    </tr>\n",
       "    <tr>\n",
       "      <th>3 p.</th>\n",
       "      <td>8.779515e+05</td>\n",
       "    </tr>\n",
       "    <tr>\n",
       "      <th>4 p.</th>\n",
       "      <td>1.255668e+06</td>\n",
       "    </tr>\n",
       "    <tr>\n",
       "      <th>5 p.</th>\n",
       "      <td>1.831784e+06</td>\n",
       "    </tr>\n",
       "    <tr>\n",
       "      <th>6 p.</th>\n",
       "      <td>2.513897e+06</td>\n",
       "    </tr>\n",
       "    <tr>\n",
       "      <th>9 p.</th>\n",
       "      <td>2.937567e+06</td>\n",
       "    </tr>\n",
       "    <tr>\n",
       "      <th>7 p.</th>\n",
       "      <td>3.514078e+06</td>\n",
       "    </tr>\n",
       "    <tr>\n",
       "      <th>14 p.</th>\n",
       "      <td>3.680000e+06</td>\n",
       "    </tr>\n",
       "    <tr>\n",
       "      <th>8 p.</th>\n",
       "      <td>5.508125e+06</td>\n",
       "    </tr>\n",
       "    <tr>\n",
       "      <th>16 p.</th>\n",
       "      <td>1.970000e+07</td>\n",
       "    </tr>\n",
       "  </tbody>\n",
       "</table>\n",
       "</div>"
      ],
      "text/plain": [
       "          Price_int\n",
       "Rooms              \n",
       "1 p.   2.951775e+05\n",
       "2 p.   5.422652e+05\n",
       "3 p.   8.779515e+05\n",
       "4 p.   1.255668e+06\n",
       "5 p.   1.831784e+06\n",
       "6 p.   2.513897e+06\n",
       "9 p.   2.937567e+06\n",
       "7 p.   3.514078e+06\n",
       "14 p.  3.680000e+06\n",
       "8 p.   5.508125e+06\n",
       "16 p.  1.970000e+07"
      ]
     },
     "execution_count": 229,
     "metadata": {},
     "output_type": "execute_result"
    }
   ],
   "source": [
    "pd.pivot_table(df,index='Rooms',values='Price_int',).sort_values('Price_int')"
   ]
  },
  {
   "cell_type": "code",
   "execution_count": 230,
   "metadata": {},
   "outputs": [
    {
     "data": {
      "text/html": [
       "<div>\n",
       "<style scoped>\n",
       "    .dataframe tbody tr th:only-of-type {\n",
       "        vertical-align: middle;\n",
       "    }\n",
       "\n",
       "    .dataframe tbody tr th {\n",
       "        vertical-align: top;\n",
       "    }\n",
       "\n",
       "    .dataframe thead th {\n",
       "        text-align: right;\n",
       "    }\n",
       "</style>\n",
       "<table border=\"1\" class=\"dataframe\">\n",
       "  <thead>\n",
       "    <tr style=\"text-align: right;\">\n",
       "      <th></th>\n",
       "      <th>Price_int</th>\n",
       "    </tr>\n",
       "    <tr>\n",
       "      <th>Bedrooms</th>\n",
       "      <th></th>\n",
       "    </tr>\n",
       "  </thead>\n",
       "  <tbody>\n",
       "    <tr>\n",
       "      <th>0 p.</th>\n",
       "      <td>3.165774e+05</td>\n",
       "    </tr>\n",
       "    <tr>\n",
       "      <th>1 p.</th>\n",
       "      <td>5.883017e+05</td>\n",
       "    </tr>\n",
       "    <tr>\n",
       "      <th>2 p.</th>\n",
       "      <td>1.023746e+06</td>\n",
       "    </tr>\n",
       "    <tr>\n",
       "      <th>3 p.</th>\n",
       "      <td>1.593779e+06</td>\n",
       "    </tr>\n",
       "    <tr>\n",
       "      <th>4 p.</th>\n",
       "      <td>2.482516e+06</td>\n",
       "    </tr>\n",
       "    <tr>\n",
       "      <th>5 p.</th>\n",
       "      <td>3.706214e+06</td>\n",
       "    </tr>\n",
       "    <tr>\n",
       "      <th>6 p.</th>\n",
       "      <td>4.380500e+06</td>\n",
       "    </tr>\n",
       "    <tr>\n",
       "      <th>12 p.</th>\n",
       "      <td>1.970000e+07</td>\n",
       "    </tr>\n",
       "  </tbody>\n",
       "</table>\n",
       "</div>"
      ],
      "text/plain": [
       "             Price_int\n",
       "Bedrooms              \n",
       "0 p.      3.165774e+05\n",
       "1 p.      5.883017e+05\n",
       "2 p.      1.023746e+06\n",
       "3 p.      1.593779e+06\n",
       "4 p.      2.482516e+06\n",
       "5 p.      3.706214e+06\n",
       "6 p.      4.380500e+06\n",
       "12 p.     1.970000e+07"
      ]
     },
     "execution_count": 230,
     "metadata": {},
     "output_type": "execute_result"
    }
   ],
   "source": [
    "pd.pivot_table(df,index='Bedrooms',values='Price_int',).sort_values('Price_int')"
   ]
  },
  {
   "cell_type": "code",
   "execution_count": 231,
   "metadata": {},
   "outputs": [
    {
     "data": {
      "text/html": [
       "<div>\n",
       "<style scoped>\n",
       "    .dataframe tbody tr th:only-of-type {\n",
       "        vertical-align: middle;\n",
       "    }\n",
       "\n",
       "    .dataframe tbody tr th {\n",
       "        vertical-align: top;\n",
       "    }\n",
       "\n",
       "    .dataframe thead th {\n",
       "        text-align: right;\n",
       "    }\n",
       "</style>\n",
       "<table border=\"1\" class=\"dataframe\">\n",
       "  <thead>\n",
       "    <tr style=\"text-align: right;\">\n",
       "      <th></th>\n",
       "      <th>Price_int</th>\n",
       "    </tr>\n",
       "    <tr>\n",
       "      <th>nb_bain</th>\n",
       "      <th></th>\n",
       "    </tr>\n",
       "  </thead>\n",
       "  <tbody>\n",
       "    <tr>\n",
       "      <th>0</th>\n",
       "      <td>6.627754e+05</td>\n",
       "    </tr>\n",
       "    <tr>\n",
       "      <th>1</th>\n",
       "      <td>1.083208e+06</td>\n",
       "    </tr>\n",
       "    <tr>\n",
       "      <th>2</th>\n",
       "      <td>2.349214e+06</td>\n",
       "    </tr>\n",
       "    <tr>\n",
       "      <th>3</th>\n",
       "      <td>3.656344e+06</td>\n",
       "    </tr>\n",
       "    <tr>\n",
       "      <th>4</th>\n",
       "      <td>4.417500e+06</td>\n",
       "    </tr>\n",
       "    <tr>\n",
       "      <th>5</th>\n",
       "      <td>5.950000e+06</td>\n",
       "    </tr>\n",
       "    <tr>\n",
       "      <th>10</th>\n",
       "      <td>7.166000e+06</td>\n",
       "    </tr>\n",
       "  </tbody>\n",
       "</table>\n",
       "</div>"
      ],
      "text/plain": [
       "            Price_int\n",
       "nb_bain              \n",
       "0        6.627754e+05\n",
       "1        1.083208e+06\n",
       "2        2.349214e+06\n",
       "3        3.656344e+06\n",
       "4        4.417500e+06\n",
       "5        5.950000e+06\n",
       "10       7.166000e+06"
      ]
     },
     "execution_count": 231,
     "metadata": {},
     "output_type": "execute_result"
    }
   ],
   "source": [
    "pd.pivot_table(df,index='nb_bain',values='Price_int',).sort_values('Price_int')"
   ]
  },
  {
   "cell_type": "code",
   "execution_count": 232,
   "metadata": {},
   "outputs": [
    {
     "data": {
      "text/html": [
       "<div>\n",
       "<style scoped>\n",
       "    .dataframe tbody tr th:only-of-type {\n",
       "        vertical-align: middle;\n",
       "    }\n",
       "\n",
       "    .dataframe tbody tr th {\n",
       "        vertical-align: top;\n",
       "    }\n",
       "\n",
       "    .dataframe thead th {\n",
       "        text-align: right;\n",
       "    }\n",
       "</style>\n",
       "<table border=\"1\" class=\"dataframe\">\n",
       "  <thead>\n",
       "    <tr style=\"text-align: right;\">\n",
       "      <th></th>\n",
       "      <th></th>\n",
       "      <th>Price_int</th>\n",
       "    </tr>\n",
       "    <tr>\n",
       "      <th>Last_etage</th>\n",
       "      <th>Rooms</th>\n",
       "      <th></th>\n",
       "    </tr>\n",
       "  </thead>\n",
       "  <tbody>\n",
       "    <tr>\n",
       "      <th>1</th>\n",
       "      <th>1 p.</th>\n",
       "      <td>2.194715e+05</td>\n",
       "    </tr>\n",
       "    <tr>\n",
       "      <th>0</th>\n",
       "      <th>1 p.</th>\n",
       "      <td>3.359817e+05</td>\n",
       "    </tr>\n",
       "    <tr>\n",
       "      <th>1</th>\n",
       "      <th>2 p.</th>\n",
       "      <td>5.246397e+05</td>\n",
       "    </tr>\n",
       "    <tr>\n",
       "      <th rowspan=\"2\" valign=\"top\">0</th>\n",
       "      <th>2 p.</th>\n",
       "      <td>5.461783e+05</td>\n",
       "    </tr>\n",
       "    <tr>\n",
       "      <th>3 p.</th>\n",
       "      <td>8.631554e+05</td>\n",
       "    </tr>\n",
       "    <tr>\n",
       "      <th>1</th>\n",
       "      <th>3 p.</th>\n",
       "      <td>9.799023e+05</td>\n",
       "    </tr>\n",
       "    <tr>\n",
       "      <th>0</th>\n",
       "      <th>4 p.</th>\n",
       "      <td>1.219177e+06</td>\n",
       "    </tr>\n",
       "    <tr>\n",
       "      <th rowspan=\"2\" valign=\"top\">1</th>\n",
       "      <th>4 p.</th>\n",
       "      <td>1.530569e+06</td>\n",
       "    </tr>\n",
       "    <tr>\n",
       "      <th>5 p.</th>\n",
       "      <td>1.830143e+06</td>\n",
       "    </tr>\n",
       "    <tr>\n",
       "      <th>0</th>\n",
       "      <th>5 p.</th>\n",
       "      <td>1.832039e+06</td>\n",
       "    </tr>\n",
       "    <tr>\n",
       "      <th>1</th>\n",
       "      <th>6 p.</th>\n",
       "      <td>2.387957e+06</td>\n",
       "    </tr>\n",
       "    <tr>\n",
       "      <th rowspan=\"4\" valign=\"top\">0</th>\n",
       "      <th>6 p.</th>\n",
       "      <td>2.537640e+06</td>\n",
       "    </tr>\n",
       "    <tr>\n",
       "      <th>9 p.</th>\n",
       "      <td>2.937567e+06</td>\n",
       "    </tr>\n",
       "    <tr>\n",
       "      <th>7 p.</th>\n",
       "      <td>3.429196e+06</td>\n",
       "    </tr>\n",
       "    <tr>\n",
       "      <th>14 p.</th>\n",
       "      <td>3.680000e+06</td>\n",
       "    </tr>\n",
       "    <tr>\n",
       "      <th rowspan=\"2\" valign=\"top\">1</th>\n",
       "      <th>7 p.</th>\n",
       "      <td>4.295000e+06</td>\n",
       "    </tr>\n",
       "    <tr>\n",
       "      <th>8 p.</th>\n",
       "      <td>5.350000e+06</td>\n",
       "    </tr>\n",
       "    <tr>\n",
       "      <th rowspan=\"2\" valign=\"top\">0</th>\n",
       "      <th>8 p.</th>\n",
       "      <td>5.530714e+06</td>\n",
       "    </tr>\n",
       "    <tr>\n",
       "      <th>16 p.</th>\n",
       "      <td>1.970000e+07</td>\n",
       "    </tr>\n",
       "  </tbody>\n",
       "</table>\n",
       "</div>"
      ],
      "text/plain": [
       "                     Price_int\n",
       "Last_etage Rooms              \n",
       "1          1 p.   2.194715e+05\n",
       "0          1 p.   3.359817e+05\n",
       "1          2 p.   5.246397e+05\n",
       "0          2 p.   5.461783e+05\n",
       "           3 p.   8.631554e+05\n",
       "1          3 p.   9.799023e+05\n",
       "0          4 p.   1.219177e+06\n",
       "1          4 p.   1.530569e+06\n",
       "           5 p.   1.830143e+06\n",
       "0          5 p.   1.832039e+06\n",
       "1          6 p.   2.387957e+06\n",
       "0          6 p.   2.537640e+06\n",
       "           9 p.   2.937567e+06\n",
       "           7 p.   3.429196e+06\n",
       "           14 p.  3.680000e+06\n",
       "1          7 p.   4.295000e+06\n",
       "           8 p.   5.350000e+06\n",
       "0          8 p.   5.530714e+06\n",
       "           16 p.  1.970000e+07"
      ]
     },
     "execution_count": 232,
     "metadata": {},
     "output_type": "execute_result"
    }
   ],
   "source": [
    "pd.pivot_table(df,index=['Last_etage','Rooms'],values='Price_int',).sort_values('Price_int')"
   ]
  },
  {
   "cell_type": "code",
   "execution_count": 233,
   "metadata": {},
   "outputs": [],
   "source": [
    "# This is weird, I thought that a house at last etage would be more expansive than a house that is not. We need to investigate it a bit further."
   ]
  },
  {
   "cell_type": "code",
   "execution_count": 234,
   "metadata": {},
   "outputs": [
    {
     "name": "stdout",
     "output_type": "stream",
     "text": [
      "Rooms\n",
      "          Price_int\n",
      "Rooms              \n",
      "1 p.   2.951775e+05\n",
      "2 p.   5.422652e+05\n",
      "3 p.   8.779515e+05\n",
      "4 p.   1.255668e+06\n",
      "5 p.   1.831784e+06\n",
      "6 p.   2.513897e+06\n",
      "9 p.   2.937567e+06\n",
      "7 p.   3.514078e+06\n",
      "14 p.  3.680000e+06\n",
      "8 p.   5.508125e+06\n",
      "16 p.  1.970000e+07\n",
      "Bedrooms\n",
      "             Price_int\n",
      "Bedrooms              \n",
      "0 p.      3.165774e+05\n",
      "1 p.      5.883017e+05\n",
      "2 p.      1.023746e+06\n",
      "3 p.      1.593779e+06\n",
      "4 p.      2.482516e+06\n",
      "5 p.      3.706214e+06\n",
      "6 p.      4.380500e+06\n",
      "12 p.     1.970000e+07\n",
      "nb_bat\n",
      "           Price_int\n",
      "nb_bat              \n",
      "14      3.590812e+05\n",
      "29      4.742500e+05\n",
      "22      4.900000e+05\n",
      "28      5.150000e+05\n",
      "31      5.403750e+05\n",
      "27      5.522500e+05\n",
      "17      5.820000e+05\n",
      "20      6.460000e+05\n",
      "32      6.659286e+05\n",
      "18      6.949070e+05\n",
      "15      7.226000e+05\n",
      "30      7.254406e+05\n",
      "33      7.300000e+05\n",
      "16      7.355833e+05\n",
      "21      7.490000e+05\n",
      "13      8.333322e+05\n",
      "26      8.400000e+05\n",
      "2       8.557924e+05\n",
      "3       8.785710e+05\n",
      "12      9.225446e+05\n",
      "4       9.319610e+05\n",
      "11      9.327081e+05\n",
      "1       9.561750e+05\n",
      "10      9.838276e+05\n",
      "5       9.886690e+05\n",
      "8       1.047883e+06\n",
      "9       1.079475e+06\n",
      "6       1.114404e+06\n",
      "7       1.117044e+06\n",
      "19      1.236000e+06\n",
      "nb_good\n",
      "            Price_int\n",
      "nb_good              \n",
      "24       3.670000e+05\n",
      "21       4.280000e+05\n",
      "20       4.600000e+05\n",
      "17       4.935000e+05\n",
      "29       5.070000e+05\n",
      "23       5.150000e+05\n",
      "19       5.310000e+05\n",
      "11       5.668750e+05\n",
      "25       5.830000e+05\n",
      "30       6.525000e+05\n",
      "15       6.849142e+05\n",
      "28       7.300000e+05\n",
      "7        7.583248e+05\n",
      "16       7.920000e+05\n",
      "6        8.348868e+05\n",
      "18       8.534000e+05\n",
      "1        8.929891e+05\n",
      "8        1.007393e+06\n",
      "12       1.023600e+06\n",
      "13       1.088250e+06\n",
      "2        1.093308e+06\n",
      "5        1.128671e+06\n",
      "3        1.130191e+06\n",
      "4        1.132769e+06\n",
      "9        1.138564e+06\n",
      "10       1.415818e+06\n",
      "22       1.470000e+06\n",
      "32       1.600000e+06\n",
      "nb_bain\n",
      "            Price_int\n",
      "nb_bain              \n",
      "0        6.627754e+05\n",
      "1        1.083208e+06\n",
      "2        2.349214e+06\n",
      "3        3.656344e+06\n",
      "4        4.417500e+06\n",
      "5        5.950000e+06\n",
      "10       7.166000e+06\n",
      "nb_good\n",
      "            Price_int\n",
      "nb_good              \n",
      "24       3.670000e+05\n",
      "21       4.280000e+05\n",
      "20       4.600000e+05\n",
      "17       4.935000e+05\n",
      "29       5.070000e+05\n",
      "23       5.150000e+05\n",
      "19       5.310000e+05\n",
      "11       5.668750e+05\n",
      "25       5.830000e+05\n",
      "30       6.525000e+05\n",
      "15       6.849142e+05\n",
      "28       7.300000e+05\n",
      "7        7.583248e+05\n",
      "16       7.920000e+05\n",
      "6        8.348868e+05\n",
      "18       8.534000e+05\n",
      "1        8.929891e+05\n",
      "8        1.007393e+06\n",
      "12       1.023600e+06\n",
      "13       1.088250e+06\n",
      "2        1.093308e+06\n",
      "5        1.128671e+06\n",
      "3        1.130191e+06\n",
      "4        1.132769e+06\n",
      "9        1.138564e+06\n",
      "10       1.415818e+06\n",
      "22       1.470000e+06\n",
      "32       1.600000e+06\n",
      "balc_terr\n",
      "                     Price_int\n",
      "balc_terr                     \n",
      "0                 8.753763e+05\n",
      "Balcon            1.331948e+06\n",
      "Terrasse          1.429833e+06\n",
      "Terrasse, balcon  1.759002e+06\n",
      "Loc_Paris\n",
      "              Price_int\n",
      "Loc_Paris              \n",
      "75019      4.901691e+05\n",
      "75012      6.319334e+05\n",
      "75020      6.469207e+05\n",
      "75018      6.490385e+05\n",
      "75011      6.734547e+05\n",
      "75015      6.889048e+05\n",
      "75001      7.313630e+05\n",
      "75010      7.327268e+05\n",
      "75013      7.886982e+05\n",
      "75002      7.917845e+05\n",
      "75003      9.049181e+05\n",
      "75009      9.900124e+05\n",
      "75014      1.001471e+06\n",
      "75005      1.057538e+06\n",
      "75004      1.111477e+06\n",
      "75017      1.136437e+06\n",
      "75006      1.405612e+06\n",
      "75016      1.692382e+06\n",
      "75007      1.746443e+06\n",
      "75008      1.786760e+06\n",
      "Cave\n",
      "         Price_int\n",
      "Cave              \n",
      "0     8.268988e+05\n",
      "1     1.167807e+06\n",
      "Rénové\n",
      "           Price_int\n",
      "Rénové              \n",
      "0       1.003315e+06\n",
      "1       1.278935e+06\n",
      "Parking\n",
      "            Price_int\n",
      "Parking              \n",
      "0        9.857034e+05\n",
      "1        1.309325e+06\n",
      "Chauffage_Central\n",
      "                      Price_int\n",
      "Chauffage_Central              \n",
      "0                  1.020955e+06\n",
      "1                  1.042423e+06\n",
      "Chauffage_Individuel\n",
      "                         Price_int\n",
      "Chauffage_Individuel              \n",
      "0                     9.801321e+05\n",
      "1                     1.191991e+06\n",
      "Last_etage\n",
      "               Price_int\n",
      "Last_etage              \n",
      "1           8.422005e+05\n",
      "0           1.066579e+06\n"
     ]
    }
   ],
   "source": [
    "for i in cat:\n",
    "    print(i)\n",
    "    print(pd.pivot_table(df,index=i,values='Price_int',).sort_values('Price_int'))"
   ]
  },
  {
   "cell_type": "code",
   "execution_count": 235,
   "metadata": {},
   "outputs": [
    {
     "data": {
      "text/plain": [
       "0       12.702596\n",
       "1       14.478199\n",
       "2       12.834681\n",
       "3       13.521139\n",
       "4       12.755638\n",
       "          ...    \n",
       "2554    14.467836\n",
       "2555    13.567049\n",
       "2556    15.319588\n",
       "2557    14.862830\n",
       "2558    13.340695\n",
       "Name: Price_int, Length: 2557, dtype: float64"
      ]
     },
     "execution_count": 235,
     "metadata": {},
     "output_type": "execute_result"
    }
   ],
   "source": [
    "#take the log of the price\n",
    "df.Price_int=np.log(df.Price_int)\n",
    "df.Price_int"
   ]
  },
  {
   "cell_type": "code",
   "execution_count": 237,
   "metadata": {},
   "outputs": [],
   "source": [
    "#transform the feature loc_Paris \n",
    "df.Loc_Paris=df.Loc_Paris.apply(lambda x: int(x)-75000)"
   ]
  },
  {
   "cell_type": "code",
   "execution_count": 238,
   "metadata": {},
   "outputs": [],
   "source": [
    "df.to_csv('final_data.csv',index=False)"
   ]
  },
  {
   "cell_type": "code",
   "execution_count": null,
   "metadata": {},
   "outputs": [],
   "source": []
  }
 ],
 "metadata": {
  "kernelspec": {
   "display_name": "Python 3",
   "language": "python",
   "name": "python3"
  },
  "language_info": {
   "codemirror_mode": {
    "name": "ipython",
    "version": 3
   },
   "file_extension": ".py",
   "mimetype": "text/x-python",
   "name": "python",
   "nbconvert_exporter": "python",
   "pygments_lexer": "ipython3",
   "version": "3.7.6"
  }
 },
 "nbformat": 4,
 "nbformat_minor": 4
}
