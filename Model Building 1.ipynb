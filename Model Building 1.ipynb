{
 "cells": [
  {
   "cell_type": "code",
   "execution_count": 207,
   "metadata": {},
   "outputs": [],
   "source": [
    "#Imports\n",
    "import pandas as pd\n",
    "import matplotlib.pyplot as plt\n",
    "import numpy as np\n",
    "from sklearn.model_selection import train_test_split\n",
    "from sklearn.metrics import mean_absolute_error\n",
    "from sklearn.ensemble import RandomForestRegressor\n",
    "from sklearn.linear_model import LinearRegression,Lasso,Ridge\n",
    "from sklearn.model_selection import cross_val_score\n",
    "from sklearn.metrics import mean_absolute_error\n"
   ]
  },
  {
   "cell_type": "code",
   "execution_count": 202,
   "metadata": {},
   "outputs": [],
   "source": [
    "df=pd.read_csv('final_data.csv')"
   ]
  },
  {
   "cell_type": "code",
   "execution_count": 203,
   "metadata": {},
   "outputs": [
    {
     "name": "stdout",
     "output_type": "stream",
     "text": [
      "<class 'pandas.core.frame.DataFrame'>\n",
      "RangeIndex: 2211 entries, 0 to 2210\n",
      "Data columns (total 20 columns):\n",
      " #   Column              Non-Null Count  Dtype  \n",
      "---  ------              --------------  -----  \n",
      " 0   Superficie          2211 non-null   object \n",
      " 1   Rooms               2211 non-null   object \n",
      " 2   Bedrooms            2211 non-null   object \n",
      " 3   Price               2211 non-null   object \n",
      " 4   Location            2211 non-null   object \n",
      " 5   description         2211 non-null   object \n",
      " 6   Loc_Paris           2211 non-null   int64  \n",
      " 7   m2                  2211 non-null   float64\n",
      " 8   building_floor      2211 non-null   int64  \n",
      " 9   apartment_floor     2211 non-null   int64  \n",
      " 10  nb_bath             2211 non-null   int64  \n",
      " 11  Cellar              2211 non-null   int64  \n",
      " 12  balc_patio          2211 non-null   object \n",
      " 13  Heating             2211 non-null   object \n",
      " 14  Renovated           2211 non-null   int64  \n",
      " 15  Parking             2211 non-null   int64  \n",
      " 16  Heating_Central     2211 non-null   int64  \n",
      " 17  Heating_Individual  2211 non-null   int64  \n",
      " 18  Price_int           2211 non-null   float64\n",
      " 19  Last_floor          2211 non-null   int64  \n",
      "dtypes: float64(2), int64(10), object(8)\n",
      "memory usage: 345.6+ KB\n"
     ]
    }
   ],
   "source": [
    "df.info()"
   ]
  },
  {
   "cell_type": "markdown",
   "metadata": {},
   "source": [
    "## What will we do ?\n",
    "- Choose relevant columns\n",
    "- get dummy data\n",
    "- train test split\n",
    "- multiple linear regression\n",
    "- lasso regression\n",
    "- random forest\n",
    "- tune hyperparameters\n",
    "- make predictions"
   ]
  },
  {
   "cell_type": "markdown",
   "metadata": {},
   "source": [
    "## Choose relevant columns"
   ]
  },
  {
   "cell_type": "code",
   "execution_count": 204,
   "metadata": {},
   "outputs": [
    {
     "data": {
      "text/plain": [
       "Index(['Superficie', 'Rooms', 'Bedrooms', 'Price', 'Location', 'description',\n",
       "       'Loc_Paris', 'm2', 'building_floor', 'apartment_floor', 'nb_bath',\n",
       "       'Cellar', 'balc_patio', 'Heating', 'Renovated', 'Parking',\n",
       "       'Heating_Central', 'Heating_Individual', 'Price_int', 'Last_floor'],\n",
       "      dtype='object')"
      ]
     },
     "execution_count": 204,
     "metadata": {},
     "output_type": "execute_result"
    }
   ],
   "source": [
    "df.columns"
   ]
  },
  {
   "cell_type": "code",
   "execution_count": 205,
   "metadata": {},
   "outputs": [],
   "source": [
    "df=df[['Rooms', 'Bedrooms','Loc_Paris', 'm2', 'building_floor', 'apartment_floor', 'nb_bath',\n",
    "       'Cellar', 'balc_patio', 'Heating', 'Renovated', 'Parking',\n",
    "       'Heating_Central', 'Heating_Individual', 'Price_int', 'Last_floor']]"
   ]
  },
  {
   "cell_type": "code",
   "execution_count": 206,
   "metadata": {},
   "outputs": [
    {
     "name": "stdout",
     "output_type": "stream",
     "text": [
      "<class 'pandas.core.frame.DataFrame'>\n",
      "RangeIndex: 2211 entries, 0 to 2210\n",
      "Data columns (total 16 columns):\n",
      " #   Column              Non-Null Count  Dtype  \n",
      "---  ------              --------------  -----  \n",
      " 0   Rooms               2211 non-null   object \n",
      " 1   Bedrooms            2211 non-null   object \n",
      " 2   Loc_Paris           2211 non-null   int64  \n",
      " 3   m2                  2211 non-null   float64\n",
      " 4   building_floor      2211 non-null   int64  \n",
      " 5   apartment_floor     2211 non-null   int64  \n",
      " 6   nb_bath             2211 non-null   int64  \n",
      " 7   Cellar              2211 non-null   int64  \n",
      " 8   balc_patio          2211 non-null   object \n",
      " 9   Heating             2211 non-null   object \n",
      " 10  Renovated           2211 non-null   int64  \n",
      " 11  Parking             2211 non-null   int64  \n",
      " 12  Heating_Central     2211 non-null   int64  \n",
      " 13  Heating_Individual  2211 non-null   int64  \n",
      " 14  Price_int           2211 non-null   float64\n",
      " 15  Last_floor          2211 non-null   int64  \n",
      "dtypes: float64(2), int64(10), object(4)\n",
      "memory usage: 276.5+ KB\n"
     ]
    }
   ],
   "source": [
    "df.info()"
   ]
  },
  {
   "cell_type": "markdown",
   "metadata": {},
   "source": [
    "## Dealing with categorical variables"
   ]
  },
  {
   "cell_type": "code",
   "execution_count": 182,
   "metadata": {},
   "outputs": [],
   "source": [
    "#get dummy data\n",
    "df=pd.get_dummies(df)"
   ]
  },
  {
   "cell_type": "code",
   "execution_count": 183,
   "metadata": {},
   "outputs": [
    {
     "name": "stdout",
     "output_type": "stream",
     "text": [
      "<class 'pandas.core.frame.DataFrame'>\n",
      "RangeIndex: 2211 entries, 0 to 2210\n",
      "Data columns (total 40 columns):\n",
      " #   Column                          Non-Null Count  Dtype  \n",
      "---  ------                          --------------  -----  \n",
      " 0   Loc_Paris                       2211 non-null   int64  \n",
      " 1   m2                              2211 non-null   float64\n",
      " 2   building_floor                  2211 non-null   int64  \n",
      " 3   apartment_floor                 2211 non-null   int64  \n",
      " 4   nb_bath                         2211 non-null   int64  \n",
      " 5   Cellar                          2211 non-null   int64  \n",
      " 6   Renovated                       2211 non-null   int64  \n",
      " 7   Parking                         2211 non-null   int64  \n",
      " 8   Heating_Central                 2211 non-null   int64  \n",
      " 9   Heating_Individual              2211 non-null   int64  \n",
      " 10  Price_int                       2211 non-null   float64\n",
      " 11  Last_floor                      2211 non-null   int64  \n",
      " 12  Rooms_1 p.                      2211 non-null   uint8  \n",
      " 13  Rooms_2 p.                      2211 non-null   uint8  \n",
      " 14  Rooms_3 p.                      2211 non-null   uint8  \n",
      " 15  Rooms_4 p.                      2211 non-null   uint8  \n",
      " 16  Rooms_5 p.                      2211 non-null   uint8  \n",
      " 17  Rooms_6 p.                      2211 non-null   uint8  \n",
      " 18  Rooms_7 p.                      2211 non-null   uint8  \n",
      " 19  Bedrooms_0 p.                   2211 non-null   uint8  \n",
      " 20  Bedrooms_1 p.                   2211 non-null   uint8  \n",
      " 21  Bedrooms_2 p.                   2211 non-null   uint8  \n",
      " 22  Bedrooms_3 p.                   2211 non-null   uint8  \n",
      " 23  Bedrooms_4 p.                   2211 non-null   uint8  \n",
      " 24  Bedrooms_5 p.                   2211 non-null   uint8  \n",
      " 25  balc_patio_0                    2211 non-null   uint8  \n",
      " 26  balc_patio_Balcon               2211 non-null   uint8  \n",
      " 27  balc_patio_Terrasse             2211 non-null   uint8  \n",
      " 28  balc_patio_Terrasse, balcon     2211 non-null   uint8  \n",
      " 29  Heating_Au fioul                2211 non-null   uint8  \n",
      " 30  Heating_Au gaz                  2211 non-null   uint8  \n",
      " 31  Heating_Central                 2211 non-null   uint8  \n",
      " 32  Heating_Central, au fioul       2211 non-null   uint8  \n",
      " 33  Heating_Central, au gaz         2211 non-null   uint8  \n",
      " 34  Heating_Central, électrique     2211 non-null   uint8  \n",
      " 35  Heating_Individuel              2211 non-null   uint8  \n",
      " 36  Heating_Individuel, au gaz      2211 non-null   uint8  \n",
      " 37  Heating_Individuel, électrique  2211 non-null   uint8  \n",
      " 38  Heating_Unknown                 2211 non-null   uint8  \n",
      " 39  Heating_électrique              2211 non-null   uint8  \n",
      "dtypes: float64(2), int64(10), uint8(28)\n",
      "memory usage: 267.9 KB\n"
     ]
    }
   ],
   "source": [
    "df.info()"
   ]
  },
  {
   "cell_type": "code",
   "execution_count": 184,
   "metadata": {},
   "outputs": [
    {
     "data": {
      "text/html": [
       "<div>\n",
       "<style scoped>\n",
       "    .dataframe tbody tr th:only-of-type {\n",
       "        vertical-align: middle;\n",
       "    }\n",
       "\n",
       "    .dataframe tbody tr th {\n",
       "        vertical-align: top;\n",
       "    }\n",
       "\n",
       "    .dataframe thead th {\n",
       "        text-align: right;\n",
       "    }\n",
       "</style>\n",
       "<table border=\"1\" class=\"dataframe\">\n",
       "  <thead>\n",
       "    <tr style=\"text-align: right;\">\n",
       "      <th></th>\n",
       "      <th>Loc_Paris</th>\n",
       "      <th>m2</th>\n",
       "      <th>building_floor</th>\n",
       "      <th>apartment_floor</th>\n",
       "      <th>nb_bath</th>\n",
       "      <th>Cellar</th>\n",
       "      <th>Renovated</th>\n",
       "      <th>Parking</th>\n",
       "      <th>Heating_Central</th>\n",
       "      <th>Heating_Individual</th>\n",
       "      <th>...</th>\n",
       "      <th>Heating_Au gaz</th>\n",
       "      <th>Heating_Central</th>\n",
       "      <th>Heating_Central, au fioul</th>\n",
       "      <th>Heating_Central, au gaz</th>\n",
       "      <th>Heating_Central, électrique</th>\n",
       "      <th>Heating_Individuel</th>\n",
       "      <th>Heating_Individuel, au gaz</th>\n",
       "      <th>Heating_Individuel, électrique</th>\n",
       "      <th>Heating_Unknown</th>\n",
       "      <th>Heating_électrique</th>\n",
       "    </tr>\n",
       "  </thead>\n",
       "  <tbody>\n",
       "    <tr>\n",
       "      <th>0</th>\n",
       "      <td>19</td>\n",
       "      <td>3.496508</td>\n",
       "      <td>14</td>\n",
       "      <td>1</td>\n",
       "      <td>1</td>\n",
       "      <td>0</td>\n",
       "      <td>0</td>\n",
       "      <td>1</td>\n",
       "      <td>0</td>\n",
       "      <td>0</td>\n",
       "      <td>...</td>\n",
       "      <td>0</td>\n",
       "      <td>0</td>\n",
       "      <td>0</td>\n",
       "      <td>0</td>\n",
       "      <td>0</td>\n",
       "      <td>0</td>\n",
       "      <td>0</td>\n",
       "      <td>0</td>\n",
       "      <td>1</td>\n",
       "      <td>0</td>\n",
       "    </tr>\n",
       "    <tr>\n",
       "      <th>1</th>\n",
       "      <td>4</td>\n",
       "      <td>4.804021</td>\n",
       "      <td>4</td>\n",
       "      <td>2</td>\n",
       "      <td>1</td>\n",
       "      <td>1</td>\n",
       "      <td>0</td>\n",
       "      <td>1</td>\n",
       "      <td>0</td>\n",
       "      <td>0</td>\n",
       "      <td>...</td>\n",
       "      <td>0</td>\n",
       "      <td>0</td>\n",
       "      <td>0</td>\n",
       "      <td>0</td>\n",
       "      <td>0</td>\n",
       "      <td>0</td>\n",
       "      <td>0</td>\n",
       "      <td>0</td>\n",
       "      <td>1</td>\n",
       "      <td>0</td>\n",
       "    </tr>\n",
       "    <tr>\n",
       "      <th>2</th>\n",
       "      <td>15</td>\n",
       "      <td>3.465736</td>\n",
       "      <td>9</td>\n",
       "      <td>8</td>\n",
       "      <td>1</td>\n",
       "      <td>1</td>\n",
       "      <td>0</td>\n",
       "      <td>0</td>\n",
       "      <td>0</td>\n",
       "      <td>0</td>\n",
       "      <td>...</td>\n",
       "      <td>1</td>\n",
       "      <td>0</td>\n",
       "      <td>0</td>\n",
       "      <td>0</td>\n",
       "      <td>0</td>\n",
       "      <td>0</td>\n",
       "      <td>0</td>\n",
       "      <td>0</td>\n",
       "      <td>0</td>\n",
       "      <td>0</td>\n",
       "    </tr>\n",
       "    <tr>\n",
       "      <th>3</th>\n",
       "      <td>11</td>\n",
       "      <td>4.204693</td>\n",
       "      <td>6</td>\n",
       "      <td>5</td>\n",
       "      <td>1</td>\n",
       "      <td>1</td>\n",
       "      <td>0</td>\n",
       "      <td>0</td>\n",
       "      <td>0</td>\n",
       "      <td>1</td>\n",
       "      <td>...</td>\n",
       "      <td>0</td>\n",
       "      <td>0</td>\n",
       "      <td>0</td>\n",
       "      <td>0</td>\n",
       "      <td>0</td>\n",
       "      <td>0</td>\n",
       "      <td>1</td>\n",
       "      <td>0</td>\n",
       "      <td>0</td>\n",
       "      <td>0</td>\n",
       "    </tr>\n",
       "    <tr>\n",
       "      <th>4</th>\n",
       "      <td>20</td>\n",
       "      <td>3.367296</td>\n",
       "      <td>5</td>\n",
       "      <td>4</td>\n",
       "      <td>1</td>\n",
       "      <td>0</td>\n",
       "      <td>0</td>\n",
       "      <td>1</td>\n",
       "      <td>0</td>\n",
       "      <td>0</td>\n",
       "      <td>...</td>\n",
       "      <td>0</td>\n",
       "      <td>0</td>\n",
       "      <td>0</td>\n",
       "      <td>0</td>\n",
       "      <td>0</td>\n",
       "      <td>0</td>\n",
       "      <td>0</td>\n",
       "      <td>0</td>\n",
       "      <td>1</td>\n",
       "      <td>0</td>\n",
       "    </tr>\n",
       "  </tbody>\n",
       "</table>\n",
       "<p>5 rows × 40 columns</p>\n",
       "</div>"
      ],
      "text/plain": [
       "   Loc_Paris        m2  building_floor  apartment_floor  nb_bath  Cellar  \\\n",
       "0         19  3.496508              14                1        1       0   \n",
       "1          4  4.804021               4                2        1       1   \n",
       "2         15  3.465736               9                8        1       1   \n",
       "3         11  4.204693               6                5        1       1   \n",
       "4         20  3.367296               5                4        1       0   \n",
       "\n",
       "   Renovated  Parking  Heating_Central  Heating_Individual  ...  \\\n",
       "0          0        1                0                   0  ...   \n",
       "1          0        1                0                   0  ...   \n",
       "2          0        0                0                   0  ...   \n",
       "3          0        0                0                   1  ...   \n",
       "4          0        1                0                   0  ...   \n",
       "\n",
       "   Heating_Au gaz  Heating_Central  Heating_Central, au fioul  \\\n",
       "0               0                0                          0   \n",
       "1               0                0                          0   \n",
       "2               1                0                          0   \n",
       "3               0                0                          0   \n",
       "4               0                0                          0   \n",
       "\n",
       "   Heating_Central, au gaz  Heating_Central, électrique  Heating_Individuel  \\\n",
       "0                        0                            0                   0   \n",
       "1                        0                            0                   0   \n",
       "2                        0                            0                   0   \n",
       "3                        0                            0                   0   \n",
       "4                        0                            0                   0   \n",
       "\n",
       "   Heating_Individuel, au gaz  Heating_Individuel, électrique  \\\n",
       "0                           0                               0   \n",
       "1                           0                               0   \n",
       "2                           0                               0   \n",
       "3                           1                               0   \n",
       "4                           0                               0   \n",
       "\n",
       "   Heating_Unknown  Heating_électrique  \n",
       "0                1                   0  \n",
       "1                1                   0  \n",
       "2                0                   0  \n",
       "3                0                   0  \n",
       "4                1                   0  \n",
       "\n",
       "[5 rows x 40 columns]"
      ]
     },
     "execution_count": 184,
     "metadata": {},
     "output_type": "execute_result"
    }
   ],
   "source": [
    "df.head()"
   ]
  },
  {
   "cell_type": "markdown",
   "metadata": {},
   "source": [
    "## Splitting the Data into a training and a testing set"
   ]
  },
  {
   "cell_type": "code",
   "execution_count": 185,
   "metadata": {},
   "outputs": [],
   "source": [
    "#train test split\n",
    "X=df.drop('Price_int',axis=1)\n",
    "y=df.Price_int\n",
    "X_train,X_test,y_train,y_test=train_test_split(X,y)\n"
   ]
  },
  {
   "cell_type": "markdown",
   "metadata": {},
   "source": [
    "## Test 3 models with Cross validation without hyperparameters tuning"
   ]
  },
  {
   "cell_type": "code",
   "execution_count": 186,
   "metadata": {},
   "outputs": [],
   "source": [
    "#Linear Regression\n",
    "lr=LinearRegression()\n",
    "lr.fit(X_train,y_train)\n",
    "score_lr=np.mean(cross_val_score(lr,X_train,y_train,cv=5,scoring='neg_mean_absolute_error'))"
   ]
  },
  {
   "cell_type": "code",
   "execution_count": 187,
   "metadata": {},
   "outputs": [],
   "source": [
    "#Lasso\n",
    "las=Lasso()\n",
    "las.fit(X_train,y_train)\n",
    "score_las=np.mean(cross_val_score(las,X_train,y_train,cv=5,scoring='neg_mean_absolute_error'))"
   ]
  },
  {
   "cell_type": "code",
   "execution_count": 188,
   "metadata": {},
   "outputs": [],
   "source": [
    "#random forest\n",
    "rf=RandomForestRegressor(n_jobs=-1)\n",
    "score_rf=np.mean(cross_val_score(rf,X_train,y_train,cv=5,scoring='neg_mean_absolute_error'))"
   ]
  },
  {
   "cell_type": "code",
   "execution_count": 189,
   "metadata": {},
   "outputs": [],
   "source": [
    "scores=pd.DataFrame(index=['Linear_Reg','Lasso','Random_Forest'],data=[score_lr,score_las,score_rf],columns=['score']).sort_values('score',ascending=False)"
   ]
  },
  {
   "cell_type": "code",
   "execution_count": 190,
   "metadata": {},
   "outputs": [
    {
     "data": {
      "text/html": [
       "<div>\n",
       "<style scoped>\n",
       "    .dataframe tbody tr th:only-of-type {\n",
       "        vertical-align: middle;\n",
       "    }\n",
       "\n",
       "    .dataframe tbody tr th {\n",
       "        vertical-align: top;\n",
       "    }\n",
       "\n",
       "    .dataframe thead th {\n",
       "        text-align: right;\n",
       "    }\n",
       "</style>\n",
       "<table border=\"1\" class=\"dataframe\">\n",
       "  <thead>\n",
       "    <tr style=\"text-align: right;\">\n",
       "      <th></th>\n",
       "      <th>score</th>\n",
       "    </tr>\n",
       "  </thead>\n",
       "  <tbody>\n",
       "    <tr>\n",
       "      <th>Random_Forest</th>\n",
       "      <td>-0.142077</td>\n",
       "    </tr>\n",
       "    <tr>\n",
       "      <th>Linear_Reg</th>\n",
       "      <td>-0.172570</td>\n",
       "    </tr>\n",
       "    <tr>\n",
       "      <th>Lasso</th>\n",
       "      <td>-0.485954</td>\n",
       "    </tr>\n",
       "  </tbody>\n",
       "</table>\n",
       "</div>"
      ],
      "text/plain": [
       "                  score\n",
       "Random_Forest -0.142077\n",
       "Linear_Reg    -0.172570\n",
       "Lasso         -0.485954"
      ]
     },
     "execution_count": 190,
     "metadata": {},
     "output_type": "execute_result"
    }
   ],
   "source": [
    "scores"
   ]
  },
  {
   "cell_type": "markdown",
   "metadata": {},
   "source": [
    "## Hyperparameters tuning"
   ]
  },
  {
   "cell_type": "code",
   "execution_count": 191,
   "metadata": {},
   "outputs": [
    {
     "data": {
      "text/plain": [
       "GridSearchCV(cv=3, estimator=RandomForestRegressor(n_jobs=-1),\n",
       "             param_grid={'criterion': ('mse', 'mae'),\n",
       "                         'max_features': ['log2', 'sqrt', 1, 0.5],\n",
       "                         'min_samples_leaf': [1, 3, 5, 10, 25],\n",
       "                         'min_samples_split': [2, 3],\n",
       "                         'n_estimators': (100, 200, 300)},\n",
       "             scoring='neg_mean_absolute_error')"
      ]
     },
     "execution_count": 191,
     "metadata": {},
     "output_type": "execute_result"
    }
   ],
   "source": [
    "\n",
    "#random forest\n",
    "from sklearn.model_selection import GridSearchCV\n",
    "\n",
    "parameters={'n_estimators':(100,200,300),\n",
    "           'criterion':('mse','mae'),\n",
    "           'max_features':['log2','sqrt',1,0.5],\n",
    "           'min_samples_split':[2,3],\n",
    "           'min_samples_leaf':[1,3,5,10,25]}\n",
    "\n",
    "gs_rf=GridSearchCV(rf,parameters,scoring='neg_mean_absolute_error',cv=3)\n",
    "gs_rf.fit(X_train,y_train)"
   ]
  },
  {
   "cell_type": "code",
   "execution_count": 192,
   "metadata": {},
   "outputs": [
    {
     "data": {
      "text/plain": [
       "RandomForestRegressor(max_features=0.5, n_estimators=200, n_jobs=-1)"
      ]
     },
     "execution_count": 192,
     "metadata": {},
     "output_type": "execute_result"
    }
   ],
   "source": [
    "gs_rf.best_estimator_"
   ]
  },
  {
   "cell_type": "code",
   "execution_count": 193,
   "metadata": {},
   "outputs": [
    {
     "data": {
      "text/plain": [
       "Lasso(alpha=0.006)"
      ]
     },
     "execution_count": 193,
     "metadata": {},
     "output_type": "execute_result"
    },
    {
     "data": {
      "image/png": "[encoded data removed]",
      "text/plain": [
       "<Figure size 432x288 with 1 Axes>"
      ]
     },
     "metadata": {
      "needs_background": "light"
     },
     "output_type": "display_data"
    }
   ],
   "source": [
    "#Hyperparameters tuning\n",
    "#Lasso\n",
    "from operator import itemgetter\n",
    "lr_las=Lasso()\n",
    "alpha=[]\n",
    "error=[]\n",
    "for i in range(1,20):\n",
    "    alpha.append(i/1000)\n",
    "    lr_las=Lasso(i/1000)\n",
    "    error.append(np.mean(cross_val_score(lr_las,X_train,y_train,cv=5,scoring='neg_mean_absolute_error')))\n",
    "    \n",
    "plt.plot(alpha,error)\n",
    "err=tuple(zip(alpha,error))\n",
    "\n",
    "best_alpha=max(err, key=itemgetter(1))[0]   \n",
    "las=Lasso(alpha=best_alpha)\n",
    "las.fit(X_train,y_train)"
   ]
  },
  {
   "cell_type": "markdown",
   "metadata": {},
   "source": [
    "## Make predictions"
   ]
  },
  {
   "cell_type": "code",
   "execution_count": 194,
   "metadata": {},
   "outputs": [],
   "source": [
    "preds_lr=lr.predict(X_test)\n",
    "preds_lasso=las.predict(X_test)\n",
    "preds_rf=gs_rf.best_estimator_.predict(X_test)"
   ]
  },
  {
   "cell_type": "code",
   "execution_count": 195,
   "metadata": {},
   "outputs": [],
   "source": [
    "#Calculate the score of each model\n",
    "scores_lr=mean_absolute_error(preds_lr,y_test)\n",
    "scores_las=mean_absolute_error(preds_lasso,y_test)\n",
    "scores_rf=mean_absolute_error(preds_rf,y_test)\n",
    "scores=pd.DataFrame(index=['Linear_Reg','Lasso','Random_Forest'],data=[scores_lr,scores_las,scores_rf],columns=['scores_tuned']).sort_values('scores_tuned')"
   ]
  },
  {
   "cell_type": "code",
   "execution_count": 197,
   "metadata": {},
   "outputs": [],
   "source": [
    "#Calculate the score of each model in percentage of average price of the apartments\n",
    "scores_lr_pr=(mean_absolute_error(np.exp(preds_lr),np.exp(y_test)))/(np.mean(np.exp(y_test)))\n",
    "scores_las_pr=(mean_absolute_error(np.exp(preds_lasso),np.exp(y_test)))/(np.mean(np.exp(y_test)))\n",
    "scores_rf_pr=(mean_absolute_error(np.exp(preds_rf),np.exp(y_test)))/(np.mean(np.exp(y_test)))\n"
   ]
  },
  {
   "cell_type": "code",
   "execution_count": 198,
   "metadata": {},
   "outputs": [
    {
     "data": {
      "text/html": [
       "<div>\n",
       "<style scoped>\n",
       "    .dataframe tbody tr th:only-of-type {\n",
       "        vertical-align: middle;\n",
       "    }\n",
       "\n",
       "    .dataframe tbody tr th {\n",
       "        vertical-align: top;\n",
       "    }\n",
       "\n",
       "    .dataframe thead th {\n",
       "        text-align: right;\n",
       "    }\n",
       "</style>\n",
       "<table border=\"1\" class=\"dataframe\">\n",
       "  <thead>\n",
       "    <tr style=\"text-align: right;\">\n",
       "      <th></th>\n",
       "      <th>scores</th>\n",
       "      <th>scores in percentage</th>\n",
       "    </tr>\n",
       "  </thead>\n",
       "  <tbody>\n",
       "    <tr>\n",
       "      <th>Random_Forest</th>\n",
       "      <td>0.128305</td>\n",
       "      <td>0.128976</td>\n",
       "    </tr>\n",
       "    <tr>\n",
       "      <th>Lasso</th>\n",
       "      <td>0.163880</td>\n",
       "      <td>0.165374</td>\n",
       "    </tr>\n",
       "    <tr>\n",
       "      <th>Linear_Reg</th>\n",
       "      <td>0.172618</td>\n",
       "      <td>0.171258</td>\n",
       "    </tr>\n",
       "  </tbody>\n",
       "</table>\n",
       "</div>"
      ],
      "text/plain": [
       "                 scores  scores in percentage\n",
       "Random_Forest  0.128305              0.128976\n",
       "Lasso          0.163880              0.165374\n",
       "Linear_Reg     0.172618              0.171258"
      ]
     },
     "execution_count": 198,
     "metadata": {},
     "output_type": "execute_result"
    }
   ],
   "source": [
    "#put the scores in a DataFrame\n",
    "scores=pd.DataFrame({'scores':[scores_lr,scores_las,scores_rf],'scores in percentage':[scores_lr_pr,scores_las_pr,scores_rf_pr]}).sort_values('scores',ascending=True)\n",
    "scores.rename(index={0:'Linear_Reg',1:'Lasso',2:'Random_Forest'})\n",
    "\n"
   ]
  }
 ],
 "metadata": {
  "kernelspec": {
   "display_name": "Python 3",
   "language": "python",
   "name": "python3"
  },
  "language_info": {
   "codemirror_mode": {
    "name": "ipython",
    "version": 3
   },
   "file_extension": ".py",
   "mimetype": "text/x-python",
   "name": "python",
   "nbconvert_exporter": "python",
   "pygments_lexer": "ipython3",
   "version": "3.6.10"
  }
 },
 "nbformat": 4,
 "nbformat_minor": 4
}
