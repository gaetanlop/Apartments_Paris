{
 "cells": [
  {
   "cell_type": "code",
   "execution_count": 1,
   "metadata": {},
   "outputs": [],
   "source": [
    "import pandas as pd\n",
    "import matplotlib.pyplot as plt\n",
    "import numpy as np"
   ]
  },
  {
   "cell_type": "code",
   "execution_count": 2,
   "metadata": {},
   "outputs": [],
   "source": [
    "df=pd.read_csv('final_data.csv')"
   ]
  },
  {
   "cell_type": "code",
   "execution_count": 3,
   "metadata": {},
   "outputs": [],
   "source": [
    "#Choose relevant columns\n",
    "#get dummy data\n",
    "#train test split\n",
    "#multiple linear regression\n",
    "#lasso regression\n",
    "#random forest\n",
    "#xgboost\n",
    "#Adaboost\n",
    "#tune hyperparameters\n",
    "#test ensembles"
   ]
  },
  {
   "cell_type": "code",
   "execution_count": 4,
   "metadata": {},
   "outputs": [
    {
     "data": {
      "text/plain": [
       "Index(['Superficie', 'Rooms', 'Bedrooms', 'Price', 'Location', 'description',\n",
       "       'Loc_Paris', 'm2', 'nb_bat', 'nb_good', 'nb_bain', 'Cave', 'balc_terr',\n",
       "       'Chauffage', 'Rénové', 'Parking', 'Chauffage_Central',\n",
       "       'Chauffage_Individuel', 'Price_int', 'Last_etage'],\n",
       "      dtype='object')"
      ]
     },
     "execution_count": 4,
     "metadata": {},
     "output_type": "execute_result"
    }
   ],
   "source": [
    "#Choose relevant columns\n",
    "df.columns"
   ]
  },
  {
   "cell_type": "code",
   "execution_count": 5,
   "metadata": {},
   "outputs": [],
   "source": [
    "#Choose relevant columns\n",
    "df=df[['Rooms', 'Bedrooms','Loc_Paris', 'm2', 'nb_bat', 'nb_good', 'nb_bain', 'Cave', 'balc_terr', 'Rénové', 'Parking', 'Chauffage_Central',\n",
    "       'Chauffage_Individuel', 'Price_int', 'Last_etage']]"
   ]
  },
  {
   "cell_type": "code",
   "execution_count": 6,
   "metadata": {},
   "outputs": [
    {
     "name": "stdout",
     "output_type": "stream",
     "text": [
      "<class 'pandas.core.frame.DataFrame'>\n",
      "RangeIndex: 2487 entries, 0 to 2486\n",
      "Data columns (total 15 columns):\n",
      " #   Column                Non-Null Count  Dtype  \n",
      "---  ------                --------------  -----  \n",
      " 0   Rooms                 2487 non-null   object \n",
      " 1   Bedrooms              2487 non-null   object \n",
      " 2   Loc_Paris             2487 non-null   int64  \n",
      " 3   m2                    2487 non-null   int64  \n",
      " 4   nb_bat                2487 non-null   int64  \n",
      " 5   nb_good               2487 non-null   int64  \n",
      " 6   nb_bain               2487 non-null   int64  \n",
      " 7   Cave                  2487 non-null   int64  \n",
      " 8   balc_terr             2487 non-null   object \n",
      " 9   Rénové                2487 non-null   int64  \n",
      " 10  Parking               2487 non-null   int64  \n",
      " 11  Chauffage_Central     2487 non-null   int64  \n",
      " 12  Chauffage_Individuel  2487 non-null   int64  \n",
      " 13  Price_int             2487 non-null   float64\n",
      " 14  Last_etage            2487 non-null   int64  \n",
      "dtypes: float64(1), int64(11), object(3)\n",
      "memory usage: 291.6+ KB\n"
     ]
    }
   ],
   "source": [
    "df.info()"
   ]
  },
  {
   "cell_type": "code",
   "execution_count": 7,
   "metadata": {},
   "outputs": [],
   "source": [
    "#get dummy data\n",
    "#CHeck the cardinality of our categorical features to know if we wil one hot encode or label encode\n",
    "df=pd.get_dummies(df)"
   ]
  },
  {
   "cell_type": "code",
   "execution_count": 8,
   "metadata": {},
   "outputs": [
    {
     "name": "stdout",
     "output_type": "stream",
     "text": [
      "<class 'pandas.core.frame.DataFrame'>\n",
      "RangeIndex: 2487 entries, 0 to 2486\n",
      "Data columns (total 33 columns):\n",
      " #   Column                      Non-Null Count  Dtype  \n",
      "---  ------                      --------------  -----  \n",
      " 0   Loc_Paris                   2487 non-null   int64  \n",
      " 1   m2                          2487 non-null   int64  \n",
      " 2   nb_bat                      2487 non-null   int64  \n",
      " 3   nb_good                     2487 non-null   int64  \n",
      " 4   nb_bain                     2487 non-null   int64  \n",
      " 5   Cave                        2487 non-null   int64  \n",
      " 6   Rénové                      2487 non-null   int64  \n",
      " 7   Parking                     2487 non-null   int64  \n",
      " 8   Chauffage_Central           2487 non-null   int64  \n",
      " 9   Chauffage_Individuel        2487 non-null   int64  \n",
      " 10  Price_int                   2487 non-null   float64\n",
      " 11  Last_etage                  2487 non-null   int64  \n",
      " 12  Rooms_1 p.                  2487 non-null   uint8  \n",
      " 13  Rooms_14 p.                 2487 non-null   uint8  \n",
      " 14  Rooms_2 p.                  2487 non-null   uint8  \n",
      " 15  Rooms_3 p.                  2487 non-null   uint8  \n",
      " 16  Rooms_4 p.                  2487 non-null   uint8  \n",
      " 17  Rooms_5 p.                  2487 non-null   uint8  \n",
      " 18  Rooms_6 p.                  2487 non-null   uint8  \n",
      " 19  Rooms_7 p.                  2487 non-null   uint8  \n",
      " 20  Rooms_8 p.                  2487 non-null   uint8  \n",
      " 21  Rooms_9 p.                  2487 non-null   uint8  \n",
      " 22  Bedrooms_0 p.               2487 non-null   uint8  \n",
      " 23  Bedrooms_1 p.               2487 non-null   uint8  \n",
      " 24  Bedrooms_2 p.               2487 non-null   uint8  \n",
      " 25  Bedrooms_3 p.               2487 non-null   uint8  \n",
      " 26  Bedrooms_4 p.               2487 non-null   uint8  \n",
      " 27  Bedrooms_5 p.               2487 non-null   uint8  \n",
      " 28  Bedrooms_6 p.               2487 non-null   uint8  \n",
      " 29  balc_terr_0                 2487 non-null   uint8  \n",
      " 30  balc_terr_Balcon            2487 non-null   uint8  \n",
      " 31  balc_terr_Terrasse          2487 non-null   uint8  \n",
      " 32  balc_terr_Terrasse, balcon  2487 non-null   uint8  \n",
      "dtypes: float64(1), int64(11), uint8(21)\n",
      "memory usage: 284.3 KB\n"
     ]
    }
   ],
   "source": [
    "df.info()"
   ]
  },
  {
   "cell_type": "code",
   "execution_count": 9,
   "metadata": {},
   "outputs": [
    {
     "data": {
      "text/html": [
       "<div>\n",
       "<style scoped>\n",
       "    .dataframe tbody tr th:only-of-type {\n",
       "        vertical-align: middle;\n",
       "    }\n",
       "\n",
       "    .dataframe tbody tr th {\n",
       "        vertical-align: top;\n",
       "    }\n",
       "\n",
       "    .dataframe thead th {\n",
       "        text-align: right;\n",
       "    }\n",
       "</style>\n",
       "<table border=\"1\" class=\"dataframe\">\n",
       "  <thead>\n",
       "    <tr style=\"text-align: right;\">\n",
       "      <th></th>\n",
       "      <th>Loc_Paris</th>\n",
       "      <th>m2</th>\n",
       "      <th>nb_bat</th>\n",
       "      <th>nb_good</th>\n",
       "      <th>nb_bain</th>\n",
       "      <th>Cave</th>\n",
       "      <th>Rénové</th>\n",
       "      <th>Parking</th>\n",
       "      <th>Chauffage_Central</th>\n",
       "      <th>Chauffage_Individuel</th>\n",
       "      <th>...</th>\n",
       "      <th>Bedrooms_1 p.</th>\n",
       "      <th>Bedrooms_2 p.</th>\n",
       "      <th>Bedrooms_3 p.</th>\n",
       "      <th>Bedrooms_4 p.</th>\n",
       "      <th>Bedrooms_5 p.</th>\n",
       "      <th>Bedrooms_6 p.</th>\n",
       "      <th>balc_terr_0</th>\n",
       "      <th>balc_terr_Balcon</th>\n",
       "      <th>balc_terr_Terrasse</th>\n",
       "      <th>balc_terr_Terrasse, balcon</th>\n",
       "    </tr>\n",
       "  </thead>\n",
       "  <tbody>\n",
       "    <tr>\n",
       "      <th>0</th>\n",
       "      <td>19</td>\n",
       "      <td>33</td>\n",
       "      <td>14</td>\n",
       "      <td>1</td>\n",
       "      <td>1</td>\n",
       "      <td>0</td>\n",
       "      <td>0</td>\n",
       "      <td>1</td>\n",
       "      <td>0</td>\n",
       "      <td>0</td>\n",
       "      <td>...</td>\n",
       "      <td>0</td>\n",
       "      <td>0</td>\n",
       "      <td>0</td>\n",
       "      <td>0</td>\n",
       "      <td>0</td>\n",
       "      <td>0</td>\n",
       "      <td>1</td>\n",
       "      <td>0</td>\n",
       "      <td>0</td>\n",
       "      <td>0</td>\n",
       "    </tr>\n",
       "    <tr>\n",
       "      <th>1</th>\n",
       "      <td>4</td>\n",
       "      <td>122</td>\n",
       "      <td>4</td>\n",
       "      <td>2</td>\n",
       "      <td>1</td>\n",
       "      <td>1</td>\n",
       "      <td>0</td>\n",
       "      <td>1</td>\n",
       "      <td>0</td>\n",
       "      <td>0</td>\n",
       "      <td>...</td>\n",
       "      <td>0</td>\n",
       "      <td>0</td>\n",
       "      <td>0</td>\n",
       "      <td>1</td>\n",
       "      <td>0</td>\n",
       "      <td>0</td>\n",
       "      <td>0</td>\n",
       "      <td>0</td>\n",
       "      <td>1</td>\n",
       "      <td>0</td>\n",
       "    </tr>\n",
       "    <tr>\n",
       "      <th>2</th>\n",
       "      <td>15</td>\n",
       "      <td>32</td>\n",
       "      <td>9</td>\n",
       "      <td>8</td>\n",
       "      <td>0</td>\n",
       "      <td>1</td>\n",
       "      <td>0</td>\n",
       "      <td>0</td>\n",
       "      <td>0</td>\n",
       "      <td>0</td>\n",
       "      <td>...</td>\n",
       "      <td>0</td>\n",
       "      <td>0</td>\n",
       "      <td>0</td>\n",
       "      <td>0</td>\n",
       "      <td>0</td>\n",
       "      <td>0</td>\n",
       "      <td>1</td>\n",
       "      <td>0</td>\n",
       "      <td>0</td>\n",
       "      <td>0</td>\n",
       "    </tr>\n",
       "    <tr>\n",
       "      <th>3</th>\n",
       "      <td>11</td>\n",
       "      <td>67</td>\n",
       "      <td>6</td>\n",
       "      <td>5</td>\n",
       "      <td>1</td>\n",
       "      <td>1</td>\n",
       "      <td>0</td>\n",
       "      <td>0</td>\n",
       "      <td>0</td>\n",
       "      <td>1</td>\n",
       "      <td>...</td>\n",
       "      <td>0</td>\n",
       "      <td>1</td>\n",
       "      <td>0</td>\n",
       "      <td>0</td>\n",
       "      <td>0</td>\n",
       "      <td>0</td>\n",
       "      <td>1</td>\n",
       "      <td>0</td>\n",
       "      <td>0</td>\n",
       "      <td>0</td>\n",
       "    </tr>\n",
       "    <tr>\n",
       "      <th>4</th>\n",
       "      <td>20</td>\n",
       "      <td>29</td>\n",
       "      <td>5</td>\n",
       "      <td>4</td>\n",
       "      <td>0</td>\n",
       "      <td>0</td>\n",
       "      <td>0</td>\n",
       "      <td>1</td>\n",
       "      <td>0</td>\n",
       "      <td>0</td>\n",
       "      <td>...</td>\n",
       "      <td>0</td>\n",
       "      <td>0</td>\n",
       "      <td>0</td>\n",
       "      <td>0</td>\n",
       "      <td>0</td>\n",
       "      <td>0</td>\n",
       "      <td>1</td>\n",
       "      <td>0</td>\n",
       "      <td>0</td>\n",
       "      <td>0</td>\n",
       "    </tr>\n",
       "  </tbody>\n",
       "</table>\n",
       "<p>5 rows × 33 columns</p>\n",
       "</div>"
      ],
      "text/plain": [
       "   Loc_Paris   m2  nb_bat  nb_good  nb_bain  Cave  Rénové  Parking  \\\n",
       "0         19   33      14        1        1     0       0        1   \n",
       "1          4  122       4        2        1     1       0        1   \n",
       "2         15   32       9        8        0     1       0        0   \n",
       "3         11   67       6        5        1     1       0        0   \n",
       "4         20   29       5        4        0     0       0        1   \n",
       "\n",
       "   Chauffage_Central  Chauffage_Individuel  ...  Bedrooms_1 p.  Bedrooms_2 p.  \\\n",
       "0                  0                     0  ...              0              0   \n",
       "1                  0                     0  ...              0              0   \n",
       "2                  0                     0  ...              0              0   \n",
       "3                  0                     1  ...              0              1   \n",
       "4                  0                     0  ...              0              0   \n",
       "\n",
       "   Bedrooms_3 p.  Bedrooms_4 p.  Bedrooms_5 p.  Bedrooms_6 p.  balc_terr_0  \\\n",
       "0              0              0              0              0            1   \n",
       "1              0              1              0              0            0   \n",
       "2              0              0              0              0            1   \n",
       "3              0              0              0              0            1   \n",
       "4              0              0              0              0            1   \n",
       "\n",
       "   balc_terr_Balcon  balc_terr_Terrasse  balc_terr_Terrasse, balcon  \n",
       "0                 0                   0                           0  \n",
       "1                 0                   1                           0  \n",
       "2                 0                   0                           0  \n",
       "3                 0                   0                           0  \n",
       "4                 0                   0                           0  \n",
       "\n",
       "[5 rows x 33 columns]"
      ]
     },
     "execution_count": 9,
     "metadata": {},
     "output_type": "execute_result"
    }
   ],
   "source": [
    "df.head()"
   ]
  },
  {
   "cell_type": "code",
   "execution_count": 10,
   "metadata": {},
   "outputs": [
    {
     "data": {
      "text/plain": [
       "0        328600.0\n",
       "1       1940000.0\n",
       "2        375000.0\n",
       "3        745000.0\n",
       "4        346500.0\n",
       "          ...    \n",
       "2482    1920000.0\n",
       "2483     780000.0\n",
       "2484    4500000.0\n",
       "2485    2850000.0\n",
       "2486     622000.0\n",
       "Name: Price_int, Length: 2487, dtype: float64"
      ]
     },
     "execution_count": 10,
     "metadata": {},
     "output_type": "execute_result"
    }
   ],
   "source": [
    "#train test split\n",
    "from sklearn.model_selection import train_test_split\n",
    "df.Price_int=np.exp(df.Price_int)\n",
    "X=df.drop('Price_int',axis=1)\n",
    "y=df.Price_int\n",
    "X_train,X_test,y_train,y_test=train_test_split(X,y)\n",
    "y"
   ]
  },
  {
   "cell_type": "code",
   "execution_count": 11,
   "metadata": {},
   "outputs": [
    {
     "data": {
      "text/plain": [
       "-170001707462.5822"
      ]
     },
     "execution_count": 11,
     "metadata": {},
     "output_type": "execute_result"
    }
   ],
   "source": [
    "#random forest\n",
    "from sklearn.ensemble import RandomForestRegressor\n",
    "from sklearn.model_selection import cross_val_score\n",
    "\n",
    "rf=RandomForestRegressor()\n",
    "np.mean(cross_val_score(rf,X_train,y_train,scoring='neg_mean_squared_error',cv=5))"
   ]
  },
  {
   "cell_type": "code",
   "execution_count": 100,
   "metadata": {},
   "outputs": [
    {
     "data": {
      "text/plain": [
       "-192483686671.15222"
      ]
     },
     "execution_count": 100,
     "metadata": {},
     "output_type": "execute_result"
    }
   ],
   "source": [
    "#random forest\n",
    "from sklearn.ensemble import RandomForestRegressor\n",
    "from sklearn.model_selection import cross_val_score\n",
    "\n",
    "rf=RandomForestRegressor()\n",
    "np.mean(cross_val_score(rf,X_train,y_train,cv=5,scoring=\"neg_mean_squared_error\"))"
   ]
  },
  {
   "cell_type": "code",
   "execution_count": null,
   "metadata": {},
   "outputs": [],
   "source": []
  }
 ],
 "metadata": {
  "kernelspec": {
   "display_name": "Python 3",
   "language": "python",
   "name": "python3"
  },
  "language_info": {
   "codemirror_mode": {
    "name": "ipython",
    "version": 3
   },
   "file_extension": ".py",
   "mimetype": "text/x-python",
   "name": "python",
   "nbconvert_exporter": "python",
   "pygments_lexer": "ipython3",
   "version": "3.7.6"
  }
 },
 "nbformat": 4,
 "nbformat_minor": 4
}
