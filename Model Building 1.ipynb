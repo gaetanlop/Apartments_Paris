{
 "cells": [
  {
   "cell_type": "code",
   "execution_count": 459,
   "metadata": {},
   "outputs": [],
   "source": [
    "#Imports\n",
    "import pandas as pd\n",
    "import matplotlib.pyplot as plt\n",
    "import numpy as np\n",
    "from sklearn.model_selection import train_test_split\n",
    "from sklearn.metrics import mean_absolute_error\n",
    "from sklearn.ensemble import RandomForestRegressor\n",
    "from sklearn.linear_model import LinearRegression,Lasso,Ridge\n",
    "from sklearn.model_selection import cross_val_score\n"
   ]
  },
  {
   "cell_type": "code",
   "execution_count": 460,
   "metadata": {},
   "outputs": [],
   "source": [
    "df=pd.read_csv('final_data.csv')"
   ]
  },
  {
   "cell_type": "code",
   "execution_count": 461,
   "metadata": {},
   "outputs": [
    {
     "name": "stdout",
     "output_type": "stream",
     "text": [
      "<class 'pandas.core.frame.DataFrame'>\n",
      "RangeIndex: 2208 entries, 0 to 2207\n",
      "Data columns (total 21 columns):\n",
      " #   Column                Non-Null Count  Dtype \n",
      "---  ------                --------------  ----- \n",
      " 0   Superficie            2208 non-null   object\n",
      " 1   Rooms                 2208 non-null   object\n",
      " 2   Bedrooms              2208 non-null   object\n",
      " 3   Price                 2208 non-null   object\n",
      " 4   Location              2208 non-null   object\n",
      " 5   description           2208 non-null   object\n",
      " 6   Loc_Paris             2208 non-null   int64 \n",
      " 7   m2                    2208 non-null   int64 \n",
      " 8   nb_bat                2208 non-null   int64 \n",
      " 9   nb_good               2208 non-null   int64 \n",
      " 10  nb_bain               2208 non-null   int64 \n",
      " 11  Cave                  2208 non-null   int64 \n",
      " 12  balc_terr             2208 non-null   object\n",
      " 13  Chauffage             2208 non-null   object\n",
      " 14  Rénové                2208 non-null   int64 \n",
      " 15  Parking               2208 non-null   int64 \n",
      " 16  Chauffage_Central     2208 non-null   int64 \n",
      " 17  Chauffage_Individuel  2208 non-null   int64 \n",
      " 18  Price_int             2208 non-null   int64 \n",
      " 19  Last_etage            2208 non-null   int64 \n",
      " 20  nb_bathrooms          2208 non-null   int64 \n",
      "dtypes: int64(13), object(8)\n",
      "memory usage: 362.4+ KB\n"
     ]
    }
   ],
   "source": [
    "df.info()"
   ]
  },
  {
   "cell_type": "code",
   "execution_count": 462,
   "metadata": {},
   "outputs": [],
   "source": [
    "#Choose relevant columns\n",
    "#get dummy data\n",
    "#train test split\n",
    "#multiple linear regression\n",
    "#lasso regression\n",
    "#random forest\n",
    "#xgboost\n",
    "#Adaboost\n",
    "#tune hyperparameters\n",
    "#test ensembles"
   ]
  },
  {
   "cell_type": "code",
   "execution_count": 463,
   "metadata": {},
   "outputs": [
    {
     "data": {
      "text/plain": [
       "Index(['Superficie', 'Rooms', 'Bedrooms', 'Price', 'Location', 'description',\n",
       "       'Loc_Paris', 'm2', 'nb_bat', 'nb_good', 'nb_bain', 'Cave', 'balc_terr',\n",
       "       'Chauffage', 'Rénové', 'Parking', 'Chauffage_Central',\n",
       "       'Chauffage_Individuel', 'Price_int', 'Last_etage', 'nb_bathrooms'],\n",
       "      dtype='object')"
      ]
     },
     "execution_count": 463,
     "metadata": {},
     "output_type": "execute_result"
    }
   ],
   "source": [
    "#Choose relevant columns\n",
    "df.columns"
   ]
  },
  {
   "cell_type": "code",
   "execution_count": 464,
   "metadata": {},
   "outputs": [],
   "source": [
    "#Choose relevant columns\n",
    "df=df[['Rooms', 'Bedrooms','Loc_Paris', 'm2', 'nb_bain','nb_bat','nb_good','Cave', 'balc_terr', 'Rénové', 'Parking',\n",
    "       'Price_int']]"
   ]
  },
  {
   "cell_type": "code",
   "execution_count": 465,
   "metadata": {},
   "outputs": [
    {
     "name": "stdout",
     "output_type": "stream",
     "text": [
      "<class 'pandas.core.frame.DataFrame'>\n",
      "RangeIndex: 2208 entries, 0 to 2207\n",
      "Data columns (total 12 columns):\n",
      " #   Column     Non-Null Count  Dtype \n",
      "---  ------     --------------  ----- \n",
      " 0   Rooms      2208 non-null   object\n",
      " 1   Bedrooms   2208 non-null   object\n",
      " 2   Loc_Paris  2208 non-null   int64 \n",
      " 3   m2         2208 non-null   int64 \n",
      " 4   nb_bain    2208 non-null   int64 \n",
      " 5   nb_bat     2208 non-null   int64 \n",
      " 6   nb_good    2208 non-null   int64 \n",
      " 7   Cave       2208 non-null   int64 \n",
      " 8   balc_terr  2208 non-null   object\n",
      " 9   Rénové     2208 non-null   int64 \n",
      " 10  Parking    2208 non-null   int64 \n",
      " 11  Price_int  2208 non-null   int64 \n",
      "dtypes: int64(9), object(3)\n",
      "memory usage: 207.1+ KB\n"
     ]
    }
   ],
   "source": [
    "df.info()"
   ]
  },
  {
   "cell_type": "code",
   "execution_count": 466,
   "metadata": {},
   "outputs": [],
   "source": [
    "#get dummy data\n",
    "df=pd.get_dummies(df)"
   ]
  },
  {
   "cell_type": "code",
   "execution_count": 467,
   "metadata": {},
   "outputs": [
    {
     "name": "stdout",
     "output_type": "stream",
     "text": [
      "<class 'pandas.core.frame.DataFrame'>\n",
      "RangeIndex: 2208 entries, 0 to 2207\n",
      "Data columns (total 26 columns):\n",
      " #   Column                      Non-Null Count  Dtype\n",
      "---  ------                      --------------  -----\n",
      " 0   Loc_Paris                   2208 non-null   int64\n",
      " 1   m2                          2208 non-null   int64\n",
      " 2   nb_bain                     2208 non-null   int64\n",
      " 3   nb_bat                      2208 non-null   int64\n",
      " 4   nb_good                     2208 non-null   int64\n",
      " 5   Cave                        2208 non-null   int64\n",
      " 6   Rénové                      2208 non-null   int64\n",
      " 7   Parking                     2208 non-null   int64\n",
      " 8   Price_int                   2208 non-null   int64\n",
      " 9   Rooms_1 p.                  2208 non-null   uint8\n",
      " 10  Rooms_2 p.                  2208 non-null   uint8\n",
      " 11  Rooms_3 p.                  2208 non-null   uint8\n",
      " 12  Rooms_4 p.                  2208 non-null   uint8\n",
      " 13  Rooms_5 p.                  2208 non-null   uint8\n",
      " 14  Rooms_6 p.                  2208 non-null   uint8\n",
      " 15  Rooms_7 p.                  2208 non-null   uint8\n",
      " 16  Bedrooms_0 p.               2208 non-null   uint8\n",
      " 17  Bedrooms_1 p.               2208 non-null   uint8\n",
      " 18  Bedrooms_2 p.               2208 non-null   uint8\n",
      " 19  Bedrooms_3 p.               2208 non-null   uint8\n",
      " 20  Bedrooms_4 p.               2208 non-null   uint8\n",
      " 21  Bedrooms_5 p.               2208 non-null   uint8\n",
      " 22  balc_terr_0                 2208 non-null   uint8\n",
      " 23  balc_terr_Balcon            2208 non-null   uint8\n",
      " 24  balc_terr_Terrasse          2208 non-null   uint8\n",
      " 25  balc_terr_Terrasse, balcon  2208 non-null   uint8\n",
      "dtypes: int64(9), uint8(17)\n",
      "memory usage: 192.0 KB\n"
     ]
    }
   ],
   "source": [
    "df.info()"
   ]
  },
  {
   "cell_type": "code",
   "execution_count": 468,
   "metadata": {},
   "outputs": [
    {
     "data": {
      "text/html": [
       "<div>\n",
       "<style scoped>\n",
       "    .dataframe tbody tr th:only-of-type {\n",
       "        vertical-align: middle;\n",
       "    }\n",
       "\n",
       "    .dataframe tbody tr th {\n",
       "        vertical-align: top;\n",
       "    }\n",
       "\n",
       "    .dataframe thead th {\n",
       "        text-align: right;\n",
       "    }\n",
       "</style>\n",
       "<table border=\"1\" class=\"dataframe\">\n",
       "  <thead>\n",
       "    <tr style=\"text-align: right;\">\n",
       "      <th></th>\n",
       "      <th>Loc_Paris</th>\n",
       "      <th>m2</th>\n",
       "      <th>nb_bain</th>\n",
       "      <th>nb_bat</th>\n",
       "      <th>nb_good</th>\n",
       "      <th>Cave</th>\n",
       "      <th>Rénové</th>\n",
       "      <th>Parking</th>\n",
       "      <th>Price_int</th>\n",
       "      <th>Rooms_1 p.</th>\n",
       "      <th>...</th>\n",
       "      <th>Bedrooms_0 p.</th>\n",
       "      <th>Bedrooms_1 p.</th>\n",
       "      <th>Bedrooms_2 p.</th>\n",
       "      <th>Bedrooms_3 p.</th>\n",
       "      <th>Bedrooms_4 p.</th>\n",
       "      <th>Bedrooms_5 p.</th>\n",
       "      <th>balc_terr_0</th>\n",
       "      <th>balc_terr_Balcon</th>\n",
       "      <th>balc_terr_Terrasse</th>\n",
       "      <th>balc_terr_Terrasse, balcon</th>\n",
       "    </tr>\n",
       "  </thead>\n",
       "  <tbody>\n",
       "    <tr>\n",
       "      <th>0</th>\n",
       "      <td>19</td>\n",
       "      <td>33</td>\n",
       "      <td>1</td>\n",
       "      <td>14</td>\n",
       "      <td>1</td>\n",
       "      <td>0</td>\n",
       "      <td>0</td>\n",
       "      <td>1</td>\n",
       "      <td>328600</td>\n",
       "      <td>1</td>\n",
       "      <td>...</td>\n",
       "      <td>1</td>\n",
       "      <td>0</td>\n",
       "      <td>0</td>\n",
       "      <td>0</td>\n",
       "      <td>0</td>\n",
       "      <td>0</td>\n",
       "      <td>1</td>\n",
       "      <td>0</td>\n",
       "      <td>0</td>\n",
       "      <td>0</td>\n",
       "    </tr>\n",
       "    <tr>\n",
       "      <th>1</th>\n",
       "      <td>4</td>\n",
       "      <td>122</td>\n",
       "      <td>1</td>\n",
       "      <td>4</td>\n",
       "      <td>2</td>\n",
       "      <td>1</td>\n",
       "      <td>0</td>\n",
       "      <td>1</td>\n",
       "      <td>1940000</td>\n",
       "      <td>0</td>\n",
       "      <td>...</td>\n",
       "      <td>0</td>\n",
       "      <td>0</td>\n",
       "      <td>0</td>\n",
       "      <td>0</td>\n",
       "      <td>1</td>\n",
       "      <td>0</td>\n",
       "      <td>0</td>\n",
       "      <td>0</td>\n",
       "      <td>1</td>\n",
       "      <td>0</td>\n",
       "    </tr>\n",
       "    <tr>\n",
       "      <th>2</th>\n",
       "      <td>15</td>\n",
       "      <td>32</td>\n",
       "      <td>1</td>\n",
       "      <td>9</td>\n",
       "      <td>8</td>\n",
       "      <td>1</td>\n",
       "      <td>0</td>\n",
       "      <td>0</td>\n",
       "      <td>375000</td>\n",
       "      <td>1</td>\n",
       "      <td>...</td>\n",
       "      <td>1</td>\n",
       "      <td>0</td>\n",
       "      <td>0</td>\n",
       "      <td>0</td>\n",
       "      <td>0</td>\n",
       "      <td>0</td>\n",
       "      <td>1</td>\n",
       "      <td>0</td>\n",
       "      <td>0</td>\n",
       "      <td>0</td>\n",
       "    </tr>\n",
       "    <tr>\n",
       "      <th>3</th>\n",
       "      <td>11</td>\n",
       "      <td>67</td>\n",
       "      <td>1</td>\n",
       "      <td>6</td>\n",
       "      <td>5</td>\n",
       "      <td>1</td>\n",
       "      <td>0</td>\n",
       "      <td>0</td>\n",
       "      <td>745000</td>\n",
       "      <td>0</td>\n",
       "      <td>...</td>\n",
       "      <td>0</td>\n",
       "      <td>0</td>\n",
       "      <td>1</td>\n",
       "      <td>0</td>\n",
       "      <td>0</td>\n",
       "      <td>0</td>\n",
       "      <td>1</td>\n",
       "      <td>0</td>\n",
       "      <td>0</td>\n",
       "      <td>0</td>\n",
       "    </tr>\n",
       "    <tr>\n",
       "      <th>4</th>\n",
       "      <td>20</td>\n",
       "      <td>29</td>\n",
       "      <td>1</td>\n",
       "      <td>5</td>\n",
       "      <td>4</td>\n",
       "      <td>0</td>\n",
       "      <td>0</td>\n",
       "      <td>1</td>\n",
       "      <td>346500</td>\n",
       "      <td>1</td>\n",
       "      <td>...</td>\n",
       "      <td>1</td>\n",
       "      <td>0</td>\n",
       "      <td>0</td>\n",
       "      <td>0</td>\n",
       "      <td>0</td>\n",
       "      <td>0</td>\n",
       "      <td>1</td>\n",
       "      <td>0</td>\n",
       "      <td>0</td>\n",
       "      <td>0</td>\n",
       "    </tr>\n",
       "  </tbody>\n",
       "</table>\n",
       "<p>5 rows × 26 columns</p>\n",
       "</div>"
      ],
      "text/plain": [
       "   Loc_Paris   m2  nb_bain  nb_bat  nb_good  Cave  Rénové  Parking  Price_int  \\\n",
       "0         19   33        1      14        1     0       0        1     328600   \n",
       "1          4  122        1       4        2     1       0        1    1940000   \n",
       "2         15   32        1       9        8     1       0        0     375000   \n",
       "3         11   67        1       6        5     1       0        0     745000   \n",
       "4         20   29        1       5        4     0       0        1     346500   \n",
       "\n",
       "   Rooms_1 p.  ...  Bedrooms_0 p.  Bedrooms_1 p.  Bedrooms_2 p.  \\\n",
       "0           1  ...              1              0              0   \n",
       "1           0  ...              0              0              0   \n",
       "2           1  ...              1              0              0   \n",
       "3           0  ...              0              0              1   \n",
       "4           1  ...              1              0              0   \n",
       "\n",
       "   Bedrooms_3 p.  Bedrooms_4 p.  Bedrooms_5 p.  balc_terr_0  balc_terr_Balcon  \\\n",
       "0              0              0              0            1                 0   \n",
       "1              0              1              0            0                 0   \n",
       "2              0              0              0            1                 0   \n",
       "3              0              0              0            1                 0   \n",
       "4              0              0              0            1                 0   \n",
       "\n",
       "   balc_terr_Terrasse  balc_terr_Terrasse, balcon  \n",
       "0                   0                           0  \n",
       "1                   1                           0  \n",
       "2                   0                           0  \n",
       "3                   0                           0  \n",
       "4                   0                           0  \n",
       "\n",
       "[5 rows x 26 columns]"
      ]
     },
     "execution_count": 468,
     "metadata": {},
     "output_type": "execute_result"
    }
   ],
   "source": [
    "df.head()"
   ]
  },
  {
   "cell_type": "code",
   "execution_count": 469,
   "metadata": {},
   "outputs": [],
   "source": [
    "#train test split\n",
    "X=df.drop('Price_int',axis=1)\n",
    "y=df.Price_int\n",
    "X_train,X_test,y_train,y_test=train_test_split(X,y)\n"
   ]
  },
  {
   "cell_type": "code",
   "execution_count": 470,
   "metadata": {},
   "outputs": [],
   "source": [
    "#Linear Regression\n",
    "lr=RandomForestRegressor()\n",
    "score_lr=np.mean(cross_val_score(lr,X_train,y_train,cv=5))"
   ]
  },
  {
   "cell_type": "code",
   "execution_count": 471,
   "metadata": {},
   "outputs": [],
   "source": [
    "#Lasso\n",
    "las=RandomForestRegressor()\n",
    "score_las=np.mean(cross_val_score(las,X_train,y_train,cv=5))"
   ]
  },
  {
   "cell_type": "code",
   "execution_count": 477,
   "metadata": {},
   "outputs": [],
   "source": [
    "#random forest\n",
    "rf=RandomForestRegressor()\n",
    "score_rf=np.mean(cross_val_score(rf,X_train,y_train,cv=5))"
   ]
  },
  {
   "cell_type": "code",
   "execution_count": 478,
   "metadata": {},
   "outputs": [],
   "source": [
    "scores=pd.DataFrame(index=['Linear_Reg','Lasso','Random_Forest'],data=[score_lr,score_las,score_rf],columns=['score'])"
   ]
  },
  {
   "cell_type": "code",
   "execution_count": 479,
   "metadata": {},
   "outputs": [
    {
     "data": {
      "text/html": [
       "<div>\n",
       "<style scoped>\n",
       "    .dataframe tbody tr th:only-of-type {\n",
       "        vertical-align: middle;\n",
       "    }\n",
       "\n",
       "    .dataframe tbody tr th {\n",
       "        vertical-align: top;\n",
       "    }\n",
       "\n",
       "    .dataframe thead th {\n",
       "        text-align: right;\n",
       "    }\n",
       "</style>\n",
       "<table border=\"1\" class=\"dataframe\">\n",
       "  <thead>\n",
       "    <tr style=\"text-align: right;\">\n",
       "      <th></th>\n",
       "      <th>score</th>\n",
       "    </tr>\n",
       "  </thead>\n",
       "  <tbody>\n",
       "    <tr>\n",
       "      <th>Linear_Reg</th>\n",
       "      <td>0.857780</td>\n",
       "    </tr>\n",
       "    <tr>\n",
       "      <th>Lasso</th>\n",
       "      <td>0.857426</td>\n",
       "    </tr>\n",
       "    <tr>\n",
       "      <th>Random_Forest</th>\n",
       "      <td>0.857512</td>\n",
       "    </tr>\n",
       "  </tbody>\n",
       "</table>\n",
       "</div>"
      ],
      "text/plain": [
       "                  score\n",
       "Linear_Reg     0.857780\n",
       "Lasso          0.857426\n",
       "Random_Forest  0.857512"
      ]
     },
     "execution_count": 479,
     "metadata": {},
     "output_type": "execute_result"
    }
   ],
   "source": [
    "scores"
   ]
  },
  {
   "cell_type": "code",
   "execution_count": null,
   "metadata": {},
   "outputs": [],
   "source": []
  },
  {
   "cell_type": "code",
   "execution_count": null,
   "metadata": {},
   "outputs": [],
   "source": []
  },
  {
   "cell_type": "code",
   "execution_count": 475,
   "metadata": {},
   "outputs": [
    {
     "data": {
      "text/plain": [
       "-28935140654.23527"
      ]
     },
     "execution_count": 475,
     "metadata": {},
     "output_type": "execute_result"
    }
   ],
   "source": [
    "#random forest\n",
    "rf=RandomForestRegressor()\n",
    "np.mean(cross_val_score(rf,X_train,y_train,scoring='neg_mean_squared_error',cv=5))"
   ]
  },
  {
   "cell_type": "code",
   "execution_count": 476,
   "metadata": {},
   "outputs": [
    {
     "name": "stdout",
     "output_type": "stream",
     "text": [
      "116819.30522084195\n",
      "0.14626232150515742\n"
     ]
    }
   ],
   "source": [
    "rf.fit(X_train,y_train)\n",
    "preds=rf.predict(X_test)\n",
    "\n",
    "print (mean_absolute_error(preds,y_test))\n",
    "print((mean_absolute_error(preds,y_test))/(np.mean(y_test)))"
   ]
  },
  {
   "cell_type": "code",
   "execution_count": null,
   "metadata": {},
   "outputs": [],
   "source": []
  }
 ],
 "metadata": {
  "kernelspec": {
   "display_name": "Python 3",
   "language": "python",
   "name": "python3"
  },
  "language_info": {
   "codemirror_mode": {
    "name": "ipython",
    "version": 3
   },
   "file_extension": ".py",
   "mimetype": "text/x-python",
   "name": "python",
   "nbconvert_exporter": "python",
   "pygments_lexer": "ipython3",
   "version": "3.7.6"
  }
 },
 "nbformat": 4,
 "nbformat_minor": 4
}
