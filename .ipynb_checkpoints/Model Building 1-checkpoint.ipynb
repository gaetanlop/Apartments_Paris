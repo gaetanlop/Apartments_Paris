{
 "cells": [
  {
   "cell_type": "code",
   "execution_count": 43,
   "metadata": {},
   "outputs": [],
   "source": [
    "import pandas as pd\n",
    "import matplotlib.pyplot as plt\n",
    "import numpy as np"
   ]
  },
  {
   "cell_type": "code",
   "execution_count": 44,
   "metadata": {},
   "outputs": [],
   "source": [
    "df=pd.read_csv('final_data.csv')"
   ]
  },
  {
   "cell_type": "code",
   "execution_count": 45,
   "metadata": {},
   "outputs": [],
   "source": [
    "#Choose relevant columns\n",
    "#get dummy data\n",
    "#train test split\n",
    "#multiple linear regression\n",
    "#lasso regression\n",
    "#random forest\n",
    "#xgboost\n",
    "#Adaboost\n",
    "#tune hyperparameters\n",
    "#test ensembles"
   ]
  },
  {
   "cell_type": "code",
   "execution_count": 46,
   "metadata": {},
   "outputs": [
    {
     "data": {
      "text/plain": [
       "Index(['Superficie', 'Rooms', 'Bedrooms', 'Price', 'Location', 'description',\n",
       "       'Loc_Paris', 'm2', 'nb_bat', 'nb_good', 'nb_bain', 'Cave', 'balc_terr',\n",
       "       'Chauffage', 'Rénové', 'Parking', 'Chauffage_Central',\n",
       "       'Chauffage_Individuel', 'Price_int', 'Last_etage'],\n",
       "      dtype='object')"
      ]
     },
     "execution_count": 46,
     "metadata": {},
     "output_type": "execute_result"
    }
   ],
   "source": [
    "#Choose relevant columns\n",
    "df.columns"
   ]
  },
  {
   "cell_type": "code",
   "execution_count": 47,
   "metadata": {},
   "outputs": [],
   "source": [
    "#Choose relevant columns\n",
    "df=df[['Rooms', 'Bedrooms','Loc_Paris', 'm2', 'nb_bat', 'nb_good', 'nb_bain', 'Cave', 'balc_terr', 'Rénové', 'Parking', 'Chauffage_Central',\n",
    "       'Chauffage_Individuel', 'Price_int', 'Last_etage']]"
   ]
  },
  {
   "cell_type": "code",
   "execution_count": 48,
   "metadata": {},
   "outputs": [
    {
     "name": "stdout",
     "output_type": "stream",
     "text": [
      "<class 'pandas.core.frame.DataFrame'>\n",
      "RangeIndex: 2557 entries, 0 to 2556\n",
      "Data columns (total 15 columns):\n",
      " #   Column                Non-Null Count  Dtype  \n",
      "---  ------                --------------  -----  \n",
      " 0   Rooms                 2557 non-null   object \n",
      " 1   Bedrooms              2557 non-null   object \n",
      " 2   Loc_Paris             2557 non-null   int64  \n",
      " 3   m2                    2557 non-null   int64  \n",
      " 4   nb_bat                2557 non-null   int64  \n",
      " 5   nb_good               2557 non-null   int64  \n",
      " 6   nb_bain               2557 non-null   int64  \n",
      " 7   Cave                  2557 non-null   int64  \n",
      " 8   balc_terr             2557 non-null   object \n",
      " 9   Rénové                2557 non-null   int64  \n",
      " 10  Parking               2557 non-null   int64  \n",
      " 11  Chauffage_Central     2557 non-null   int64  \n",
      " 12  Chauffage_Individuel  2557 non-null   int64  \n",
      " 13  Price_int             2557 non-null   float64\n",
      " 14  Last_etage            2557 non-null   int64  \n",
      "dtypes: float64(1), int64(11), object(3)\n",
      "memory usage: 299.8+ KB\n"
     ]
    }
   ],
   "source": [
    "df.info()"
   ]
  },
  {
   "cell_type": "code",
   "execution_count": 49,
   "metadata": {},
   "outputs": [],
   "source": [
    "#get dummy data\n",
    "#CHeck the cardinality of our categorical features to know if we wil one hot encode or label encode\n",
    "df=pd.get_dummies(df)"
   ]
  },
  {
   "cell_type": "code",
   "execution_count": 50,
   "metadata": {},
   "outputs": [
    {
     "name": "stdout",
     "output_type": "stream",
     "text": [
      "<class 'pandas.core.frame.DataFrame'>\n",
      "RangeIndex: 2557 entries, 0 to 2556\n",
      "Data columns (total 35 columns):\n",
      " #   Column                      Non-Null Count  Dtype  \n",
      "---  ------                      --------------  -----  \n",
      " 0   Loc_Paris                   2557 non-null   int64  \n",
      " 1   m2                          2557 non-null   int64  \n",
      " 2   nb_bat                      2557 non-null   int64  \n",
      " 3   nb_good                     2557 non-null   int64  \n",
      " 4   nb_bain                     2557 non-null   int64  \n",
      " 5   Cave                        2557 non-null   int64  \n",
      " 6   Rénové                      2557 non-null   int64  \n",
      " 7   Parking                     2557 non-null   int64  \n",
      " 8   Chauffage_Central           2557 non-null   int64  \n",
      " 9   Chauffage_Individuel        2557 non-null   int64  \n",
      " 10  Price_int                   2557 non-null   float64\n",
      " 11  Last_etage                  2557 non-null   int64  \n",
      " 12  Rooms_1 p.                  2557 non-null   uint8  \n",
      " 13  Rooms_14 p.                 2557 non-null   uint8  \n",
      " 14  Rooms_16 p.                 2557 non-null   uint8  \n",
      " 15  Rooms_2 p.                  2557 non-null   uint8  \n",
      " 16  Rooms_3 p.                  2557 non-null   uint8  \n",
      " 17  Rooms_4 p.                  2557 non-null   uint8  \n",
      " 18  Rooms_5 p.                  2557 non-null   uint8  \n",
      " 19  Rooms_6 p.                  2557 non-null   uint8  \n",
      " 20  Rooms_7 p.                  2557 non-null   uint8  \n",
      " 21  Rooms_8 p.                  2557 non-null   uint8  \n",
      " 22  Rooms_9 p.                  2557 non-null   uint8  \n",
      " 23  Bedrooms_0 p.               2557 non-null   uint8  \n",
      " 24  Bedrooms_1 p.               2557 non-null   uint8  \n",
      " 25  Bedrooms_12 p.              2557 non-null   uint8  \n",
      " 26  Bedrooms_2 p.               2557 non-null   uint8  \n",
      " 27  Bedrooms_3 p.               2557 non-null   uint8  \n",
      " 28  Bedrooms_4 p.               2557 non-null   uint8  \n",
      " 29  Bedrooms_5 p.               2557 non-null   uint8  \n",
      " 30  Bedrooms_6 p.               2557 non-null   uint8  \n",
      " 31  balc_terr_0                 2557 non-null   uint8  \n",
      " 32  balc_terr_Balcon            2557 non-null   uint8  \n",
      " 33  balc_terr_Terrasse          2557 non-null   uint8  \n",
      " 34  balc_terr_Terrasse, balcon  2557 non-null   uint8  \n",
      "dtypes: float64(1), int64(11), uint8(23)\n",
      "memory usage: 297.3 KB\n"
     ]
    }
   ],
   "source": [
    "df.info()"
   ]
  },
  {
   "cell_type": "code",
   "execution_count": 58,
   "metadata": {},
   "outputs": [],
   "source": [
    "#train test split\n",
    "from sklearn.model_selection import train_test_split\n",
    "X=df.drop('Price_int',axis=1)\n",
    "y=df.Price_int\n",
    "X_train,X_test,y_train,y_test=train_test_split(X,y)"
   ]
  },
  {
   "cell_type": "code",
   "execution_count": 64,
   "metadata": {},
   "outputs": [
    {
     "data": {
      "text/plain": [
       "-0.057352743395546545"
      ]
     },
     "execution_count": 64,
     "metadata": {},
     "output_type": "execute_result"
    }
   ],
   "source": [
    "#random forest\n",
    "from sklearn.ensemble import RandomForestRegressor\n",
    "from sklearn.model_selection import cross_val_score\n",
    "\n",
    "rf=RandomForestRegressor()\n",
    "np.mean(cross_val_score(rf,X_train,y_train,scoring='neg_mean_squared_error',cv=3))"
   ]
  },
  {
   "cell_type": "code",
   "execution_count": null,
   "metadata": {},
   "outputs": [],
   "source": []
  }
 ],
 "metadata": {
  "kernelspec": {
   "display_name": "Python 3",
   "language": "python",
   "name": "python3"
  },
  "language_info": {
   "codemirror_mode": {
    "name": "ipython",
    "version": 3
   },
   "file_extension": ".py",
   "mimetype": "text/x-python",
   "name": "python",
   "nbconvert_exporter": "python",
   "pygments_lexer": "ipython3",
   "version": "3.7.6"
  }
 },
 "nbformat": 4,
 "nbformat_minor": 4
}
