{
 "cells": [
  {
   "cell_type": "markdown",
   "metadata": {},
   "source": [
    "## Imports\n"
   ]
  },
  {
   "cell_type": "code",
   "execution_count": 1,
   "metadata": {},
   "outputs": [],
   "source": [
    "import pandas as pd\n",
    "import matplotlib.pyplot as plt\n",
    "import numpy as np\n",
    "from sklearn.model_selection import train_test_split\n",
    "from sklearn.metrics import mean_absolute_error\n",
    "from sklearn.ensemble import RandomForestRegressor\n",
    "from sklearn.linear_model import LinearRegression,Lasso,Ridge\n",
    "from sklearn.model_selection import cross_val_score\n",
    "from sklearn.metrics import mean_absolute_error\n",
    "from sklearn.base import BaseEstimator\n",
    "from sklearn.base import RegressorMixin\n",
    "from sklearn.base import clone\n",
    "from sklearn.base import TransformerMixin"
   ]
  },
  {
   "cell_type": "markdown",
   "metadata": {},
   "source": [
    "## Reading the file"
   ]
  },
  {
   "cell_type": "code",
   "execution_count": 2,
   "metadata": {},
   "outputs": [],
   "source": [
    "df=pd.read_csv('final_data_Copy.csv')"
   ]
  },
  {
   "cell_type": "code",
   "execution_count": 3,
   "metadata": {},
   "outputs": [
    {
     "data": {
      "text/plain": [
       "(3080, 18)"
      ]
     },
     "execution_count": 3,
     "metadata": {},
     "output_type": "execute_result"
    }
   ],
   "source": [
    "df.shape"
   ]
  },
  {
   "cell_type": "code",
   "execution_count": 4,
   "metadata": {},
   "outputs": [
    {
     "name": "stdout",
     "output_type": "stream",
     "text": [
      "<class 'pandas.core.frame.DataFrame'>\n",
      "RangeIndex: 3080 entries, 0 to 3079\n",
      "Data columns (total 18 columns):\n",
      " #   Column              Non-Null Count  Dtype  \n",
      "---  ------              --------------  -----  \n",
      " 0   m2                  3080 non-null   float64\n",
      " 1   nb_rooms            3080 non-null   int64  \n",
      " 2   nb_bedrooms         3080 non-null   int64  \n",
      " 3   building_floor      3080 non-null   int64  \n",
      " 4   apartment_floor     3080 non-null   int64  \n",
      " 5   nb_bath             3080 non-null   int64  \n",
      " 6   Cellar              3080 non-null   int64  \n",
      " 7   balc_patio          3080 non-null   object \n",
      " 8   Heating             3080 non-null   object \n",
      " 9   Renovated           3080 non-null   int64  \n",
      " 10  Parking             3080 non-null   int64  \n",
      " 11  building_height     3080 non-null   object \n",
      " 12  Ground_floor        3080 non-null   int64  \n",
      " 13  Heating_Central     3080 non-null   int64  \n",
      " 14  Heating_Individual  3080 non-null   int64  \n",
      " 15  Last_floor          3080 non-null   int64  \n",
      " 16  district            3080 non-null   object \n",
      " 17  SalePrice_K         3080 non-null   float64\n",
      "dtypes: float64(2), int64(12), object(4)\n",
      "memory usage: 433.2+ KB\n"
     ]
    }
   ],
   "source": [
    "df.info()"
   ]
  },
  {
   "cell_type": "markdown",
   "metadata": {},
   "source": [
    "## What will we do ?\n",
    "- Choose relevant columns\n",
    "- get dummy data\n",
    "- train test split\n",
    "- multiple linear regression\n",
    "- ridge regression\n",
    "- random forest\n",
    "- tune hyperparameters\n",
    "- make predictions\n",
    "- stacking"
   ]
  },
  {
   "cell_type": "markdown",
   "metadata": {},
   "source": [
    "## Choose relevant columns"
   ]
  },
  {
   "cell_type": "code",
   "execution_count": 5,
   "metadata": {},
   "outputs": [
    {
     "data": {
      "text/plain": [
       "Index(['m2', 'nb_rooms', 'nb_bedrooms', 'building_floor', 'apartment_floor',\n",
       "       'nb_bath', 'Cellar', 'balc_patio', 'Heating', 'Renovated', 'Parking',\n",
       "       'building_height', 'Ground_floor', 'Heating_Central',\n",
       "       'Heating_Individual', 'Last_floor', 'district', 'SalePrice_K'],\n",
       "      dtype='object')"
      ]
     },
     "execution_count": 5,
     "metadata": {},
     "output_type": "execute_result"
    }
   ],
   "source": [
    "df.columns"
   ]
  },
  {
   "cell_type": "code",
   "execution_count": 6,
   "metadata": {},
   "outputs": [],
   "source": [
    "df=df[['m2', 'nb_rooms','nb_bedrooms','nb_bath','apartment_floor','building_floor',\n",
    "        'Cellar','Parking', 'balc_patio','Renovated', 'Ground_floor',\n",
    "       'Last_floor', 'district','building_height','SalePrice_K']]"
   ]
  },
  {
   "cell_type": "markdown",
   "metadata": {},
   "source": [
    "## Dealing with categorical variables"
   ]
  },
  {
   "cell_type": "code",
   "execution_count": 7,
   "metadata": {},
   "outputs": [],
   "source": [
    "from sklearn.preprocessing import OneHotEncoder\n",
    "encoder=OneHotEncoder(handle_unknown='ignore',sparse=False)\n",
    "df_enc=pd.DataFrame(encoder.fit_transform(df[['balc_patio','district','building_height']]))\n",
    "df_enc.columns=encoder.get_feature_names(['balc_patio','district','building_height'])\n",
    "df.drop(['balc_patio','district','building_height'],axis=1,inplace=True)\n",
    "df=pd.concat([df,df_enc],axis=1)"
   ]
  },
  {
   "cell_type": "code",
   "execution_count": 8,
   "metadata": {},
   "outputs": [
    {
     "data": {
      "text/html": [
       "<div>\n",
       "<style scoped>\n",
       "    .dataframe tbody tr th:only-of-type {\n",
       "        vertical-align: middle;\n",
       "    }\n",
       "\n",
       "    .dataframe tbody tr th {\n",
       "        vertical-align: top;\n",
       "    }\n",
       "\n",
       "    .dataframe thead th {\n",
       "        text-align: right;\n",
       "    }\n",
       "</style>\n",
       "<table border=\"1\" class=\"dataframe\">\n",
       "  <thead>\n",
       "    <tr style=\"text-align: right;\">\n",
       "      <th></th>\n",
       "      <th>m2</th>\n",
       "      <th>nb_rooms</th>\n",
       "      <th>nb_bedrooms</th>\n",
       "      <th>nb_bath</th>\n",
       "      <th>apartment_floor</th>\n",
       "      <th>building_floor</th>\n",
       "      <th>Cellar</th>\n",
       "      <th>Parking</th>\n",
       "      <th>Renovated</th>\n",
       "      <th>Ground_floor</th>\n",
       "      <th>...</th>\n",
       "      <th>district_4e</th>\n",
       "      <th>district_5e</th>\n",
       "      <th>district_6e</th>\n",
       "      <th>district_7e</th>\n",
       "      <th>district_8e</th>\n",
       "      <th>district_9e</th>\n",
       "      <th>building_height_Average</th>\n",
       "      <th>building_height_High</th>\n",
       "      <th>building_height_Small</th>\n",
       "      <th>building_height_Tower</th>\n",
       "    </tr>\n",
       "  </thead>\n",
       "  <tbody>\n",
       "    <tr>\n",
       "      <th>0</th>\n",
       "      <td>3.496508</td>\n",
       "      <td>1</td>\n",
       "      <td>0</td>\n",
       "      <td>1</td>\n",
       "      <td>1</td>\n",
       "      <td>14</td>\n",
       "      <td>0</td>\n",
       "      <td>1</td>\n",
       "      <td>0</td>\n",
       "      <td>0</td>\n",
       "      <td>...</td>\n",
       "      <td>0.0</td>\n",
       "      <td>0.0</td>\n",
       "      <td>0.0</td>\n",
       "      <td>0.0</td>\n",
       "      <td>0.0</td>\n",
       "      <td>0.0</td>\n",
       "      <td>0.0</td>\n",
       "      <td>0.0</td>\n",
       "      <td>0.0</td>\n",
       "      <td>1.0</td>\n",
       "    </tr>\n",
       "    <tr>\n",
       "      <th>1</th>\n",
       "      <td>4.804021</td>\n",
       "      <td>5</td>\n",
       "      <td>4</td>\n",
       "      <td>1</td>\n",
       "      <td>2</td>\n",
       "      <td>4</td>\n",
       "      <td>1</td>\n",
       "      <td>1</td>\n",
       "      <td>0</td>\n",
       "      <td>0</td>\n",
       "      <td>...</td>\n",
       "      <td>1.0</td>\n",
       "      <td>0.0</td>\n",
       "      <td>0.0</td>\n",
       "      <td>0.0</td>\n",
       "      <td>0.0</td>\n",
       "      <td>0.0</td>\n",
       "      <td>1.0</td>\n",
       "      <td>0.0</td>\n",
       "      <td>0.0</td>\n",
       "      <td>0.0</td>\n",
       "    </tr>\n",
       "    <tr>\n",
       "      <th>2</th>\n",
       "      <td>4.219508</td>\n",
       "      <td>4</td>\n",
       "      <td>3</td>\n",
       "      <td>1</td>\n",
       "      <td>0</td>\n",
       "      <td>3</td>\n",
       "      <td>0</td>\n",
       "      <td>0</td>\n",
       "      <td>0</td>\n",
       "      <td>1</td>\n",
       "      <td>...</td>\n",
       "      <td>0.0</td>\n",
       "      <td>0.0</td>\n",
       "      <td>0.0</td>\n",
       "      <td>0.0</td>\n",
       "      <td>0.0</td>\n",
       "      <td>0.0</td>\n",
       "      <td>0.0</td>\n",
       "      <td>0.0</td>\n",
       "      <td>1.0</td>\n",
       "      <td>0.0</td>\n",
       "    </tr>\n",
       "    <tr>\n",
       "      <th>3</th>\n",
       "      <td>3.583519</td>\n",
       "      <td>2</td>\n",
       "      <td>1</td>\n",
       "      <td>1</td>\n",
       "      <td>2</td>\n",
       "      <td>0</td>\n",
       "      <td>1</td>\n",
       "      <td>0</td>\n",
       "      <td>0</td>\n",
       "      <td>0</td>\n",
       "      <td>...</td>\n",
       "      <td>0.0</td>\n",
       "      <td>0.0</td>\n",
       "      <td>0.0</td>\n",
       "      <td>0.0</td>\n",
       "      <td>0.0</td>\n",
       "      <td>0.0</td>\n",
       "      <td>1.0</td>\n",
       "      <td>0.0</td>\n",
       "      <td>0.0</td>\n",
       "      <td>0.0</td>\n",
       "    </tr>\n",
       "    <tr>\n",
       "      <th>4</th>\n",
       "      <td>3.465736</td>\n",
       "      <td>1</td>\n",
       "      <td>0</td>\n",
       "      <td>1</td>\n",
       "      <td>8</td>\n",
       "      <td>9</td>\n",
       "      <td>1</td>\n",
       "      <td>0</td>\n",
       "      <td>0</td>\n",
       "      <td>0</td>\n",
       "      <td>...</td>\n",
       "      <td>0.0</td>\n",
       "      <td>0.0</td>\n",
       "      <td>0.0</td>\n",
       "      <td>0.0</td>\n",
       "      <td>0.0</td>\n",
       "      <td>0.0</td>\n",
       "      <td>1.0</td>\n",
       "      <td>0.0</td>\n",
       "      <td>0.0</td>\n",
       "      <td>0.0</td>\n",
       "    </tr>\n",
       "  </tbody>\n",
       "</table>\n",
       "<p>5 rows × 40 columns</p>\n",
       "</div>"
      ],
      "text/plain": [
       "         m2  nb_rooms  nb_bedrooms  nb_bath  apartment_floor  building_floor  \\\n",
       "0  3.496508         1            0        1                1              14   \n",
       "1  4.804021         5            4        1                2               4   \n",
       "2  4.219508         4            3        1                0               3   \n",
       "3  3.583519         2            1        1                2               0   \n",
       "4  3.465736         1            0        1                8               9   \n",
       "\n",
       "   Cellar  Parking  Renovated  Ground_floor  ...  district_4e  district_5e  \\\n",
       "0       0        1          0             0  ...          0.0          0.0   \n",
       "1       1        1          0             0  ...          1.0          0.0   \n",
       "2       0        0          0             1  ...          0.0          0.0   \n",
       "3       1        0          0             0  ...          0.0          0.0   \n",
       "4       1        0          0             0  ...          0.0          0.0   \n",
       "\n",
       "   district_6e  district_7e  district_8e  district_9e  \\\n",
       "0          0.0          0.0          0.0          0.0   \n",
       "1          0.0          0.0          0.0          0.0   \n",
       "2          0.0          0.0          0.0          0.0   \n",
       "3          0.0          0.0          0.0          0.0   \n",
       "4          0.0          0.0          0.0          0.0   \n",
       "\n",
       "   building_height_Average  building_height_High  building_height_Small  \\\n",
       "0                      0.0                   0.0                    0.0   \n",
       "1                      1.0                   0.0                    0.0   \n",
       "2                      0.0                   0.0                    1.0   \n",
       "3                      1.0                   0.0                    0.0   \n",
       "4                      1.0                   0.0                    0.0   \n",
       "\n",
       "   building_height_Tower  \n",
       "0                    1.0  \n",
       "1                    0.0  \n",
       "2                    0.0  \n",
       "3                    0.0  \n",
       "4                    0.0  \n",
       "\n",
       "[5 rows x 40 columns]"
      ]
     },
     "execution_count": 8,
     "metadata": {},
     "output_type": "execute_result"
    }
   ],
   "source": [
    "df.head()"
   ]
  },
  {
   "cell_type": "markdown",
   "metadata": {},
   "source": [
    "## Import the encoder to reuse it in model production phase"
   ]
  },
  {
   "cell_type": "code",
   "execution_count": 9,
   "metadata": {},
   "outputs": [],
   "source": [
    "import pickle\n",
    "pickl = {'encoder': encoder}\n",
    "pickle.dump( pickl, open( 'encoder' + \".p\", \"wb\" ) )"
   ]
  },
  {
   "cell_type": "markdown",
   "metadata": {},
   "source": [
    "## Splitting the Data into a training and a testing set"
   ]
  },
  {
   "cell_type": "code",
   "execution_count": 10,
   "metadata": {},
   "outputs": [],
   "source": [
    "#train test split\n",
    "X=df.drop('SalePrice_K',axis=1)\n",
    "y=df.SalePrice_K\n",
    "X_train,X_test,y_train,y_test=train_test_split(X,y)\n"
   ]
  },
  {
   "cell_type": "markdown",
   "metadata": {},
   "source": [
    "## Test 4 models with Cross validation without hyperparameters tuning"
   ]
  },
  {
   "cell_type": "markdown",
   "metadata": {},
   "source": [
    "### Why did I decided to use Ridge and Lasso Regression?"
   ]
  },
  {
   "cell_type": "markdown",
   "metadata": {},
   "source": [
    "The Least Squares estimator (Estimator in a Linear Regression) has the desired property of being unbiased. Sometimes, it happens at the cost of the variance, especially when the indepent variables are highly correlated.\n",
    "When it happens, we should use regularizations techniques to reduce variance to the detriment of introducing more bias.\n",
    "\n",
    "Ridge and Lasso regression are two regularization techniques to reduce the complexity of the model and prevent it to overfit (low bias/high variance).\n",
    "\n",
    "- We prefer Lasso over Ridge when only a small number of predictors are significant.\n",
    "- We use Ridge when a lot of predictors have a significant impact on the dependent variable.\n"
   ]
  },
  {
   "cell_type": "markdown",
   "metadata": {},
   "source": [
    "### First let's define a function Root Mean Squared Error with Cross Validation Strategy"
   ]
  },
  {
   "cell_type": "code",
   "execution_count": 11,
   "metadata": {},
   "outputs": [],
   "source": [
    "def rmse_cv(model):\n",
    "    rmse=(-cross_val_score(model, X_train, y_train, scoring=\"neg_mean_absolute_error\", cv = 5))\n",
    "    return rmse"
   ]
  },
  {
   "cell_type": "code",
   "execution_count": 12,
   "metadata": {},
   "outputs": [
    {
     "name": "stdout",
     "output_type": "stream",
     "text": [
      "\n",
      "Linear Regression score: 0.09513822949138175 (0.0023796850048358924)\n",
      "\n"
     ]
    }
   ],
   "source": [
    "#Linear Regression\n",
    "lr=LinearRegression()\n",
    "lr.fit(X_train,y_train)\n",
    "score_lr=rmse_cv(lr)\n",
    "print(f\"\\nLinear Regression score: {score_lr.mean()} ({score_lr.std()})\\n\")"
   ]
  },
  {
   "cell_type": "code",
   "execution_count": 13,
   "metadata": {},
   "outputs": [
    {
     "name": "stdout",
     "output_type": "stream",
     "text": [
      "\n",
      "Linear Regression score: 0.5640817050856162 (0.027104464248927942)\n",
      "\n"
     ]
    }
   ],
   "source": [
    "#Lasso\n",
    "las=Lasso()\n",
    "las.fit(X_train,y_train)\n",
    "score_las=rmse_cv(las)\n",
    "print(f\"\\nLinear Regression score: {score_las.mean()} ({score_las.std()})\\n\")"
   ]
  },
  {
   "cell_type": "code",
   "execution_count": 14,
   "metadata": {},
   "outputs": [
    {
     "name": "stdout",
     "output_type": "stream",
     "text": [
      "\n",
      "Ridge score: 0.09515620599373702 (0.0024052189303825594)\n",
      "\n"
     ]
    }
   ],
   "source": [
    "#Ridge\n",
    "rg=Ridge()\n",
    "rg.fit(X_train,y_train)\n",
    "score_rg=rmse_cv(rg)\n",
    "print(f\"\\nRidge score: {score_rg.mean()} ({score_rg.std()})\\n\")"
   ]
  },
  {
   "cell_type": "code",
   "execution_count": 15,
   "metadata": {},
   "outputs": [
    {
     "name": "stdout",
     "output_type": "stream",
     "text": [
      "\n",
      "Random Forest score: 0.09473100798422898 (0.0018938389288689498)\n",
      "\n"
     ]
    }
   ],
   "source": [
    "#Random Forest\n",
    "rf=RandomForestRegressor(n_jobs=-1)\n",
    "rf.fit(X_train,y_train)\n",
    "score_rf=rmse_cv(rf)\n",
    "print(f\"\\nRandom Forest score: {score_rf.mean()} ({score_rf.std()})\\n\")"
   ]
  },
  {
   "cell_type": "code",
   "execution_count": 16,
   "metadata": {},
   "outputs": [],
   "source": [
    "scores=pd.DataFrame(index=['Linear_Reg','Lasso','Ridge','Random_Forest'],data=[score_lr.mean(),score_las.mean(),score_rg.mean(),score_rf.mean()],columns=['score']).sort_values('score',ascending=False)"
   ]
  },
  {
   "cell_type": "code",
   "execution_count": 17,
   "metadata": {},
   "outputs": [
    {
     "data": {
      "text/html": [
       "<div>\n",
       "<style scoped>\n",
       "    .dataframe tbody tr th:only-of-type {\n",
       "        vertical-align: middle;\n",
       "    }\n",
       "\n",
       "    .dataframe tbody tr th {\n",
       "        vertical-align: top;\n",
       "    }\n",
       "\n",
       "    .dataframe thead th {\n",
       "        text-align: right;\n",
       "    }\n",
       "</style>\n",
       "<table border=\"1\" class=\"dataframe\">\n",
       "  <thead>\n",
       "    <tr style=\"text-align: right;\">\n",
       "      <th></th>\n",
       "      <th>score</th>\n",
       "    </tr>\n",
       "  </thead>\n",
       "  <tbody>\n",
       "    <tr>\n",
       "      <th>Lasso</th>\n",
       "      <td>0.564082</td>\n",
       "    </tr>\n",
       "    <tr>\n",
       "      <th>Ridge</th>\n",
       "      <td>0.095156</td>\n",
       "    </tr>\n",
       "    <tr>\n",
       "      <th>Linear_Reg</th>\n",
       "      <td>0.095138</td>\n",
       "    </tr>\n",
       "    <tr>\n",
       "      <th>Random_Forest</th>\n",
       "      <td>0.094731</td>\n",
       "    </tr>\n",
       "  </tbody>\n",
       "</table>\n",
       "</div>"
      ],
      "text/plain": [
       "                  score\n",
       "Lasso          0.564082\n",
       "Ridge          0.095156\n",
       "Linear_Reg     0.095138\n",
       "Random_Forest  0.094731"
      ]
     },
     "execution_count": 17,
     "metadata": {},
     "output_type": "execute_result"
    }
   ],
   "source": [
    "scores"
   ]
  },
  {
   "cell_type": "markdown",
   "metadata": {},
   "source": [
    "## Hyperparameters tuning"
   ]
  },
  {
   "cell_type": "code",
   "execution_count": 18,
   "metadata": {},
   "outputs": [
    {
     "data": {
      "text/plain": [
       "GridSearchCV(cv=3, error_score=nan,\n",
       "             estimator=RandomForestRegressor(bootstrap=True, ccp_alpha=0.0,\n",
       "                                             criterion='mse', max_depth=None,\n",
       "                                             max_features='auto',\n",
       "                                             max_leaf_nodes=None,\n",
       "                                             max_samples=None,\n",
       "                                             min_impurity_decrease=0.0,\n",
       "                                             min_impurity_split=None,\n",
       "                                             min_samples_leaf=1,\n",
       "                                             min_samples_split=2,\n",
       "                                             min_weight_fraction_leaf=0.0,\n",
       "                                             n_estimators=100, n_jobs=-1,\n",
       "                                             oob_score=False, random_state=None,\n",
       "                                             verbose=0, warm_start=False),\n",
       "             iid='deprecated', n_jobs=None,\n",
       "             param_grid={'criterion': ('mse', 'mae'),\n",
       "                         'max_features': ['log2', 'sqrt', 1, 0.5],\n",
       "                         'min_samples_leaf': [1, 3, 5, 10, 25],\n",
       "                         'min_samples_split': [2, 3],\n",
       "                         'n_estimators': (100, 200, 300)},\n",
       "             pre_dispatch='2*n_jobs', refit=True, return_train_score=False,\n",
       "             scoring='neg_mean_absolute_error', verbose=0)"
      ]
     },
     "execution_count": 18,
     "metadata": {},
     "output_type": "execute_result"
    }
   ],
   "source": [
    "#random forest\n",
    "from sklearn.model_selection import GridSearchCV\n",
    "\n",
    "parameters={'n_estimators':(100,200,300),\n",
    "           'criterion':('mse','mae'),\n",
    "           'max_features':['log2','sqrt',1,0.5],\n",
    "           'min_samples_split':[2,3],\n",
    "           'min_samples_leaf':[1,3,5,10,25]}\n",
    "\n",
    "gs_rf=GridSearchCV(rf,parameters,scoring='neg_mean_absolute_error',cv=3)\n",
    "gs_rf.fit(X_train,y_train)"
   ]
  },
  {
   "cell_type": "code",
   "execution_count": 19,
   "metadata": {},
   "outputs": [
    {
     "data": {
      "text/plain": [
       "RandomForestRegressor(bootstrap=True, ccp_alpha=0.0, criterion='mae',\n",
       "                      max_depth=None, max_features=0.5, max_leaf_nodes=None,\n",
       "                      max_samples=None, min_impurity_decrease=0.0,\n",
       "                      min_impurity_split=None, min_samples_leaf=1,\n",
       "                      min_samples_split=2, min_weight_fraction_leaf=0.0,\n",
       "                      n_estimators=200, n_jobs=-1, oob_score=False,\n",
       "                      random_state=None, verbose=0, warm_start=False)"
      ]
     },
     "execution_count": 19,
     "metadata": {},
     "output_type": "execute_result"
    }
   ],
   "source": [
    "gs_rf.best_estimator_"
   ]
  },
  {
   "cell_type": "code",
   "execution_count": 20,
   "metadata": {},
   "outputs": [
    {
     "data": {
      "text/plain": [
       "RandomForestRegressor(bootstrap=True, ccp_alpha=0.0, criterion='mae',\n",
       "                      max_depth=None, max_features=0.5, max_leaf_nodes=None,\n",
       "                      max_samples=None, min_impurity_decrease=0.0,\n",
       "                      min_impurity_split=None, min_samples_leaf=1,\n",
       "                      min_samples_split=3, min_weight_fraction_leaf=0.0,\n",
       "                      n_estimators=300, n_jobs=-1, oob_score=False,\n",
       "                      random_state=None, verbose=0, warm_start=False)"
      ]
     },
     "execution_count": 20,
     "metadata": {},
     "output_type": "execute_result"
    }
   ],
   "source": [
    "rf=RandomForestRegressor(criterion='mae', max_features=0.5, min_samples_split=3,\n",
    "                      n_estimators=300, n_jobs=-1)\n",
    "rf.fit(X_train,y_train)"
   ]
  },
  {
   "cell_type": "code",
   "execution_count": 21,
   "metadata": {},
   "outputs": [
    {
     "data": {
      "text/plain": [
       "Ridge(alpha=0.01, copy_X=True, fit_intercept=True, max_iter=None,\n",
       "      normalize=False, random_state=None, solver='auto', tol=0.001)"
      ]
     },
     "execution_count": 21,
     "metadata": {},
     "output_type": "execute_result"
    },
    {
     "data": {
      "image/png": "[encoded data removed]",
      "text/plain": [
       "<Figure size 432x288 with 1 Axes>"
      ]
     },
     "metadata": {
      "needs_background": "light"
     },
     "output_type": "display_data"
    }
   ],
   "source": [
    "#Hyperparameters tuning\n",
    "#Ridge\n",
    "from operator import itemgetter\n",
    "lr_rg=Ridge()\n",
    "alpha=[]\n",
    "error=[]\n",
    "for i in range(1,100):\n",
    "    alpha.append(i/100)\n",
    "    lr_rg=Ridge(i/100)\n",
    "    error.append(rmse_cv(lr_rg).mean())\n",
    "    \n",
    "plt.plot(alpha,error)\n",
    "err=tuple(zip(alpha,error))\n",
    "\n",
    "best_alpha=min(err, key=itemgetter(1))[0]   \n",
    "rg=Ridge(alpha=best_alpha)\n",
    "rg.fit(X_train,y_train)"
   ]
  },
  {
   "cell_type": "code",
   "execution_count": 22,
   "metadata": {},
   "outputs": [
    {
     "data": {
      "text/plain": [
       "Lasso(alpha=0.01, copy_X=True, fit_intercept=True, max_iter=1000,\n",
       "      normalize=False, positive=False, precompute=False, random_state=None,\n",
       "      selection='cyclic', tol=0.0001, warm_start=False)"
      ]
     },
     "execution_count": 22,
     "metadata": {},
     "output_type": "execute_result"
    },
    {
     "data": {
      "image/png": "[encoded data removed]",
      "text/plain": [
       "<Figure size 432x288 with 1 Axes>"
      ]
     },
     "metadata": {
      "needs_background": "light"
     },
     "output_type": "display_data"
    }
   ],
   "source": [
    "#Hyperparameters tuning\n",
    "#Lasso\n",
    "from operator import itemgetter\n",
    "lr_las=Lasso()\n",
    "alpha=[]\n",
    "error=[]\n",
    "for i in range(1,100):\n",
    "    alpha.append(i/100)\n",
    "    lr_las=Lasso(i/100)\n",
    "    error.append(rmse_cv(lr_las).mean())\n",
    "    \n",
    "plt.plot(alpha,error)\n",
    "err=tuple(zip(alpha,error))\n",
    "\n",
    "best_alpha=min(err, key=itemgetter(1))[0]   \n",
    "las=Lasso(alpha=best_alpha)\n",
    "las.fit(X_train,y_train)"
   ]
  },
  {
   "cell_type": "markdown",
   "metadata": {},
   "source": [
    "The best alpha is 0. Using Lasso or Ridge with alpha=0 amount to the same thing as using a Linear Regression. Therefore, we will not use Lasso and Ridge"
   ]
  },
  {
   "cell_type": "markdown",
   "metadata": {},
   "source": [
    "## Make predictions"
   ]
  },
  {
   "cell_type": "code",
   "execution_count": 23,
   "metadata": {},
   "outputs": [],
   "source": [
    "preds_lr=lr.predict(X_test)\n",
    "preds_rf=rf.predict(X_test)"
   ]
  },
  {
   "cell_type": "code",
   "execution_count": 24,
   "metadata": {},
   "outputs": [],
   "source": [
    "#Calculate the score of each model\n",
    "scores_lr=mean_absolute_error(preds_lr,y_test)\n",
    "scores_rf=mean_absolute_error(preds_rf,y_test)\n",
    "scores=pd.DataFrame(index=['Linear_Reg','Random_Forest'],data=[scores_lr,scores_rf],columns=['scores_tuned']).sort_values('scores_tuned')"
   ]
  },
  {
   "cell_type": "code",
   "execution_count": 25,
   "metadata": {},
   "outputs": [],
   "source": [
    "#Calculate the score of each model in percentage of average saleprice of the apartments\n",
    "scores_lr_pr=(mean_absolute_error(np.exp(preds_lr),np.exp(y_test)))/(np.mean(np.exp(y_test)))\n",
    "scores_rf_pr=(mean_absolute_error(np.exp(preds_rf),np.exp(y_test)))/(np.mean(np.exp(y_test)))\n"
   ]
  },
  {
   "cell_type": "code",
   "execution_count": 26,
   "metadata": {},
   "outputs": [
    {
     "data": {
      "text/html": [
       "<div>\n",
       "<style scoped>\n",
       "    .dataframe tbody tr th:only-of-type {\n",
       "        vertical-align: middle;\n",
       "    }\n",
       "\n",
       "    .dataframe tbody tr th {\n",
       "        vertical-align: top;\n",
       "    }\n",
       "\n",
       "    .dataframe thead th {\n",
       "        text-align: right;\n",
       "    }\n",
       "</style>\n",
       "<table border=\"1\" class=\"dataframe\">\n",
       "  <thead>\n",
       "    <tr style=\"text-align: right;\">\n",
       "      <th></th>\n",
       "      <th>scores</th>\n",
       "      <th>scores in percentage</th>\n",
       "    </tr>\n",
       "  </thead>\n",
       "  <tbody>\n",
       "    <tr>\n",
       "      <th>Linear_Reg</th>\n",
       "      <td>0.098409</td>\n",
       "      <td>0.095122</td>\n",
       "    </tr>\n",
       "    <tr>\n",
       "      <th>Random_Forest</th>\n",
       "      <td>0.095164</td>\n",
       "      <td>0.094455</td>\n",
       "    </tr>\n",
       "  </tbody>\n",
       "</table>\n",
       "</div>"
      ],
      "text/plain": [
       "                 scores  scores in percentage\n",
       "Linear_Reg     0.098409              0.095122\n",
       "Random_Forest  0.095164              0.094455"
      ]
     },
     "execution_count": 26,
     "metadata": {},
     "output_type": "execute_result"
    }
   ],
   "source": [
    "#put the scores in a DataFrame\n",
    "scores=pd.DataFrame({'scores':[scores_lr,scores_rf],'scores in percentage':[scores_lr_pr,scores_rf_pr]})\n",
    "scores= scores.rename(index={0:'Linear_Reg',1:'Random_Forest'}).sort_values('scores',ascending=False)\n",
    "scores"
   ]
  },
  {
   "cell_type": "markdown",
   "metadata": {},
   "source": [
    "## Stacking"
   ]
  },
  {
   "cell_type": "code",
   "execution_count": 27,
   "metadata": {},
   "outputs": [],
   "source": [
    "class WeightedAveragedModels(BaseEstimator, RegressorMixin, TransformerMixin):\n",
    "    def __init__(self, models, weights):\n",
    "        self.models = models\n",
    "        self.weights = weights\n",
    "        assert sum(self.weights)==10\n",
    "        \n",
    "    def fit(self, X, y):\n",
    "        self.models_ = [clone(x) for x in self.models]\n",
    "        \n",
    "        # Train cloned base models\n",
    "        for model in self.models_:\n",
    "            model.fit(X, y)\n",
    "        return self\n",
    "    \n",
    "    def predict(self, X):\n",
    "        predictions = np.column_stack([\n",
    "            model.predict(X) for model in self.models_\n",
    "        ])\n",
    "        return np.sum(predictions*self.weights/10, axis=1)"
   ]
  },
  {
   "cell_type": "code",
   "execution_count": 39,
   "metadata": {},
   "outputs": [],
   "source": [
    "weighted_average_model = WeightedAveragedModels(models = [lr,rf], weights=[5,5])\n",
    "weighted_average_model.fit(X_train,y_train)\n",
    "preds_avg=weighted_average_model.predict(X_test)\n",
    "scores_avg=mean_absolute_error(preds_avg,y_test)\n",
    "scores_avg_pr=(mean_absolute_error(np.exp(preds_avg),np.exp(y_test)))/(np.mean(np.exp(y_test)))"
   ]
  },
  {
   "cell_type": "code",
   "execution_count": 40,
   "metadata": {},
   "outputs": [
    {
     "data": {
      "text/html": [
       "<div>\n",
       "<style scoped>\n",
       "    .dataframe tbody tr th:only-of-type {\n",
       "        vertical-align: middle;\n",
       "    }\n",
       "\n",
       "    .dataframe tbody tr th {\n",
       "        vertical-align: top;\n",
       "    }\n",
       "\n",
       "    .dataframe thead th {\n",
       "        text-align: right;\n",
       "    }\n",
       "</style>\n",
       "<table border=\"1\" class=\"dataframe\">\n",
       "  <thead>\n",
       "    <tr style=\"text-align: right;\">\n",
       "      <th></th>\n",
       "      <th>scores</th>\n",
       "      <th>scores in percentage</th>\n",
       "    </tr>\n",
       "  </thead>\n",
       "  <tbody>\n",
       "    <tr>\n",
       "      <th>Linear_Reg</th>\n",
       "      <td>0.098409</td>\n",
       "      <td>0.095122</td>\n",
       "    </tr>\n",
       "    <tr>\n",
       "      <th>Random_Forest</th>\n",
       "      <td>0.095164</td>\n",
       "      <td>0.094455</td>\n",
       "    </tr>\n",
       "    <tr>\n",
       "      <th>Weighted_average_model</th>\n",
       "      <td>0.093344</td>\n",
       "      <td>0.091514</td>\n",
       "    </tr>\n",
       "  </tbody>\n",
       "</table>\n",
       "</div>"
      ],
      "text/plain": [
       "                          scores  scores in percentage\n",
       "Linear_Reg              0.098409              0.095122\n",
       "Random_Forest           0.095164              0.094455\n",
       "Weighted_average_model  0.093344              0.091514"
      ]
     },
     "execution_count": 40,
     "metadata": {},
     "output_type": "execute_result"
    }
   ],
   "source": [
    "final_scores=pd.DataFrame({'scores':[scores_lr,scores_rf,scores_avg],'scores in percentage':[scores_lr_pr,scores_rf_pr,scores_avg_pr]})\n",
    "final_scores= final_scores.rename(index={0:'Linear_Reg',1:'Random_Forest',2:'Weighted_average_model'}).sort_values('scores',ascending=False)\n",
    "final_scores"
   ]
  },
  {
   "cell_type": "code",
   "execution_count": 41,
   "metadata": {},
   "outputs": [],
   "source": [
    "import pickle\n",
    "pickl = {'model': rf}\n",
    "pickle.dump( pickl, open( 'model_file' + \".p\", \"wb\" ) )"
   ]
  },
  {
   "cell_type": "code",
   "execution_count": null,
   "metadata": {},
   "outputs": [],
   "source": []
  }
 ],
 "metadata": {
  "kernelspec": {
   "display_name": "Python 3",
   "language": "python",
   "name": "python3"
  },
  "language_info": {
   "codemirror_mode": {
    "name": "ipython",
    "version": 3
   },
   "file_extension": ".py",
   "mimetype": "text/x-python",
   "name": "python",
   "nbconvert_exporter": "python",
   "pygments_lexer": "ipython3",
   "version": "3.7.6"
  }
 },
 "nbformat": 4,
 "nbformat_minor": 4
}
