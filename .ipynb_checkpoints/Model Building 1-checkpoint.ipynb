{
 "cells": [
  {
   "cell_type": "code",
   "execution_count": 337,
   "metadata": {},
   "outputs": [],
   "source": [
    "import pandas as pd\n",
    "import matplotlib.pyplot as plt\n",
    "import numpy as np"
   ]
  },
  {
   "cell_type": "code",
   "execution_count": 338,
   "metadata": {},
   "outputs": [],
   "source": [
    "df=pd.read_csv('final_data.csv')"
   ]
  },
  {
   "cell_type": "code",
   "execution_count": 339,
   "metadata": {},
   "outputs": [
    {
     "name": "stdout",
     "output_type": "stream",
     "text": [
      "<class 'pandas.core.frame.DataFrame'>\n",
      "RangeIndex: 2216 entries, 0 to 2215\n",
      "Data columns (total 20 columns):\n",
      " #   Column                Non-Null Count  Dtype \n",
      "---  ------                --------------  ----- \n",
      " 0   Superficie            2216 non-null   object\n",
      " 1   Rooms                 2216 non-null   object\n",
      " 2   Bedrooms              2216 non-null   object\n",
      " 3   Price                 2216 non-null   object\n",
      " 4   Location              2216 non-null   object\n",
      " 5   description           2216 non-null   object\n",
      " 6   Loc_Paris             2216 non-null   int64 \n",
      " 7   m2                    2216 non-null   int64 \n",
      " 8   nb_bat                2216 non-null   int64 \n",
      " 9   nb_good               2216 non-null   int64 \n",
      " 10  nb_bain               2216 non-null   int64 \n",
      " 11  Cave                  2216 non-null   int64 \n",
      " 12  balc_terr             2216 non-null   object\n",
      " 13  Chauffage             2216 non-null   object\n",
      " 14  Rénové                2216 non-null   int64 \n",
      " 15  Parking               2216 non-null   int64 \n",
      " 16  Chauffage_Central     2216 non-null   int64 \n",
      " 17  Chauffage_Individuel  2216 non-null   int64 \n",
      " 18  Price_int             2216 non-null   int64 \n",
      " 19  Last_etage            2216 non-null   int64 \n",
      "dtypes: int64(12), object(8)\n",
      "memory usage: 346.4+ KB\n"
     ]
    }
   ],
   "source": [
    "df.info()"
   ]
  },
  {
   "cell_type": "code",
   "execution_count": 340,
   "metadata": {},
   "outputs": [],
   "source": [
    "#Choose relevant columns\n",
    "#get dummy data\n",
    "#train test split\n",
    "#multiple linear regression\n",
    "#lasso regression\n",
    "#random forest\n",
    "#xgboost\n",
    "#Adaboost\n",
    "#tune hyperparameters\n",
    "#test ensembles"
   ]
  },
  {
   "cell_type": "code",
   "execution_count": 341,
   "metadata": {},
   "outputs": [
    {
     "data": {
      "text/plain": [
       "Index(['Superficie', 'Rooms', 'Bedrooms', 'Price', 'Location', 'description',\n",
       "       'Loc_Paris', 'm2', 'nb_bat', 'nb_good', 'nb_bain', 'Cave', 'balc_terr',\n",
       "       'Chauffage', 'Rénové', 'Parking', 'Chauffage_Central',\n",
       "       'Chauffage_Individuel', 'Price_int', 'Last_etage'],\n",
       "      dtype='object')"
      ]
     },
     "execution_count": 341,
     "metadata": {},
     "output_type": "execute_result"
    }
   ],
   "source": [
    "#Choose relevant columns\n",
    "df.columns"
   ]
  },
  {
   "cell_type": "code",
   "execution_count": 342,
   "metadata": {},
   "outputs": [],
   "source": [
    "#Choose relevant columns\n",
    "df=df[['Rooms', 'Bedrooms','Loc_Paris', 'm2', 'nb_bain','nb_bat','nb_good','Cave', 'balc_terr', 'Rénové', 'Parking',\n",
    "       'Price_int']]"
   ]
  },
  {
   "cell_type": "code",
   "execution_count": 343,
   "metadata": {},
   "outputs": [
    {
     "name": "stdout",
     "output_type": "stream",
     "text": [
      "<class 'pandas.core.frame.DataFrame'>\n",
      "RangeIndex: 2216 entries, 0 to 2215\n",
      "Data columns (total 12 columns):\n",
      " #   Column     Non-Null Count  Dtype \n",
      "---  ------     --------------  ----- \n",
      " 0   Rooms      2216 non-null   object\n",
      " 1   Bedrooms   2216 non-null   object\n",
      " 2   Loc_Paris  2216 non-null   int64 \n",
      " 3   m2         2216 non-null   int64 \n",
      " 4   nb_bain    2216 non-null   int64 \n",
      " 5   nb_bat     2216 non-null   int64 \n",
      " 6   nb_good    2216 non-null   int64 \n",
      " 7   Cave       2216 non-null   int64 \n",
      " 8   balc_terr  2216 non-null   object\n",
      " 9   Rénové     2216 non-null   int64 \n",
      " 10  Parking    2216 non-null   int64 \n",
      " 11  Price_int  2216 non-null   int64 \n",
      "dtypes: int64(9), object(3)\n",
      "memory usage: 207.9+ KB\n"
     ]
    }
   ],
   "source": [
    "df.info()"
   ]
  },
  {
   "cell_type": "code",
   "execution_count": 344,
   "metadata": {},
   "outputs": [],
   "source": [
    "#get dummy data\n",
    "#CHeck the cardinality of our categorical features to know if we wil one hot encode or label encode\n",
    "df=pd.get_dummies(df)"
   ]
  },
  {
   "cell_type": "code",
   "execution_count": 345,
   "metadata": {},
   "outputs": [
    {
     "name": "stdout",
     "output_type": "stream",
     "text": [
      "<class 'pandas.core.frame.DataFrame'>\n",
      "RangeIndex: 2216 entries, 0 to 2215\n",
      "Data columns (total 26 columns):\n",
      " #   Column                      Non-Null Count  Dtype\n",
      "---  ------                      --------------  -----\n",
      " 0   Loc_Paris                   2216 non-null   int64\n",
      " 1   m2                          2216 non-null   int64\n",
      " 2   nb_bain                     2216 non-null   int64\n",
      " 3   nb_bat                      2216 non-null   int64\n",
      " 4   nb_good                     2216 non-null   int64\n",
      " 5   Cave                        2216 non-null   int64\n",
      " 6   Rénové                      2216 non-null   int64\n",
      " 7   Parking                     2216 non-null   int64\n",
      " 8   Price_int                   2216 non-null   int64\n",
      " 9   Rooms_1 p.                  2216 non-null   uint8\n",
      " 10  Rooms_2 p.                  2216 non-null   uint8\n",
      " 11  Rooms_3 p.                  2216 non-null   uint8\n",
      " 12  Rooms_4 p.                  2216 non-null   uint8\n",
      " 13  Rooms_5 p.                  2216 non-null   uint8\n",
      " 14  Rooms_6 p.                  2216 non-null   uint8\n",
      " 15  Rooms_7 p.                  2216 non-null   uint8\n",
      " 16  Bedrooms_0 p.               2216 non-null   uint8\n",
      " 17  Bedrooms_1 p.               2216 non-null   uint8\n",
      " 18  Bedrooms_2 p.               2216 non-null   uint8\n",
      " 19  Bedrooms_3 p.               2216 non-null   uint8\n",
      " 20  Bedrooms_4 p.               2216 non-null   uint8\n",
      " 21  Bedrooms_5 p.               2216 non-null   uint8\n",
      " 22  balc_terr_0                 2216 non-null   uint8\n",
      " 23  balc_terr_Balcon            2216 non-null   uint8\n",
      " 24  balc_terr_Terrasse          2216 non-null   uint8\n",
      " 25  balc_terr_Terrasse, balcon  2216 non-null   uint8\n",
      "dtypes: int64(9), uint8(17)\n",
      "memory usage: 192.7 KB\n"
     ]
    }
   ],
   "source": [
    "df.info()"
   ]
  },
  {
   "cell_type": "code",
   "execution_count": 346,
   "metadata": {},
   "outputs": [
    {
     "data": {
      "text/html": [
       "<div>\n",
       "<style scoped>\n",
       "    .dataframe tbody tr th:only-of-type {\n",
       "        vertical-align: middle;\n",
       "    }\n",
       "\n",
       "    .dataframe tbody tr th {\n",
       "        vertical-align: top;\n",
       "    }\n",
       "\n",
       "    .dataframe thead th {\n",
       "        text-align: right;\n",
       "    }\n",
       "</style>\n",
       "<table border=\"1\" class=\"dataframe\">\n",
       "  <thead>\n",
       "    <tr style=\"text-align: right;\">\n",
       "      <th></th>\n",
       "      <th>Loc_Paris</th>\n",
       "      <th>m2</th>\n",
       "      <th>nb_bain</th>\n",
       "      <th>nb_bat</th>\n",
       "      <th>nb_good</th>\n",
       "      <th>Cave</th>\n",
       "      <th>Rénové</th>\n",
       "      <th>Parking</th>\n",
       "      <th>Price_int</th>\n",
       "      <th>Rooms_1 p.</th>\n",
       "      <th>...</th>\n",
       "      <th>Bedrooms_0 p.</th>\n",
       "      <th>Bedrooms_1 p.</th>\n",
       "      <th>Bedrooms_2 p.</th>\n",
       "      <th>Bedrooms_3 p.</th>\n",
       "      <th>Bedrooms_4 p.</th>\n",
       "      <th>Bedrooms_5 p.</th>\n",
       "      <th>balc_terr_0</th>\n",
       "      <th>balc_terr_Balcon</th>\n",
       "      <th>balc_terr_Terrasse</th>\n",
       "      <th>balc_terr_Terrasse, balcon</th>\n",
       "    </tr>\n",
       "  </thead>\n",
       "  <tbody>\n",
       "    <tr>\n",
       "      <th>0</th>\n",
       "      <td>19</td>\n",
       "      <td>33</td>\n",
       "      <td>1</td>\n",
       "      <td>14</td>\n",
       "      <td>1</td>\n",
       "      <td>0</td>\n",
       "      <td>0</td>\n",
       "      <td>1</td>\n",
       "      <td>328600</td>\n",
       "      <td>1</td>\n",
       "      <td>...</td>\n",
       "      <td>1</td>\n",
       "      <td>0</td>\n",
       "      <td>0</td>\n",
       "      <td>0</td>\n",
       "      <td>0</td>\n",
       "      <td>0</td>\n",
       "      <td>1</td>\n",
       "      <td>0</td>\n",
       "      <td>0</td>\n",
       "      <td>0</td>\n",
       "    </tr>\n",
       "    <tr>\n",
       "      <th>1</th>\n",
       "      <td>4</td>\n",
       "      <td>122</td>\n",
       "      <td>1</td>\n",
       "      <td>4</td>\n",
       "      <td>2</td>\n",
       "      <td>1</td>\n",
       "      <td>0</td>\n",
       "      <td>1</td>\n",
       "      <td>1940000</td>\n",
       "      <td>0</td>\n",
       "      <td>...</td>\n",
       "      <td>0</td>\n",
       "      <td>0</td>\n",
       "      <td>0</td>\n",
       "      <td>0</td>\n",
       "      <td>1</td>\n",
       "      <td>0</td>\n",
       "      <td>0</td>\n",
       "      <td>0</td>\n",
       "      <td>1</td>\n",
       "      <td>0</td>\n",
       "    </tr>\n",
       "    <tr>\n",
       "      <th>2</th>\n",
       "      <td>15</td>\n",
       "      <td>32</td>\n",
       "      <td>0</td>\n",
       "      <td>9</td>\n",
       "      <td>8</td>\n",
       "      <td>1</td>\n",
       "      <td>0</td>\n",
       "      <td>0</td>\n",
       "      <td>375000</td>\n",
       "      <td>1</td>\n",
       "      <td>...</td>\n",
       "      <td>1</td>\n",
       "      <td>0</td>\n",
       "      <td>0</td>\n",
       "      <td>0</td>\n",
       "      <td>0</td>\n",
       "      <td>0</td>\n",
       "      <td>1</td>\n",
       "      <td>0</td>\n",
       "      <td>0</td>\n",
       "      <td>0</td>\n",
       "    </tr>\n",
       "    <tr>\n",
       "      <th>3</th>\n",
       "      <td>11</td>\n",
       "      <td>67</td>\n",
       "      <td>1</td>\n",
       "      <td>6</td>\n",
       "      <td>5</td>\n",
       "      <td>1</td>\n",
       "      <td>0</td>\n",
       "      <td>0</td>\n",
       "      <td>745000</td>\n",
       "      <td>0</td>\n",
       "      <td>...</td>\n",
       "      <td>0</td>\n",
       "      <td>0</td>\n",
       "      <td>1</td>\n",
       "      <td>0</td>\n",
       "      <td>0</td>\n",
       "      <td>0</td>\n",
       "      <td>1</td>\n",
       "      <td>0</td>\n",
       "      <td>0</td>\n",
       "      <td>0</td>\n",
       "    </tr>\n",
       "    <tr>\n",
       "      <th>4</th>\n",
       "      <td>20</td>\n",
       "      <td>29</td>\n",
       "      <td>0</td>\n",
       "      <td>5</td>\n",
       "      <td>4</td>\n",
       "      <td>0</td>\n",
       "      <td>0</td>\n",
       "      <td>1</td>\n",
       "      <td>346500</td>\n",
       "      <td>1</td>\n",
       "      <td>...</td>\n",
       "      <td>1</td>\n",
       "      <td>0</td>\n",
       "      <td>0</td>\n",
       "      <td>0</td>\n",
       "      <td>0</td>\n",
       "      <td>0</td>\n",
       "      <td>1</td>\n",
       "      <td>0</td>\n",
       "      <td>0</td>\n",
       "      <td>0</td>\n",
       "    </tr>\n",
       "  </tbody>\n",
       "</table>\n",
       "<p>5 rows × 26 columns</p>\n",
       "</div>"
      ],
      "text/plain": [
       "   Loc_Paris   m2  nb_bain  nb_bat  nb_good  Cave  Rénové  Parking  Price_int  \\\n",
       "0         19   33        1      14        1     0       0        1     328600   \n",
       "1          4  122        1       4        2     1       0        1    1940000   \n",
       "2         15   32        0       9        8     1       0        0     375000   \n",
       "3         11   67        1       6        5     1       0        0     745000   \n",
       "4         20   29        0       5        4     0       0        1     346500   \n",
       "\n",
       "   Rooms_1 p.  ...  Bedrooms_0 p.  Bedrooms_1 p.  Bedrooms_2 p.  \\\n",
       "0           1  ...              1              0              0   \n",
       "1           0  ...              0              0              0   \n",
       "2           1  ...              1              0              0   \n",
       "3           0  ...              0              0              1   \n",
       "4           1  ...              1              0              0   \n",
       "\n",
       "   Bedrooms_3 p.  Bedrooms_4 p.  Bedrooms_5 p.  balc_terr_0  balc_terr_Balcon  \\\n",
       "0              0              0              0            1                 0   \n",
       "1              0              1              0            0                 0   \n",
       "2              0              0              0            1                 0   \n",
       "3              0              0              0            1                 0   \n",
       "4              0              0              0            1                 0   \n",
       "\n",
       "   balc_terr_Terrasse  balc_terr_Terrasse, balcon  \n",
       "0                   0                           0  \n",
       "1                   1                           0  \n",
       "2                   0                           0  \n",
       "3                   0                           0  \n",
       "4                   0                           0  \n",
       "\n",
       "[5 rows x 26 columns]"
      ]
     },
     "execution_count": 346,
     "metadata": {},
     "output_type": "execute_result"
    }
   ],
   "source": [
    "df.head()"
   ]
  },
  {
   "cell_type": "code",
   "execution_count": 347,
   "metadata": {},
   "outputs": [],
   "source": [
    "#train test split\n",
    "from sklearn.model_selection import train_test_split\n",
    "\n",
    "X=df.drop('Price_int',axis=1)\n",
    "y=df.Price_int\n",
    "X_train,X_test,y_train,y_test=train_test_split(X,y)\n"
   ]
  },
  {
   "cell_type": "code",
   "execution_count": 348,
   "metadata": {},
   "outputs": [
    {
     "data": {
      "text/plain": [
       "-30835220673.72204"
      ]
     },
     "execution_count": 348,
     "metadata": {},
     "output_type": "execute_result"
    }
   ],
   "source": [
    "#random forest\n",
    "from sklearn.ensemble import RandomForestRegressor\n",
    "from sklearn.model_selection import cross_val_score\n",
    "\n",
    "rf=RandomForestRegressor()\n",
    "np.mean(cross_val_score(rf,X_train,y_train,scoring='neg_mean_squared_error',cv=5))"
   ]
  },
  {
   "cell_type": "code",
   "execution_count": 349,
   "metadata": {},
   "outputs": [
    {
     "name": "stdout",
     "output_type": "stream",
     "text": [
      "99438.06113374593\n",
      "0.1269615883361053\n"
     ]
    }
   ],
   "source": [
    "rf.fit(X_train,y_train)\n",
    "preds=rf.predict(X_test)\n",
    "from sklearn.metrics import mean_absolute_error\n",
    "print (mean_absolute_error(preds,y_test))\n",
    "print((mean_absolute_error(preds,y_test))/(np.mean(y_test)))"
   ]
  },
  {
   "cell_type": "code",
   "execution_count": null,
   "metadata": {},
   "outputs": [],
   "source": []
  },
  {
   "cell_type": "code",
   "execution_count": null,
   "metadata": {},
   "outputs": [],
   "source": []
  }
 ],
 "metadata": {
  "kernelspec": {
   "display_name": "Python 3",
   "language": "python",
   "name": "python3"
  },
  "language_info": {
   "codemirror_mode": {
    "name": "ipython",
    "version": 3
   },
   "file_extension": ".py",
   "mimetype": "text/x-python",
   "name": "python",
   "nbconvert_exporter": "python",
   "pygments_lexer": "ipython3",
   "version": "3.7.6"
  }
 },
 "nbformat": 4,
 "nbformat_minor": 4
}
