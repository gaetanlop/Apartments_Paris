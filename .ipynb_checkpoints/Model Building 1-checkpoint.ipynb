{
 "cells": [
  {
   "cell_type": "code",
   "execution_count": 117,
   "metadata": {},
   "outputs": [],
   "source": [
    "#Imports\n",
    "import pandas as pd\n",
    "import matplotlib.pyplot as plt\n",
    "import numpy as np\n",
    "from sklearn.model_selection import train_test_split\n",
    "from sklearn.metrics import mean_absolute_error\n",
    "from sklearn.ensemble import RandomForestRegressor\n",
    "from sklearn.linear_model import LinearRegression,Lasso,Ridge\n",
    "from sklearn.model_selection import cross_val_score\n",
    "from xgboost import XGBRegressor\n",
    "from sklearn.metrics import mean_absolute_error\n"
   ]
  },
  {
   "cell_type": "code",
   "execution_count": 118,
   "metadata": {},
   "outputs": [],
   "source": [
    "df=pd.read_csv('final_data.csv')"
   ]
  },
  {
   "cell_type": "code",
   "execution_count": 119,
   "metadata": {},
   "outputs": [
    {
     "name": "stdout",
     "output_type": "stream",
     "text": [
      "<class 'pandas.core.frame.DataFrame'>\n",
      "RangeIndex: 2208 entries, 0 to 2207\n",
      "Data columns (total 21 columns):\n",
      " #   Column                Non-Null Count  Dtype  \n",
      "---  ------                --------------  -----  \n",
      " 0   Superficie            2208 non-null   object \n",
      " 1   Rooms                 2208 non-null   object \n",
      " 2   Bedrooms              2208 non-null   object \n",
      " 3   Price                 2208 non-null   object \n",
      " 4   Location              2208 non-null   object \n",
      " 5   description           2208 non-null   object \n",
      " 6   Loc_Paris             2208 non-null   int64  \n",
      " 7   m2                    2208 non-null   int64  \n",
      " 8   nb_bat                2208 non-null   int64  \n",
      " 9   nb_good               2208 non-null   int64  \n",
      " 10  nb_bain               2208 non-null   int64  \n",
      " 11  Cave                  2208 non-null   int64  \n",
      " 12  balc_terr             2208 non-null   object \n",
      " 13  Chauffage             2208 non-null   object \n",
      " 14  Rénové                2208 non-null   int64  \n",
      " 15  Parking               2208 non-null   int64  \n",
      " 16  Chauffage_Central     2208 non-null   int64  \n",
      " 17  Chauffage_Individuel  2208 non-null   int64  \n",
      " 18  Price_int             2208 non-null   float64\n",
      " 19  Last_etage            2208 non-null   int64  \n",
      " 20  nb_bathrooms          2208 non-null   int64  \n",
      "dtypes: float64(1), int64(12), object(8)\n",
      "memory usage: 362.4+ KB\n"
     ]
    }
   ],
   "source": [
    "df.info()"
   ]
  },
  {
   "cell_type": "code",
   "execution_count": 120,
   "metadata": {},
   "outputs": [],
   "source": [
    "#Choose relevant columns\n",
    "#get dummy data\n",
    "#train test split\n",
    "#multiple linear regression\n",
    "#lasso regression\n",
    "#random forest\n",
    "#xgboost\n",
    "#tune hyperparameters\n",
    "#test ensembles"
   ]
  },
  {
   "cell_type": "code",
   "execution_count": 121,
   "metadata": {},
   "outputs": [
    {
     "data": {
      "text/plain": [
       "Index(['Superficie', 'Rooms', 'Bedrooms', 'Price', 'Location', 'description',\n",
       "       'Loc_Paris', 'm2', 'nb_bat', 'nb_good', 'nb_bain', 'Cave', 'balc_terr',\n",
       "       'Chauffage', 'Rénové', 'Parking', 'Chauffage_Central',\n",
       "       'Chauffage_Individuel', 'Price_int', 'Last_etage', 'nb_bathrooms'],\n",
       "      dtype='object')"
      ]
     },
     "execution_count": 121,
     "metadata": {},
     "output_type": "execute_result"
    }
   ],
   "source": [
    "#Choose relevant columns\n",
    "df.columns"
   ]
  },
  {
   "cell_type": "code",
   "execution_count": 122,
   "metadata": {},
   "outputs": [],
   "source": [
    "#Choose relevant columns\n",
    "df=df[['Rooms', 'Bedrooms','Loc_Paris', 'm2', 'nb_bain','nb_bat','nb_good','Cave', 'balc_terr', 'Rénové', 'Parking',\n",
    "       'Price_int']]"
   ]
  },
  {
   "cell_type": "code",
   "execution_count": 123,
   "metadata": {},
   "outputs": [
    {
     "name": "stdout",
     "output_type": "stream",
     "text": [
      "<class 'pandas.core.frame.DataFrame'>\n",
      "RangeIndex: 2208 entries, 0 to 2207\n",
      "Data columns (total 12 columns):\n",
      " #   Column     Non-Null Count  Dtype  \n",
      "---  ------     --------------  -----  \n",
      " 0   Rooms      2208 non-null   object \n",
      " 1   Bedrooms   2208 non-null   object \n",
      " 2   Loc_Paris  2208 non-null   int64  \n",
      " 3   m2         2208 non-null   int64  \n",
      " 4   nb_bain    2208 non-null   int64  \n",
      " 5   nb_bat     2208 non-null   int64  \n",
      " 6   nb_good    2208 non-null   int64  \n",
      " 7   Cave       2208 non-null   int64  \n",
      " 8   balc_terr  2208 non-null   object \n",
      " 9   Rénové     2208 non-null   int64  \n",
      " 10  Parking    2208 non-null   int64  \n",
      " 11  Price_int  2208 non-null   float64\n",
      "dtypes: float64(1), int64(8), object(3)\n",
      "memory usage: 207.1+ KB\n"
     ]
    }
   ],
   "source": [
    "df.info()"
   ]
  },
  {
   "cell_type": "code",
   "execution_count": 124,
   "metadata": {},
   "outputs": [],
   "source": [
    "#get dummy data\n",
    "df=pd.get_dummies(df)"
   ]
  },
  {
   "cell_type": "code",
   "execution_count": 125,
   "metadata": {},
   "outputs": [
    {
     "name": "stdout",
     "output_type": "stream",
     "text": [
      "<class 'pandas.core.frame.DataFrame'>\n",
      "RangeIndex: 2208 entries, 0 to 2207\n",
      "Data columns (total 26 columns):\n",
      " #   Column                      Non-Null Count  Dtype  \n",
      "---  ------                      --------------  -----  \n",
      " 0   Loc_Paris                   2208 non-null   int64  \n",
      " 1   m2                          2208 non-null   int64  \n",
      " 2   nb_bain                     2208 non-null   int64  \n",
      " 3   nb_bat                      2208 non-null   int64  \n",
      " 4   nb_good                     2208 non-null   int64  \n",
      " 5   Cave                        2208 non-null   int64  \n",
      " 6   Rénové                      2208 non-null   int64  \n",
      " 7   Parking                     2208 non-null   int64  \n",
      " 8   Price_int                   2208 non-null   float64\n",
      " 9   Rooms_1 p.                  2208 non-null   uint8  \n",
      " 10  Rooms_2 p.                  2208 non-null   uint8  \n",
      " 11  Rooms_3 p.                  2208 non-null   uint8  \n",
      " 12  Rooms_4 p.                  2208 non-null   uint8  \n",
      " 13  Rooms_5 p.                  2208 non-null   uint8  \n",
      " 14  Rooms_6 p.                  2208 non-null   uint8  \n",
      " 15  Rooms_7 p.                  2208 non-null   uint8  \n",
      " 16  Bedrooms_0 p.               2208 non-null   uint8  \n",
      " 17  Bedrooms_1 p.               2208 non-null   uint8  \n",
      " 18  Bedrooms_2 p.               2208 non-null   uint8  \n",
      " 19  Bedrooms_3 p.               2208 non-null   uint8  \n",
      " 20  Bedrooms_4 p.               2208 non-null   uint8  \n",
      " 21  Bedrooms_5 p.               2208 non-null   uint8  \n",
      " 22  balc_terr_0                 2208 non-null   uint8  \n",
      " 23  balc_terr_Balcon            2208 non-null   uint8  \n",
      " 24  balc_terr_Terrasse          2208 non-null   uint8  \n",
      " 25  balc_terr_Terrasse, balcon  2208 non-null   uint8  \n",
      "dtypes: float64(1), int64(8), uint8(17)\n",
      "memory usage: 192.0 KB\n"
     ]
    }
   ],
   "source": [
    "df.info()"
   ]
  },
  {
   "cell_type": "code",
   "execution_count": 126,
   "metadata": {},
   "outputs": [
    {
     "data": {
      "text/html": [
       "<div>\n",
       "<style scoped>\n",
       "    .dataframe tbody tr th:only-of-type {\n",
       "        vertical-align: middle;\n",
       "    }\n",
       "\n",
       "    .dataframe tbody tr th {\n",
       "        vertical-align: top;\n",
       "    }\n",
       "\n",
       "    .dataframe thead th {\n",
       "        text-align: right;\n",
       "    }\n",
       "</style>\n",
       "<table border=\"1\" class=\"dataframe\">\n",
       "  <thead>\n",
       "    <tr style=\"text-align: right;\">\n",
       "      <th></th>\n",
       "      <th>Loc_Paris</th>\n",
       "      <th>m2</th>\n",
       "      <th>nb_bain</th>\n",
       "      <th>nb_bat</th>\n",
       "      <th>nb_good</th>\n",
       "      <th>Cave</th>\n",
       "      <th>Rénové</th>\n",
       "      <th>Parking</th>\n",
       "      <th>Price_int</th>\n",
       "      <th>Rooms_1 p.</th>\n",
       "      <th>...</th>\n",
       "      <th>Bedrooms_0 p.</th>\n",
       "      <th>Bedrooms_1 p.</th>\n",
       "      <th>Bedrooms_2 p.</th>\n",
       "      <th>Bedrooms_3 p.</th>\n",
       "      <th>Bedrooms_4 p.</th>\n",
       "      <th>Bedrooms_5 p.</th>\n",
       "      <th>balc_terr_0</th>\n",
       "      <th>balc_terr_Balcon</th>\n",
       "      <th>balc_terr_Terrasse</th>\n",
       "      <th>balc_terr_Terrasse, balcon</th>\n",
       "    </tr>\n",
       "  </thead>\n",
       "  <tbody>\n",
       "    <tr>\n",
       "      <th>0</th>\n",
       "      <td>19</td>\n",
       "      <td>33</td>\n",
       "      <td>1</td>\n",
       "      <td>14</td>\n",
       "      <td>1</td>\n",
       "      <td>0</td>\n",
       "      <td>0</td>\n",
       "      <td>1</td>\n",
       "      <td>12.702596</td>\n",
       "      <td>1</td>\n",
       "      <td>...</td>\n",
       "      <td>1</td>\n",
       "      <td>0</td>\n",
       "      <td>0</td>\n",
       "      <td>0</td>\n",
       "      <td>0</td>\n",
       "      <td>0</td>\n",
       "      <td>1</td>\n",
       "      <td>0</td>\n",
       "      <td>0</td>\n",
       "      <td>0</td>\n",
       "    </tr>\n",
       "    <tr>\n",
       "      <th>1</th>\n",
       "      <td>4</td>\n",
       "      <td>122</td>\n",
       "      <td>1</td>\n",
       "      <td>4</td>\n",
       "      <td>2</td>\n",
       "      <td>1</td>\n",
       "      <td>0</td>\n",
       "      <td>1</td>\n",
       "      <td>14.478199</td>\n",
       "      <td>0</td>\n",
       "      <td>...</td>\n",
       "      <td>0</td>\n",
       "      <td>0</td>\n",
       "      <td>0</td>\n",
       "      <td>0</td>\n",
       "      <td>1</td>\n",
       "      <td>0</td>\n",
       "      <td>0</td>\n",
       "      <td>0</td>\n",
       "      <td>1</td>\n",
       "      <td>0</td>\n",
       "    </tr>\n",
       "    <tr>\n",
       "      <th>2</th>\n",
       "      <td>15</td>\n",
       "      <td>32</td>\n",
       "      <td>1</td>\n",
       "      <td>9</td>\n",
       "      <td>8</td>\n",
       "      <td>1</td>\n",
       "      <td>0</td>\n",
       "      <td>0</td>\n",
       "      <td>12.834681</td>\n",
       "      <td>1</td>\n",
       "      <td>...</td>\n",
       "      <td>1</td>\n",
       "      <td>0</td>\n",
       "      <td>0</td>\n",
       "      <td>0</td>\n",
       "      <td>0</td>\n",
       "      <td>0</td>\n",
       "      <td>1</td>\n",
       "      <td>0</td>\n",
       "      <td>0</td>\n",
       "      <td>0</td>\n",
       "    </tr>\n",
       "    <tr>\n",
       "      <th>3</th>\n",
       "      <td>11</td>\n",
       "      <td>67</td>\n",
       "      <td>1</td>\n",
       "      <td>6</td>\n",
       "      <td>5</td>\n",
       "      <td>1</td>\n",
       "      <td>0</td>\n",
       "      <td>0</td>\n",
       "      <td>13.521139</td>\n",
       "      <td>0</td>\n",
       "      <td>...</td>\n",
       "      <td>0</td>\n",
       "      <td>0</td>\n",
       "      <td>1</td>\n",
       "      <td>0</td>\n",
       "      <td>0</td>\n",
       "      <td>0</td>\n",
       "      <td>1</td>\n",
       "      <td>0</td>\n",
       "      <td>0</td>\n",
       "      <td>0</td>\n",
       "    </tr>\n",
       "    <tr>\n",
       "      <th>4</th>\n",
       "      <td>20</td>\n",
       "      <td>29</td>\n",
       "      <td>1</td>\n",
       "      <td>5</td>\n",
       "      <td>4</td>\n",
       "      <td>0</td>\n",
       "      <td>0</td>\n",
       "      <td>1</td>\n",
       "      <td>12.755638</td>\n",
       "      <td>1</td>\n",
       "      <td>...</td>\n",
       "      <td>1</td>\n",
       "      <td>0</td>\n",
       "      <td>0</td>\n",
       "      <td>0</td>\n",
       "      <td>0</td>\n",
       "      <td>0</td>\n",
       "      <td>1</td>\n",
       "      <td>0</td>\n",
       "      <td>0</td>\n",
       "      <td>0</td>\n",
       "    </tr>\n",
       "  </tbody>\n",
       "</table>\n",
       "<p>5 rows × 26 columns</p>\n",
       "</div>"
      ],
      "text/plain": [
       "   Loc_Paris   m2  nb_bain  nb_bat  nb_good  Cave  Rénové  Parking  Price_int  \\\n",
       "0         19   33        1      14        1     0       0        1  12.702596   \n",
       "1          4  122        1       4        2     1       0        1  14.478199   \n",
       "2         15   32        1       9        8     1       0        0  12.834681   \n",
       "3         11   67        1       6        5     1       0        0  13.521139   \n",
       "4         20   29        1       5        4     0       0        1  12.755638   \n",
       "\n",
       "   Rooms_1 p.  ...  Bedrooms_0 p.  Bedrooms_1 p.  Bedrooms_2 p.  \\\n",
       "0           1  ...              1              0              0   \n",
       "1           0  ...              0              0              0   \n",
       "2           1  ...              1              0              0   \n",
       "3           0  ...              0              0              1   \n",
       "4           1  ...              1              0              0   \n",
       "\n",
       "   Bedrooms_3 p.  Bedrooms_4 p.  Bedrooms_5 p.  balc_terr_0  balc_terr_Balcon  \\\n",
       "0              0              0              0            1                 0   \n",
       "1              0              1              0            0                 0   \n",
       "2              0              0              0            1                 0   \n",
       "3              0              0              0            1                 0   \n",
       "4              0              0              0            1                 0   \n",
       "\n",
       "   balc_terr_Terrasse  balc_terr_Terrasse, balcon  \n",
       "0                   0                           0  \n",
       "1                   1                           0  \n",
       "2                   0                           0  \n",
       "3                   0                           0  \n",
       "4                   0                           0  \n",
       "\n",
       "[5 rows x 26 columns]"
      ]
     },
     "execution_count": 126,
     "metadata": {},
     "output_type": "execute_result"
    }
   ],
   "source": [
    "df.head()"
   ]
  },
  {
   "cell_type": "code",
   "execution_count": 127,
   "metadata": {},
   "outputs": [],
   "source": [
    "#train test split\n",
    "X=df.drop('Price_int',axis=1)\n",
    "y=df.Price_int\n",
    "X_train,X_test,y_train,y_test=train_test_split(X,y)\n"
   ]
  },
  {
   "cell_type": "code",
   "execution_count": 128,
   "metadata": {},
   "outputs": [],
   "source": [
    "#Linear Regression\n",
    "lr=LinearRegression()\n",
    "lr.fit(X_train,y_train)\n",
    "score_lr=np.mean(cross_val_score(lr,X_train,y_train,cv=5,scoring='neg_mean_absolute_error'))"
   ]
  },
  {
   "cell_type": "code",
   "execution_count": 129,
   "metadata": {},
   "outputs": [],
   "source": [
    "#Lasso\n",
    "las=Lasso()\n",
    "las.fit(X_train,y_train)\n",
    "score_las=np.mean(cross_val_score(las,X_train,y_train,cv=5,scoring='neg_mean_absolute_error'))"
   ]
  },
  {
   "cell_type": "code",
   "execution_count": 130,
   "metadata": {},
   "outputs": [],
   "source": [
    "#random forest\n",
    "rf=RandomForestRegressor(n_jobs=-1)\n",
    "score_rf=np.mean(cross_val_score(rf,X_train,y_train,cv=5,scoring='neg_mean_absolute_error'))"
   ]
  },
  {
   "cell_type": "code",
   "execution_count": 131,
   "metadata": {},
   "outputs": [],
   "source": [
    "scores=pd.DataFrame(index=['Linear_Reg','Lasso','Random_Forest'],data=[score_lr,score_las,score_rf],columns=['score']).sort_values('score',ascending=False)"
   ]
  },
  {
   "cell_type": "code",
   "execution_count": 132,
   "metadata": {},
   "outputs": [
    {
     "data": {
      "text/html": [
       "<div>\n",
       "<style scoped>\n",
       "    .dataframe tbody tr th:only-of-type {\n",
       "        vertical-align: middle;\n",
       "    }\n",
       "\n",
       "    .dataframe tbody tr th {\n",
       "        vertical-align: top;\n",
       "    }\n",
       "\n",
       "    .dataframe thead th {\n",
       "        text-align: right;\n",
       "    }\n",
       "</style>\n",
       "<table border=\"1\" class=\"dataframe\">\n",
       "  <thead>\n",
       "    <tr style=\"text-align: right;\">\n",
       "      <th></th>\n",
       "      <th>score</th>\n",
       "    </tr>\n",
       "  </thead>\n",
       "  <tbody>\n",
       "    <tr>\n",
       "      <th>Random_Forest</th>\n",
       "      <td>-0.140298</td>\n",
       "    </tr>\n",
       "    <tr>\n",
       "      <th>Linear_Reg</th>\n",
       "      <td>-0.195735</td>\n",
       "    </tr>\n",
       "    <tr>\n",
       "      <th>Lasso</th>\n",
       "      <td>-0.239425</td>\n",
       "    </tr>\n",
       "  </tbody>\n",
       "</table>\n",
       "</div>"
      ],
      "text/plain": [
       "                  score\n",
       "Random_Forest -0.140298\n",
       "Linear_Reg    -0.195735\n",
       "Lasso         -0.239425"
      ]
     },
     "execution_count": 132,
     "metadata": {},
     "output_type": "execute_result"
    }
   ],
   "source": [
    "scores"
   ]
  },
  {
   "cell_type": "code",
   "execution_count": 133,
   "metadata": {},
   "outputs": [
    {
     "data": {
      "text/plain": [
       "GridSearchCV(cv=3, estimator=RandomForestRegressor(n_jobs=-1),\n",
       "             param_grid={'criterion': ('mse', 'mae'),\n",
       "                         'max_features': ['log2', 'sqrt', 1, 0.5],\n",
       "                         'min_samples_leaf': [1, 3, 5, 10, 25],\n",
       "                         'min_samples_split': [2, 3],\n",
       "                         'n_estimators': (100, 200, 300)},\n",
       "             scoring='neg_mean_absolute_error')"
      ]
     },
     "execution_count": 133,
     "metadata": {},
     "output_type": "execute_result"
    }
   ],
   "source": [
    "#Hyperparameters tuning\n",
    "#random forest\n",
    "from sklearn.model_selection import GridSearchCV\n",
    "\n",
    "parameters={'n_estimators':(100,200,300),\n",
    "           'criterion':('mse','mae'),\n",
    "           'max_features':['log2','sqrt',1,0.5],\n",
    "           'min_samples_split':[2,3],\n",
    "           'min_samples_leaf':[1,3,5,10,25]}\n",
    "\n",
    "gs_rf=GridSearchCV(rf,parameters,scoring='neg_mean_absolute_error',cv=3)\n",
    "gs_rf.fit(X_train,y_train)"
   ]
  },
  {
   "cell_type": "code",
   "execution_count": 134,
   "metadata": {},
   "outputs": [
    {
     "data": {
      "text/plain": [
       "RandomForestRegressor(max_features=0.5, min_samples_split=3, n_estimators=300,\n",
       "                      n_jobs=-1)"
      ]
     },
     "execution_count": 134,
     "metadata": {},
     "output_type": "execute_result"
    }
   ],
   "source": [
    "gs_rf.best_estimator_"
   ]
  },
  {
   "cell_type": "code",
   "execution_count": 135,
   "metadata": {},
   "outputs": [
    {
     "data": {
      "text/plain": [
       "Lasso(alpha=0.008)"
      ]
     },
     "execution_count": 135,
     "metadata": {},
     "output_type": "execute_result"
    },
    {
     "data": {
      "image/png": "[encoded data removed]",
      "text/plain": [
       "<Figure size 432x288 with 1 Axes>"
      ]
     },
     "metadata": {
      "needs_background": "light"
     },
     "output_type": "display_data"
    }
   ],
   "source": [
    "#Hyperparameters tuning\n",
    "#Lasso\n",
    "from operator import itemgetter\n",
    "lr_las=Lasso()\n",
    "alpha=[]\n",
    "error=[]\n",
    "for i in range(1,20):\n",
    "    alpha.append(i/1000)\n",
    "    lr_las=Lasso(i/1000)\n",
    "    error.append(np.mean(cross_val_score(lr_las,X_train,y_train,cv=5,scoring='neg_mean_absolute_error')))\n",
    "    \n",
    "plt.plot(alpha,error)\n",
    "err=tuple(zip(alpha,error))\n",
    "\n",
    "best_alpha=max(err, key=itemgetter(1))[0]   \n",
    "las=Lasso(alpha=best_alpha)\n",
    "las.fit(X_train,y_train)"
   ]
  },
  {
   "cell_type": "code",
   "execution_count": 136,
   "metadata": {},
   "outputs": [],
   "source": [
    "preds_lr=lr.predict(X_test)\n",
    "preds_lasso=las.predict(X_test)\n",
    "preds_rf=gs_rf.best_estimator_.predict(X_test)"
   ]
  },
  {
   "cell_type": "code",
   "execution_count": 137,
   "metadata": {},
   "outputs": [],
   "source": [
    "scores_lr=mean_absolute_error(preds_lr,y_test)\n",
    "scores_las=mean_absolute_error(preds_lasso,y_test)\n",
    "scores_rf=mean_absolute_error(preds_rf,y_test)\n",
    "scores=pd.DataFrame(index=['Linear_Reg','Lasso','Random_Forest'],data=[scores_lr,scores_las,scores_rf],columns=['scores_tuned']).sort_values('scores_tuned')"
   ]
  },
  {
   "cell_type": "code",
   "execution_count": 142,
   "metadata": {},
   "outputs": [
    {
     "data": {
      "text/plain": [
       "0.12881359748307197"
      ]
     },
     "execution_count": 142,
     "metadata": {},
     "output_type": "execute_result"
    }
   ],
   "source": [
    "scores_lr_pr=(mean_absolute_error(np.exp(preds_lr),np.exp(y_test)))/(np.mean(np.exp(y_test)))\n",
    "scores_las_pr=(mean_absolute_error(np.exp(preds_lasso),np.exp(y_test)))/(np.mean(np.exp(y_test)))\n",
    "scores_rf_pr=(mean_absolute_error(np.exp(preds_rf),np.exp(y_test)))/(np.mean(np.exp(y_test)))\n"
   ]
  },
  {
   "cell_type": "code",
   "execution_count": 155,
   "metadata": {},
   "outputs": [
    {
     "data": {
      "text/html": [
       "<div>\n",
       "<style scoped>\n",
       "    .dataframe tbody tr th:only-of-type {\n",
       "        vertical-align: middle;\n",
       "    }\n",
       "\n",
       "    .dataframe tbody tr th {\n",
       "        vertical-align: top;\n",
       "    }\n",
       "\n",
       "    .dataframe thead th {\n",
       "        text-align: right;\n",
       "    }\n",
       "</style>\n",
       "<table border=\"1\" class=\"dataframe\">\n",
       "  <thead>\n",
       "    <tr style=\"text-align: right;\">\n",
       "      <th></th>\n",
       "      <th>scores</th>\n",
       "      <th>scores in percentage</th>\n",
       "    </tr>\n",
       "  </thead>\n",
       "  <tbody>\n",
       "    <tr>\n",
       "      <th>Random_Forest</th>\n",
       "      <td>0.126042</td>\n",
       "      <td>0.128814</td>\n",
       "    </tr>\n",
       "    <tr>\n",
       "      <th>Lasso</th>\n",
       "      <td>0.185426</td>\n",
       "      <td>0.181265</td>\n",
       "    </tr>\n",
       "    <tr>\n",
       "      <th>Linear_Reg</th>\n",
       "      <td>0.192431</td>\n",
       "      <td>0.185394</td>\n",
       "    </tr>\n",
       "  </tbody>\n",
       "</table>\n",
       "</div>"
      ],
      "text/plain": [
       "                 scores  scores in percentage\n",
       "Random_Forest  0.126042              0.128814\n",
       "Lasso          0.185426              0.181265\n",
       "Linear_Reg     0.192431              0.185394"
      ]
     },
     "execution_count": 155,
     "metadata": {},
     "output_type": "execute_result"
    }
   ],
   "source": [
    "scores=pd.DataFrame({'scores':[scores_lr,scores_las,scores_rf],'scores in percentage':[scores_lr_pr,scores_las_pr,scores_rf_pr]}).sort_values('scores',ascending=True)\n",
    "scores.rename(index={0:'Linear_Reg',1:'Lasso',2:'Random_Forest'})\n",
    "\n"
   ]
  },
  {
   "cell_type": "code",
   "execution_count": null,
   "metadata": {},
   "outputs": [],
   "source": []
  }
 ],
 "metadata": {
  "kernelspec": {
   "display_name": "Python 3",
   "language": "python",
   "name": "python3"
  },
  "language_info": {
   "codemirror_mode": {
    "name": "ipython",
    "version": 3
   },
   "file_extension": ".py",
   "mimetype": "text/x-python",
   "name": "python",
   "nbconvert_exporter": "python",
   "pygments_lexer": "ipython3",
   "version": "3.6.10"
  }
 },
 "nbformat": 4,
 "nbformat_minor": 4
}
