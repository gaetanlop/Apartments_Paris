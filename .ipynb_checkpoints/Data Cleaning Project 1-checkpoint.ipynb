{
 "cells": [
  {
   "cell_type": "code",
   "execution_count": 1,
   "metadata": {},
   "outputs": [],
   "source": [
    "import pandas as pd\n",
    "import numpy as np"
   ]
  },
  {
   "cell_type": "code",
   "execution_count": 2,
   "metadata": {},
   "outputs": [],
   "source": [
    "df=pd.read_csv('logic_immo_scrap_complete.csv')"
   ]
  },
  {
   "cell_type": "code",
   "execution_count": 3,
   "metadata": {},
   "outputs": [
    {
     "data": {
      "text/plain": [
       "(4240, 6)"
      ]
     },
     "execution_count": 3,
     "metadata": {},
     "output_type": "execute_result"
    }
   ],
   "source": [
    "df.shape"
   ]
  },
  {
   "cell_type": "code",
   "execution_count": 4,
   "metadata": {},
   "outputs": [
    {
     "data": {
      "text/html": [
       "<div>\n",
       "<style scoped>\n",
       "    .dataframe tbody tr th:only-of-type {\n",
       "        vertical-align: middle;\n",
       "    }\n",
       "\n",
       "    .dataframe tbody tr th {\n",
       "        vertical-align: top;\n",
       "    }\n",
       "\n",
       "    .dataframe thead th {\n",
       "        text-align: right;\n",
       "    }\n",
       "</style>\n",
       "<table border=\"1\" class=\"dataframe\">\n",
       "  <thead>\n",
       "    <tr style=\"text-align: right;\">\n",
       "      <th></th>\n",
       "      <th>Superficie</th>\n",
       "      <th>Rooms</th>\n",
       "      <th>Bedrooms</th>\n",
       "      <th>Price</th>\n",
       "      <th>Location</th>\n",
       "      <th>description</th>\n",
       "    </tr>\n",
       "  </thead>\n",
       "  <tbody>\n",
       "    <tr>\n",
       "      <th>0</th>\n",
       "      <td>33m²</td>\n",
       "      <td>1 p.</td>\n",
       "      <td>-1</td>\n",
       "      <td>328 600 €</td>\n",
       "      <td>Paris 19 (75019)|Secrétan - Jaurès...</td>\n",
       "      <td>Ref de l'annonce\\n:Grand Studio\\nParking\\nEtag...</td>\n",
       "    </tr>\n",
       "    <tr>\n",
       "      <th>1</th>\n",
       "      <td>122m²</td>\n",
       "      <td>5 p.</td>\n",
       "      <td>4 p.</td>\n",
       "      <td>1 940 000 €</td>\n",
       "      <td>Paris 04 (75004)\\nParis 4ème</td>\n",
       "      <td>Ref de l'annonce\\n:158\\nParking\\nTerrasse/Balc...</td>\n",
       "    </tr>\n",
       "    <tr>\n",
       "      <th>2</th>\n",
       "      <td>68m²</td>\n",
       "      <td>4 p.</td>\n",
       "      <td>3 p.</td>\n",
       "      <td>830 000 €</td>\n",
       "      <td>Paris 10 (75010)\\nParis 10ème</td>\n",
       "      <td>Ref de l'annonce\\n:2679339\\nTerrasse/Balcon\\n:...</td>\n",
       "    </tr>\n",
       "    <tr>\n",
       "      <th>3</th>\n",
       "      <td>36m²</td>\n",
       "      <td>2 p.</td>\n",
       "      <td>1 p.</td>\n",
       "      <td>524 000 €</td>\n",
       "      <td>Paris 18 (75018)\\nAbbesses</td>\n",
       "      <td>Ref de l'annonce\\n:0555\\nEtage du bien\\n:2e\\nC...</td>\n",
       "    </tr>\n",
       "    <tr>\n",
       "      <th>4</th>\n",
       "      <td>32m²</td>\n",
       "      <td>1 p.</td>\n",
       "      <td>-1</td>\n",
       "      <td>375 000 €</td>\n",
       "      <td>Paris 15 (75015)\\nParis 15ème</td>\n",
       "      <td>Ref de l'annonce\\n:162373805\\nChauffage\\n:Au g...</td>\n",
       "    </tr>\n",
       "  </tbody>\n",
       "</table>\n",
       "</div>"
      ],
      "text/plain": [
       "  Superficie Rooms Bedrooms        Price  \\\n",
       "0       33m²  1 p.       -1    328 600 €   \n",
       "1      122m²  5 p.     4 p.  1 940 000 €   \n",
       "2       68m²  4 p.     3 p.    830 000 €   \n",
       "3       36m²  2 p.     1 p.    524 000 €   \n",
       "4       32m²  1 p.       -1    375 000 €   \n",
       "\n",
       "                                Location  \\\n",
       "0  Paris 19 (75019)|Secrétan - Jaurès...   \n",
       "1           Paris 04 (75004)\\nParis 4ème   \n",
       "2          Paris 10 (75010)\\nParis 10ème   \n",
       "3             Paris 18 (75018)\\nAbbesses   \n",
       "4          Paris 15 (75015)\\nParis 15ème   \n",
       "\n",
       "                                         description  \n",
       "0  Ref de l'annonce\\n:Grand Studio\\nParking\\nEtag...  \n",
       "1  Ref de l'annonce\\n:158\\nParking\\nTerrasse/Balc...  \n",
       "2  Ref de l'annonce\\n:2679339\\nTerrasse/Balcon\\n:...  \n",
       "3  Ref de l'annonce\\n:0555\\nEtage du bien\\n:2e\\nC...  \n",
       "4  Ref de l'annonce\\n:162373805\\nChauffage\\n:Au g...  "
      ]
     },
     "execution_count": 4,
     "metadata": {},
     "output_type": "execute_result"
    }
   ],
   "source": [
    "df.head()"
   ]
  },
  {
   "cell_type": "code",
   "execution_count": 5,
   "metadata": {},
   "outputs": [],
   "source": [
    "#Location extract only the arrondissement\n",
    "#Superficie parsing\n",
    "#Rooms string without p. ??\n",
    "#Bedrooms string without p. ??\n",
    "#Bedrooms check for -1 values\n",
    "#parsing of description: extract features: Parking, Cave, Etage immeuble, etage appartement, \n",
    "                            #Terrasse/balcon, CHauffage, nb salle de bain, Rénové ?\n",
    "#price parsing"
   ]
  },
  {
   "cell_type": "code",
   "execution_count": 6,
   "metadata": {},
   "outputs": [
    {
     "data": {
      "text/plain": [
       "75018    481\n",
       "75015    424\n",
       "75016    391\n",
       "75017    322\n",
       "75020    285\n",
       "75013    233\n",
       "75011    209\n",
       "75014    209\n",
       "75019    196\n",
       "75006    178\n",
       "75008    174\n",
       "75007    174\n",
       "75010    166\n",
       "75012    150\n",
       "75005    110\n",
       "75004    107\n",
       "75009    100\n",
       "75003     94\n",
       "75116     89\n",
       "75002     88\n",
       "75001     60\n",
       "Name: Loc_Paris, dtype: int64"
      ]
     },
     "execution_count": 6,
     "metadata": {},
     "output_type": "execute_result"
    }
   ],
   "source": [
    "#Location extract only the arrondissement\n",
    "import re\n",
    "df[\"Loc_Paris\"]=df.Location.apply(lambda x: re.findall(r'\\d{5}',x)[0] )\n",
    "df.Loc_Paris.value_counts()"
   ]
  },
  {
   "cell_type": "code",
   "execution_count": 7,
   "metadata": {},
   "outputs": [
    {
     "data": {
      "text/html": [
       "<div>\n",
       "<style scoped>\n",
       "    .dataframe tbody tr th:only-of-type {\n",
       "        vertical-align: middle;\n",
       "    }\n",
       "\n",
       "    .dataframe tbody tr th {\n",
       "        vertical-align: top;\n",
       "    }\n",
       "\n",
       "    .dataframe thead th {\n",
       "        text-align: right;\n",
       "    }\n",
       "</style>\n",
       "<table border=\"1\" class=\"dataframe\">\n",
       "  <thead>\n",
       "    <tr style=\"text-align: right;\">\n",
       "      <th></th>\n",
       "      <th>Superficie</th>\n",
       "      <th>Rooms</th>\n",
       "      <th>Bedrooms</th>\n",
       "      <th>Price</th>\n",
       "      <th>Location</th>\n",
       "      <th>description</th>\n",
       "      <th>Loc_Paris</th>\n",
       "    </tr>\n",
       "  </thead>\n",
       "  <tbody>\n",
       "    <tr>\n",
       "      <th>62</th>\n",
       "      <td>17m²</td>\n",
       "      <td>2 p.</td>\n",
       "      <td>1 p.</td>\n",
       "      <td>365 000 €</td>\n",
       "      <td>Paris 16 (75116)\\nParis</td>\n",
       "      <td>Ref de l'annonce\\n:d2117f\\nChauffage\\n:Individ...</td>\n",
       "      <td>75116</td>\n",
       "    </tr>\n",
       "    <tr>\n",
       "      <th>117</th>\n",
       "      <td>29m²</td>\n",
       "      <td>1 p.</td>\n",
       "      <td>-1</td>\n",
       "      <td>457 000 €</td>\n",
       "      <td>Paris 16 (75116)\\nParis</td>\n",
       "      <td>Ref de l'annonce\\n:W-02I86Q\\nEtage du bien\\n:3...</td>\n",
       "      <td>75116</td>\n",
       "    </tr>\n",
       "    <tr>\n",
       "      <th>123</th>\n",
       "      <td>177m²</td>\n",
       "      <td>5 p.</td>\n",
       "      <td>3 p.</td>\n",
       "      <td>1 930 000 €</td>\n",
       "      <td>Paris 16 (75116)\\nParis</td>\n",
       "      <td>Ref de l'annonce\\n:W-02GTRV\\nNombre d'étages d...</td>\n",
       "      <td>75116</td>\n",
       "    </tr>\n",
       "    <tr>\n",
       "      <th>124</th>\n",
       "      <td>201m²</td>\n",
       "      <td>6 p.</td>\n",
       "      <td>3 p.</td>\n",
       "      <td>3 150 000 €</td>\n",
       "      <td>Paris 16 (75116)\\nParis</td>\n",
       "      <td>Ref de l'annonce\\n:W-02HFSG\\nEtage du bien\\n:1...</td>\n",
       "      <td>75116</td>\n",
       "    </tr>\n",
       "    <tr>\n",
       "      <th>125</th>\n",
       "      <td>143m²</td>\n",
       "      <td>4 p.</td>\n",
       "      <td>2 p.</td>\n",
       "      <td>2 665 000 €</td>\n",
       "      <td>Paris 16 (75116)\\nParis</td>\n",
       "      <td>Ref de l'annonce\\n:W-02EE9H\\nChauffage\\n:Centr...</td>\n",
       "      <td>75116</td>\n",
       "    </tr>\n",
       "    <tr>\n",
       "      <th>...</th>\n",
       "      <td>...</td>\n",
       "      <td>...</td>\n",
       "      <td>...</td>\n",
       "      <td>...</td>\n",
       "      <td>...</td>\n",
       "      <td>...</td>\n",
       "      <td>...</td>\n",
       "    </tr>\n",
       "    <tr>\n",
       "      <th>4005</th>\n",
       "      <td>420m²</td>\n",
       "      <td>10 p.</td>\n",
       "      <td>5 p.</td>\n",
       "      <td>12 900 000 €</td>\n",
       "      <td>Paris 16 (75116)\\nParis</td>\n",
       "      <td>Ref de l'annonce\\n:Henri Martin\\nRénové\\nChauf...</td>\n",
       "      <td>75116</td>\n",
       "    </tr>\n",
       "    <tr>\n",
       "      <th>4047</th>\n",
       "      <td>362m²</td>\n",
       "      <td>8 p.</td>\n",
       "      <td>5 p.</td>\n",
       "      <td>5 950 000 €</td>\n",
       "      <td>Paris 16 (75116)\\nParis</td>\n",
       "      <td>Ref de l'annonce\\n:1018PSN\\nChauffage\\n:Centra...</td>\n",
       "      <td>75116</td>\n",
       "    </tr>\n",
       "    <tr>\n",
       "      <th>4055</th>\n",
       "      <td>201m²</td>\n",
       "      <td>6 p.</td>\n",
       "      <td>3 p.</td>\n",
       "      <td>2 500 000 €</td>\n",
       "      <td>Paris 16 (75116)\\nParis</td>\n",
       "      <td>Ref de l'annonce\\n:577VHFDH\\nChauffage\\n:Indiv...</td>\n",
       "      <td>75116</td>\n",
       "    </tr>\n",
       "    <tr>\n",
       "      <th>4057</th>\n",
       "      <td>89m²</td>\n",
       "      <td>3 p.</td>\n",
       "      <td>2 p.</td>\n",
       "      <td>1 030 000 €</td>\n",
       "      <td>Paris 16 (75116)\\nParis</td>\n",
       "      <td>Ref de l'annonce\\n:546\\nChauffage\\n:Central\\nG...</td>\n",
       "      <td>75116</td>\n",
       "    </tr>\n",
       "    <tr>\n",
       "      <th>4113</th>\n",
       "      <td>242m²</td>\n",
       "      <td>7 p.</td>\n",
       "      <td>4 p.</td>\n",
       "      <td>2 890 000 €</td>\n",
       "      <td>Paris 16 (75116)\\nParis</td>\n",
       "      <td>Ref de l'annonce\\n:30608640\\nChauffage\\n:Indiv...</td>\n",
       "      <td>75116</td>\n",
       "    </tr>\n",
       "  </tbody>\n",
       "</table>\n",
       "<p>89 rows × 7 columns</p>\n",
       "</div>"
      ],
      "text/plain": [
       "     Superficie  Rooms Bedrooms         Price                 Location  \\\n",
       "62         17m²   2 p.     1 p.     365 000 €  Paris 16 (75116)\\nParis   \n",
       "117        29m²   1 p.       -1     457 000 €  Paris 16 (75116)\\nParis   \n",
       "123       177m²   5 p.     3 p.   1 930 000 €  Paris 16 (75116)\\nParis   \n",
       "124       201m²   6 p.     3 p.   3 150 000 €  Paris 16 (75116)\\nParis   \n",
       "125       143m²   4 p.     2 p.   2 665 000 €  Paris 16 (75116)\\nParis   \n",
       "...         ...    ...      ...           ...                      ...   \n",
       "4005      420m²  10 p.     5 p.  12 900 000 €  Paris 16 (75116)\\nParis   \n",
       "4047      362m²   8 p.     5 p.   5 950 000 €  Paris 16 (75116)\\nParis   \n",
       "4055      201m²   6 p.     3 p.   2 500 000 €  Paris 16 (75116)\\nParis   \n",
       "4057       89m²   3 p.     2 p.   1 030 000 €  Paris 16 (75116)\\nParis   \n",
       "4113      242m²   7 p.     4 p.   2 890 000 €  Paris 16 (75116)\\nParis   \n",
       "\n",
       "                                            description Loc_Paris  \n",
       "62    Ref de l'annonce\\n:d2117f\\nChauffage\\n:Individ...     75116  \n",
       "117   Ref de l'annonce\\n:W-02I86Q\\nEtage du bien\\n:3...     75116  \n",
       "123   Ref de l'annonce\\n:W-02GTRV\\nNombre d'étages d...     75116  \n",
       "124   Ref de l'annonce\\n:W-02HFSG\\nEtage du bien\\n:1...     75116  \n",
       "125   Ref de l'annonce\\n:W-02EE9H\\nChauffage\\n:Centr...     75116  \n",
       "...                                                 ...       ...  \n",
       "4005  Ref de l'annonce\\n:Henri Martin\\nRénové\\nChauf...     75116  \n",
       "4047  Ref de l'annonce\\n:1018PSN\\nChauffage\\n:Centra...     75116  \n",
       "4055  Ref de l'annonce\\n:577VHFDH\\nChauffage\\n:Indiv...     75116  \n",
       "4057  Ref de l'annonce\\n:546\\nChauffage\\n:Central\\nG...     75116  \n",
       "4113  Ref de l'annonce\\n:30608640\\nChauffage\\n:Indiv...     75116  \n",
       "\n",
       "[89 rows x 7 columns]"
      ]
     },
     "execution_count": 7,
     "metadata": {},
     "output_type": "execute_result"
    }
   ],
   "source": [
    "#It seems that some location are mispelled.\n",
    "df[df.Loc_Paris=='75116']"
   ]
  },
  {
   "cell_type": "code",
   "execution_count": 8,
   "metadata": {},
   "outputs": [
    {
     "data": {
      "text/plain": [
       "75018    481\n",
       "75016    480\n",
       "75015    424\n",
       "75017    322\n",
       "75020    285\n",
       "75013    233\n",
       "75011    209\n",
       "75014    209\n",
       "75019    196\n",
       "75006    178\n",
       "75008    174\n",
       "75007    174\n",
       "75010    166\n",
       "75012    150\n",
       "75005    110\n",
       "75004    107\n",
       "75009    100\n",
       "75003     94\n",
       "75002     88\n",
       "75001     60\n",
       "Name: Loc_Paris, dtype: int64"
      ]
     },
     "execution_count": 8,
     "metadata": {},
     "output_type": "execute_result"
    }
   ],
   "source": [
    "# it should be '75016' instead of '75116'\n",
    "df.Loc_Paris.replace('75116','75016',inplace=True)\n",
    "df.Loc_Paris.value_counts()"
   ]
  },
  {
   "cell_type": "code",
   "execution_count": 9,
   "metadata": {},
   "outputs": [
    {
     "data": {
      "text/plain": [
       "0        33\n",
       "1       122\n",
       "2        68\n",
       "3        36\n",
       "4        32\n",
       "       ... \n",
       "4235    128\n",
       "4236     56\n",
       "4237    155\n",
       "4238    107\n",
       "4239     43\n",
       "Name: m2, Length: 4240, dtype: int64"
      ]
     },
     "execution_count": 9,
     "metadata": {},
     "output_type": "execute_result"
    }
   ],
   "source": [
    "#Superficie parsing\n",
    "df['m2']=df.Superficie.apply(lambda x: int(x.split('m²')[0]))\n",
    "df.m2"
   ]
  },
  {
   "cell_type": "code",
   "execution_count": 10,
   "metadata": {},
   "outputs": [
    {
     "data": {
      "text/plain": [
       "2 p.     1169\n",
       "3 p.      924\n",
       "1 p.      726\n",
       "4 p.      590\n",
       "5 p.      467\n",
       "6 p.      198\n",
       "8 p.       82\n",
       "7 p.       67\n",
       "9 p.        7\n",
       "12 p.       3\n",
       "10 p.       3\n",
       "14 p.       1\n",
       "30 p.       1\n",
       "16 p.       1\n",
       "11 p.       1\n",
       "Name: Rooms, dtype: int64"
      ]
     },
     "execution_count": 10,
     "metadata": {},
     "output_type": "execute_result"
    }
   ],
   "source": [
    "#Rooms string without p. ??\n",
    "df.Rooms.value_counts()\n",
    "#Outliers spotted"
   ]
  },
  {
   "cell_type": "code",
   "execution_count": 11,
   "metadata": {},
   "outputs": [
    {
     "data": {
      "text/plain": [
       "1 p.     1369\n",
       "2 p.     1031\n",
       "0 p.      735\n",
       "3 p.      676\n",
       "4 p.      356\n",
       "5 p.       60\n",
       "6 p.        9\n",
       "7 p.        1\n",
       "12 p.       1\n",
       "8 p.        1\n",
       "10 p.       1\n",
       "Name: Bedrooms, dtype: int64"
      ]
     },
     "execution_count": 11,
     "metadata": {},
     "output_type": "execute_result"
    }
   ],
   "source": [
    "#Bedrooms string without p. ??\n",
    "#Bedrooms check for -1 values\n",
    "df.Bedrooms.replace(\"-1\", \"0 p.\",inplace=True)\n",
    "df.Bedrooms.value_counts()"
   ]
  },
  {
   "cell_type": "code",
   "execution_count": 12,
   "metadata": {},
   "outputs": [],
   "source": [
    "#parsing of description: extract features: Parking, Cave, Etage immeuble, etage appartement, \n",
    "                            #Terrasse/balcon, CHauffage, nb salle de bain, Rénové ?\n",
    "    \n",
    "#We create a funciton to extract features from the column description\n",
    "\n",
    "def extract_features(x,feature):\n",
    "    for i in range(len(df)):\n",
    "        if feature in str(x):\n",
    "            return (x.split(f'{feature}\\n:')[1].split('\\n')[0])\n",
    "        else:\n",
    "            return 0\n",
    "\n",
    "    \n",
    "        \n"
   ]
  },
  {
   "cell_type": "code",
   "execution_count": 13,
   "metadata": {},
   "outputs": [],
   "source": [
    "df[\"nb_bat\"]=df.description.apply(lambda x: extract_features(x,'bâtiment'))\n",
    "\n",
    "df[\"nb_good\"]=df.description.apply(lambda x: extract_features(x,'bien'))\n",
    "\n",
    "df[\"nb_bain\"]=df.description.apply(lambda x: extract_features(x,'bain'))\n",
    "\n",
    "df[\"Cave\"]=df.description.apply(lambda x: 1 if \"cave\" in str(x).lower() else 0)\n",
    "\n",
    "df[\"balc_terr\"]=df.description.apply(lambda x: extract_features(x,'Balcon'))\n",
    "\n",
    "df[\"Chauffage\"]=df.description.apply(lambda x: extract_features(x,'Chauffage'))\n",
    "\n",
    "df[\"nb_bain\"]=df.description.apply(lambda x: extract_features(x,'bain'))\n",
    "\n",
    "df[\"Rénové\"]=df.description.apply(lambda x: 1 if \"rénové\" in str(x).lower() else 0)\n",
    "\n",
    "df[\"Parking\"]=df.description.apply(lambda x: 1 if \"parking\" in str(x).lower() else 0)"
   ]
  },
  {
   "cell_type": "code",
   "execution_count": 14,
   "metadata": {},
   "outputs": [],
   "source": [
    "#price parsing\n",
    "df['Price']=df.Price.apply(lambda x: x.replace('€',\"\"))"
   ]
  },
  {
   "cell_type": "code",
   "execution_count": 15,
   "metadata": {},
   "outputs": [
    {
     "data": {
      "text/html": [
       "<div>\n",
       "<style scoped>\n",
       "    .dataframe tbody tr th:only-of-type {\n",
       "        vertical-align: middle;\n",
       "    }\n",
       "\n",
       "    .dataframe tbody tr th {\n",
       "        vertical-align: top;\n",
       "    }\n",
       "\n",
       "    .dataframe thead th {\n",
       "        text-align: right;\n",
       "    }\n",
       "</style>\n",
       "<table border=\"1\" class=\"dataframe\">\n",
       "  <thead>\n",
       "    <tr style=\"text-align: right;\">\n",
       "      <th></th>\n",
       "      <th>Superficie</th>\n",
       "      <th>Rooms</th>\n",
       "      <th>Bedrooms</th>\n",
       "      <th>Price</th>\n",
       "      <th>Location</th>\n",
       "      <th>description</th>\n",
       "      <th>Loc_Paris</th>\n",
       "      <th>m2</th>\n",
       "      <th>nb_bat</th>\n",
       "      <th>nb_good</th>\n",
       "      <th>nb_bain</th>\n",
       "      <th>Cave</th>\n",
       "      <th>balc_terr</th>\n",
       "      <th>Chauffage</th>\n",
       "      <th>Rénové</th>\n",
       "      <th>Parking</th>\n",
       "    </tr>\n",
       "  </thead>\n",
       "  <tbody>\n",
       "    <tr>\n",
       "      <th>0</th>\n",
       "      <td>33m²</td>\n",
       "      <td>1 p.</td>\n",
       "      <td>0 p.</td>\n",
       "      <td>328 600</td>\n",
       "      <td>Paris 19 (75019)|Secrétan - Jaurès...</td>\n",
       "      <td>Ref de l'annonce\\n:Grand Studio\\nParking\\nEtag...</td>\n",
       "      <td>75019</td>\n",
       "      <td>33</td>\n",
       "      <td>14</td>\n",
       "      <td>1er</td>\n",
       "      <td>1</td>\n",
       "      <td>0</td>\n",
       "      <td>0</td>\n",
       "      <td>0</td>\n",
       "      <td>0</td>\n",
       "      <td>1</td>\n",
       "    </tr>\n",
       "    <tr>\n",
       "      <th>1</th>\n",
       "      <td>122m²</td>\n",
       "      <td>5 p.</td>\n",
       "      <td>4 p.</td>\n",
       "      <td>1 940 000</td>\n",
       "      <td>Paris 04 (75004)\\nParis 4ème</td>\n",
       "      <td>Ref de l'annonce\\n:158\\nParking\\nTerrasse/Balc...</td>\n",
       "      <td>75004</td>\n",
       "      <td>122</td>\n",
       "      <td>4</td>\n",
       "      <td>2e</td>\n",
       "      <td>1</td>\n",
       "      <td>1</td>\n",
       "      <td>Terrasse</td>\n",
       "      <td>0</td>\n",
       "      <td>0</td>\n",
       "      <td>1</td>\n",
       "    </tr>\n",
       "    <tr>\n",
       "      <th>2</th>\n",
       "      <td>68m²</td>\n",
       "      <td>4 p.</td>\n",
       "      <td>3 p.</td>\n",
       "      <td>830 000</td>\n",
       "      <td>Paris 10 (75010)\\nParis 10ème</td>\n",
       "      <td>Ref de l'annonce\\n:2679339\\nTerrasse/Balcon\\n:...</td>\n",
       "      <td>75010</td>\n",
       "      <td>68</td>\n",
       "      <td>3</td>\n",
       "      <td>0</td>\n",
       "      <td>1</td>\n",
       "      <td>0</td>\n",
       "      <td>Terrasse</td>\n",
       "      <td>0</td>\n",
       "      <td>0</td>\n",
       "      <td>0</td>\n",
       "    </tr>\n",
       "    <tr>\n",
       "      <th>3</th>\n",
       "      <td>36m²</td>\n",
       "      <td>2 p.</td>\n",
       "      <td>1 p.</td>\n",
       "      <td>524 000</td>\n",
       "      <td>Paris 18 (75018)\\nAbbesses</td>\n",
       "      <td>Ref de l'annonce\\n:0555\\nEtage du bien\\n:2e\\nC...</td>\n",
       "      <td>75018</td>\n",
       "      <td>36</td>\n",
       "      <td>0</td>\n",
       "      <td>2e</td>\n",
       "      <td>1</td>\n",
       "      <td>1</td>\n",
       "      <td>0</td>\n",
       "      <td>0</td>\n",
       "      <td>0</td>\n",
       "      <td>0</td>\n",
       "    </tr>\n",
       "    <tr>\n",
       "      <th>4</th>\n",
       "      <td>32m²</td>\n",
       "      <td>1 p.</td>\n",
       "      <td>0 p.</td>\n",
       "      <td>375 000</td>\n",
       "      <td>Paris 15 (75015)\\nParis 15ème</td>\n",
       "      <td>Ref de l'annonce\\n:162373805\\nChauffage\\n:Au g...</td>\n",
       "      <td>75015</td>\n",
       "      <td>32</td>\n",
       "      <td>9</td>\n",
       "      <td>8e</td>\n",
       "      <td>0</td>\n",
       "      <td>1</td>\n",
       "      <td>0</td>\n",
       "      <td>Au gaz</td>\n",
       "      <td>0</td>\n",
       "      <td>0</td>\n",
       "    </tr>\n",
       "  </tbody>\n",
       "</table>\n",
       "</div>"
      ],
      "text/plain": [
       "  Superficie Rooms Bedrooms       Price  \\\n",
       "0       33m²  1 p.     0 p.    328 600    \n",
       "1      122m²  5 p.     4 p.  1 940 000    \n",
       "2       68m²  4 p.     3 p.    830 000    \n",
       "3       36m²  2 p.     1 p.    524 000    \n",
       "4       32m²  1 p.     0 p.    375 000    \n",
       "\n",
       "                                Location  \\\n",
       "0  Paris 19 (75019)|Secrétan - Jaurès...   \n",
       "1           Paris 04 (75004)\\nParis 4ème   \n",
       "2          Paris 10 (75010)\\nParis 10ème   \n",
       "3             Paris 18 (75018)\\nAbbesses   \n",
       "4          Paris 15 (75015)\\nParis 15ème   \n",
       "\n",
       "                                         description Loc_Paris   m2 nb_bat  \\\n",
       "0  Ref de l'annonce\\n:Grand Studio\\nParking\\nEtag...     75019   33     14   \n",
       "1  Ref de l'annonce\\n:158\\nParking\\nTerrasse/Balc...     75004  122      4   \n",
       "2  Ref de l'annonce\\n:2679339\\nTerrasse/Balcon\\n:...     75010   68      3   \n",
       "3  Ref de l'annonce\\n:0555\\nEtage du bien\\n:2e\\nC...     75018   36      0   \n",
       "4  Ref de l'annonce\\n:162373805\\nChauffage\\n:Au g...     75015   32      9   \n",
       "\n",
       "  nb_good nb_bain  Cave balc_terr Chauffage  Rénové  Parking  \n",
       "0     1er       1     0         0         0       0        1  \n",
       "1      2e       1     1  Terrasse         0       0        1  \n",
       "2       0       1     0  Terrasse         0       0        0  \n",
       "3      2e       1     1         0         0       0        0  \n",
       "4      8e       0     1         0    Au gaz       0        0  "
      ]
     },
     "execution_count": 15,
     "metadata": {},
     "output_type": "execute_result"
    }
   ],
   "source": [
    "df.head()"
   ]
  },
  {
   "cell_type": "code",
   "execution_count": 16,
   "metadata": {},
   "outputs": [
    {
     "data": {
      "text/plain": [
       "75018    481\n",
       "75016    480\n",
       "75015    424\n",
       "75017    322\n",
       "75020    285\n",
       "75013    233\n",
       "75011    209\n",
       "75014    209\n",
       "75019    196\n",
       "75006    178\n",
       "75008    174\n",
       "75007    174\n",
       "75010    166\n",
       "75012    150\n",
       "75005    110\n",
       "75004    107\n",
       "75009    100\n",
       "75003     94\n",
       "75002     88\n",
       "75001     60\n",
       "Name: Loc_Paris, dtype: int64"
      ]
     },
     "execution_count": 16,
     "metadata": {},
     "output_type": "execute_result"
    }
   ],
   "source": [
    "#Explore the valeus of the different features\n",
    "#Loc_Paris\n",
    "df.Loc_Paris.value_counts()"
   ]
  },
  {
   "cell_type": "code",
   "execution_count": 17,
   "metadata": {},
   "outputs": [
    {
     "data": {
      "text/plain": [
       "6       1141\n",
       "0       1117\n",
       "5        539\n",
       "7        356\n",
       "4        239\n",
       "8        203\n",
       "3        170\n",
       "9        101\n",
       "10        77\n",
       "2         60\n",
       "14        50\n",
       "1         43\n",
       "11        38\n",
       "12        29\n",
       "31        10\n",
       "15        10\n",
       "13         9\n",
       "30         9\n",
       "32         7\n",
       "16         6\n",
       "17         5\n",
       "29         4\n",
       "18         3\n",
       "22         3\n",
       "28         2\n",
       "27         2\n",
       "1900       2\n",
       "20         1\n",
       "21         1\n",
       "33         1\n",
       "19         1\n",
       "26         1\n",
       "Name: nb_bat, dtype: int64"
      ]
     },
     "execution_count": 17,
     "metadata": {},
     "output_type": "execute_result"
    }
   ],
   "source": [
    "#nb_bat\n",
    "df.nb_bat.value_counts()"
   ]
  },
  {
   "cell_type": "code",
   "execution_count": 27,
   "metadata": {},
   "outputs": [
    {
     "data": {
      "text/plain": [
       "6     1141\n",
       "5      539\n",
       "7      356\n",
       "4      239\n",
       "8      203\n",
       "3      170\n",
       "9      101\n",
       "10      77\n",
       "2       60\n",
       "14      50\n",
       "1       43\n",
       "11      38\n",
       "12      29\n",
       "15      10\n",
       "31      10\n",
       "13       9\n",
       "30       9\n",
       "32       7\n",
       "16       6\n",
       "17       5\n",
       "29       4\n",
       "18       3\n",
       "22       3\n",
       "27       2\n",
       "28       2\n",
       "26       1\n",
       "33       1\n",
       "21       1\n",
       "20       1\n",
       "19       1\n",
       "Name: nb_bat, dtype: int64"
      ]
     },
     "execution_count": 27,
     "metadata": {},
     "output_type": "execute_result"
    }
   ],
   "source": [
    "#Drop the columns where we do not know the \"etage\"\n",
    "df=df[~(df.nb_bat==0)]\n",
    "#Drop the columns with 1900 etages\n",
    "df=df[~(df.nb_bat=='1900')]\n",
    "df.nb_bat.value_counts()"
   ]
  },
  {
   "cell_type": "code",
   "execution_count": 28,
   "metadata": {},
   "outputs": [
    {
     "data": {
      "text/plain": [
       "0         546\n",
       "1er       531\n",
       "2e        470\n",
       "4e        400\n",
       "3e        384\n",
       "5e        321\n",
       "6e        233\n",
       "7e         99\n",
       "8e         49\n",
       "9e         29\n",
       "10e        11\n",
       "15e         8\n",
       "11e         8\n",
       "18e         6\n",
       "12e         5\n",
       "13e         4\n",
       "30e         2\n",
       "29e         2\n",
       "1900e       1\n",
       "23e         1\n",
       "32e         1\n",
       "21e         1\n",
       "28e         1\n",
       "19e         1\n",
       "16e         1\n",
       "20e         1\n",
       "22e         1\n",
       "25e         1\n",
       "17e         1\n",
       "24e         1\n",
       "32767e      1\n",
       "Name: nb_good, dtype: int64"
      ]
     },
     "execution_count": 28,
     "metadata": {},
     "output_type": "execute_result"
    }
   ],
   "source": [
    "df.nb_good.value_counts()"
   ]
  },
  {
   "cell_type": "code",
   "execution_count": 34,
   "metadata": {},
   "outputs": [
    {
     "data": {
      "text/plain": [
       "1er    531\n",
       "2e     470\n",
       "4e     400\n",
       "3e     384\n",
       "5e     321\n",
       "6e     233\n",
       "7e      99\n",
       "8e      49\n",
       "9e      29\n",
       "10e     11\n",
       "15e      8\n",
       "11e      8\n",
       "18e      6\n",
       "12e      5\n",
       "13e      4\n",
       "30e      2\n",
       "29e      2\n",
       "16e      1\n",
       "20e      1\n",
       "22e      1\n",
       "19e      1\n",
       "25e      1\n",
       "28e      1\n",
       "17e      1\n",
       "24e      1\n",
       "23e      1\n",
       "32e      1\n",
       "21e      1\n",
       "Name: nb_good, dtype: int64"
      ]
     },
     "execution_count": 34,
     "metadata": {},
     "output_type": "execute_result"
    }
   ],
   "source": [
    "#Drop columns with wrong values such as '32767' or '1900e' \n",
    "df=df[~(df.nb_good=='1900e')]\n",
    "df=df[~(df.nb_good=='32767e')]\n",
    "df=df[~(df.nb_good==0)]\n",
    "df.nb_good.value_counts()"
   ]
  },
  {
   "cell_type": "code",
   "execution_count": 37,
   "metadata": {},
   "outputs": [
    {
     "data": {
      "text/plain": [
       "array([0, 1], dtype=int64)"
      ]
     },
     "execution_count": 37,
     "metadata": {},
     "output_type": "execute_result"
    }
   ],
   "source": [
    "df.Cave.unique()"
   ]
  },
  {
   "cell_type": "code",
   "execution_count": 39,
   "metadata": {},
   "outputs": [
    {
     "data": {
      "text/plain": [
       "array([0, 'Terrasse', 'Balcon', 'Terrasse, balcon'], dtype=object)"
      ]
     },
     "execution_count": 39,
     "metadata": {},
     "output_type": "execute_result"
    }
   ],
   "source": [
    "df.balc_terr.unique()"
   ]
  },
  {
   "cell_type": "code",
   "execution_count": 45,
   "metadata": {},
   "outputs": [],
   "source": [
    "#replace 0 values with Unknown since we do  not know what chauffage is use\n",
    "df.Chauffage=df.Chauffage.apply(lambda x: str(x).replace('0','Unknown'))"
   ]
  },
  {
   "cell_type": "code",
   "execution_count": 49,
   "metadata": {},
   "outputs": [
    {
     "data": {
      "text/plain": [
       "0    1974\n",
       "1     599\n",
       "Name: Chauffage_Central, dtype: int64"
      ]
     },
     "execution_count": 49,
     "metadata": {},
     "output_type": "execute_result"
    }
   ],
   "source": [
    "#Create two new features for Chauffage: \"individuel\" and \"Central\", since both are the most important classes\n",
    "df['Chauffage_Central']=df.Chauffage.apply(lambda x: 1 if 'Central' in str(x) else 0)\n",
    "df['Chauffage_Individuel']=df.Chauffage.apply(lambda x: 1 if 'Individuel' in str(x) else 0)\n",
    "df.Chauffage_Central.value_counts()\n"
   ]
  },
  {
   "cell_type": "code",
   "execution_count": 51,
   "metadata": {},
   "outputs": [
    {
     "data": {
      "text/plain": [
       "0    2249\n",
       "1     324\n",
       "Name: Parking, dtype: int64"
      ]
     },
     "execution_count": 51,
     "metadata": {},
     "output_type": "execute_result"
    }
   ],
   "source": [
    "df.Parking.value_counts()"
   ]
  },
  {
   "cell_type": "code",
   "execution_count": 52,
   "metadata": {},
   "outputs": [
    {
     "name": "stdout",
     "output_type": "stream",
     "text": [
      "<class 'pandas.core.frame.DataFrame'>\n",
      "Int64Index: 2573 entries, 0 to 4239\n",
      "Data columns (total 18 columns):\n",
      " #   Column                Non-Null Count  Dtype \n",
      "---  ------                --------------  ----- \n",
      " 0   Superficie            2573 non-null   object\n",
      " 1   Rooms                 2573 non-null   object\n",
      " 2   Bedrooms              2573 non-null   object\n",
      " 3   Price                 2573 non-null   object\n",
      " 4   Location              2573 non-null   object\n",
      " 5   description           2573 non-null   object\n",
      " 6   Loc_Paris             2573 non-null   object\n",
      " 7   m2                    2573 non-null   int64 \n",
      " 8   nb_bat                2573 non-null   object\n",
      " 9   nb_good               2573 non-null   object\n",
      " 10  nb_bain               2573 non-null   object\n",
      " 11  Cave                  2573 non-null   int64 \n",
      " 12  balc_terr             2573 non-null   object\n",
      " 13  Chauffage             2573 non-null   object\n",
      " 14  Rénové                2573 non-null   int64 \n",
      " 15  Parking               2573 non-null   int64 \n",
      " 16  Chauffage_Central     2573 non-null   int64 \n",
      " 17  Chauffage_Individuel  2573 non-null   int64 \n",
      "dtypes: int64(6), object(12)\n",
      "memory usage: 381.9+ KB\n"
     ]
    }
   ],
   "source": [
    "df.info()"
   ]
  },
  {
   "cell_type": "code",
   "execution_count": 53,
   "metadata": {},
   "outputs": [],
   "source": [
    "df.to_csv('House_price_cleaned.csv',index=False)"
   ]
  },
  {
   "cell_type": "code",
   "execution_count": null,
   "metadata": {},
   "outputs": [],
   "source": []
  }
 ],
 "metadata": {
  "kernelspec": {
   "display_name": "Python 3",
   "language": "python",
   "name": "python3"
  },
  "language_info": {
   "codemirror_mode": {
    "name": "ipython",
    "version": 3
   },
   "file_extension": ".py",
   "mimetype": "text/x-python",
   "name": "python",
   "nbconvert_exporter": "python",
   "pygments_lexer": "ipython3",
   "version": "3.7.6"
  }
 },
 "nbformat": 4,
 "nbformat_minor": 4
}
