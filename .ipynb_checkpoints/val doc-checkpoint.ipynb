{
 "cells": [
  {
   "cell_type": "code",
   "execution_count": 139,
   "metadata": {},
   "outputs": [],
   "source": [
    "import pandas as pd\n",
    "import matplotlib.pyplot as plt\n",
    "import numpy as np\n",
    "from sklearn.model_selection import train_test_split\n",
    "from sklearn.metrics import mean_absolute_error\n",
    "from sklearn.ensemble import RandomForestRegressor\n",
    "from sklearn.linear_model import LinearRegression,Lasso,Ridge\n",
    "from sklearn.model_selection import cross_val_score\n",
    "from sklearn.metrics import mean_absolute_error\n",
    "from sklearn.base import BaseEstimator\n",
    "from sklearn.base import RegressorMixin\n",
    "from sklearn.base import clone\n",
    "from sklearn.base import TransformerMixin"
   ]
  },
  {
   "cell_type": "markdown",
   "metadata": {},
   "source": [
    "## Import the data"
   ]
  },
  {
   "cell_type": "code",
   "execution_count": 155,
   "metadata": {},
   "outputs": [
    {
     "name": "stdout",
     "output_type": "stream",
     "text": [
      "5.794841205603168\n"
     ]
    },
    {
     "data": {
      "text/html": [
       "<div>\n",
       "<style scoped>\n",
       "    .dataframe tbody tr th:only-of-type {\n",
       "        vertical-align: middle;\n",
       "    }\n",
       "\n",
       "    .dataframe tbody tr th {\n",
       "        vertical-align: top;\n",
       "    }\n",
       "\n",
       "    .dataframe thead th {\n",
       "        text-align: right;\n",
       "    }\n",
       "</style>\n",
       "<table border=\"1\" class=\"dataframe\">\n",
       "  <thead>\n",
       "    <tr style=\"text-align: right;\">\n",
       "      <th></th>\n",
       "      <th>m2</th>\n",
       "      <th>nb_rooms</th>\n",
       "      <th>nb_bedrooms</th>\n",
       "      <th>nb_bath</th>\n",
       "      <th>apartment_floor</th>\n",
       "      <th>building_floor</th>\n",
       "      <th>Cellar</th>\n",
       "      <th>Parking</th>\n",
       "      <th>balc_patio</th>\n",
       "      <th>Renovated</th>\n",
       "      <th>Ground_floor</th>\n",
       "      <th>Last_floor</th>\n",
       "      <th>district</th>\n",
       "      <th>building_height</th>\n",
       "    </tr>\n",
       "  </thead>\n",
       "  <tbody>\n",
       "    <tr>\n",
       "      <th>0</th>\n",
       "      <td>3.496508</td>\n",
       "      <td>1</td>\n",
       "      <td>0</td>\n",
       "      <td>1</td>\n",
       "      <td>1</td>\n",
       "      <td>14</td>\n",
       "      <td>0</td>\n",
       "      <td>1</td>\n",
       "      <td>0</td>\n",
       "      <td>0</td>\n",
       "      <td>0</td>\n",
       "      <td>0</td>\n",
       "      <td>19e</td>\n",
       "      <td>Tower</td>\n",
       "    </tr>\n",
       "    <tr>\n",
       "      <th>1</th>\n",
       "      <td>4.804021</td>\n",
       "      <td>5</td>\n",
       "      <td>4</td>\n",
       "      <td>1</td>\n",
       "      <td>2</td>\n",
       "      <td>4</td>\n",
       "      <td>1</td>\n",
       "      <td>1</td>\n",
       "      <td>Terrasse</td>\n",
       "      <td>0</td>\n",
       "      <td>0</td>\n",
       "      <td>0</td>\n",
       "      <td>4e</td>\n",
       "      <td>Average</td>\n",
       "    </tr>\n",
       "    <tr>\n",
       "      <th>2</th>\n",
       "      <td>4.219508</td>\n",
       "      <td>4</td>\n",
       "      <td>3</td>\n",
       "      <td>1</td>\n",
       "      <td>0</td>\n",
       "      <td>3</td>\n",
       "      <td>0</td>\n",
       "      <td>0</td>\n",
       "      <td>Terrasse</td>\n",
       "      <td>0</td>\n",
       "      <td>1</td>\n",
       "      <td>0</td>\n",
       "      <td>10e</td>\n",
       "      <td>Small</td>\n",
       "    </tr>\n",
       "    <tr>\n",
       "      <th>3</th>\n",
       "      <td>3.583519</td>\n",
       "      <td>2</td>\n",
       "      <td>1</td>\n",
       "      <td>1</td>\n",
       "      <td>2</td>\n",
       "      <td>0</td>\n",
       "      <td>1</td>\n",
       "      <td>0</td>\n",
       "      <td>0</td>\n",
       "      <td>0</td>\n",
       "      <td>0</td>\n",
       "      <td>0</td>\n",
       "      <td>18e</td>\n",
       "      <td>Average</td>\n",
       "    </tr>\n",
       "    <tr>\n",
       "      <th>4</th>\n",
       "      <td>3.465736</td>\n",
       "      <td>1</td>\n",
       "      <td>0</td>\n",
       "      <td>1</td>\n",
       "      <td>8</td>\n",
       "      <td>9</td>\n",
       "      <td>1</td>\n",
       "      <td>0</td>\n",
       "      <td>0</td>\n",
       "      <td>0</td>\n",
       "      <td>0</td>\n",
       "      <td>0</td>\n",
       "      <td>15e</td>\n",
       "      <td>Average</td>\n",
       "    </tr>\n",
       "  </tbody>\n",
       "</table>\n",
       "</div>"
      ],
      "text/plain": [
       "         m2  nb_rooms  nb_bedrooms  nb_bath  apartment_floor  building_floor  \\\n",
       "0  3.496508         1            0        1                1              14   \n",
       "1  4.804021         5            4        1                2               4   \n",
       "2  4.219508         4            3        1                0               3   \n",
       "3  3.583519         2            1        1                2               0   \n",
       "4  3.465736         1            0        1                8               9   \n",
       "\n",
       "   Cellar  Parking balc_patio  Renovated  Ground_floor  Last_floor district  \\\n",
       "0       0        1          0          0             0           0      19e   \n",
       "1       1        1   Terrasse          0             0           0       4e   \n",
       "2       0        0   Terrasse          0             1           0      10e   \n",
       "3       1        0          0          0             0           0      18e   \n",
       "4       1        0          0          0             0           0      15e   \n",
       "\n",
       "  building_height  \n",
       "0           Tower  \n",
       "1         Average  \n",
       "2           Small  \n",
       "3         Average  \n",
       "4         Average  "
      ]
     },
     "execution_count": 155,
     "metadata": {},
     "output_type": "execute_result"
    }
   ],
   "source": [
    "df=pd.read_csv('final_data_Copy.csv')\n",
    "print(df.iloc[0].SalePrice_K)\n",
    "df=df[['m2', 'nb_rooms','nb_bedrooms','nb_bath','apartment_floor','building_floor',\n",
    "        'Cellar','Parking', 'balc_patio','Renovated', 'Ground_floor',\n",
    "       'Last_floor', 'district','building_height']]\n",
    "df.head()"
   ]
  },
  {
   "cell_type": "markdown",
   "metadata": {},
   "source": [
    "## Preprocessing"
   ]
  },
  {
   "cell_type": "code",
   "execution_count": 156,
   "metadata": {},
   "outputs": [],
   "source": [
    "features=[np.exp(3.49650756146648), 1, 0, 1, 1,14, 'No', 'Yes', 'Nothing', 'No', 'No', 'No', '19e', 20]"
   ]
  },
  {
   "cell_type": "code",
   "execution_count": 157,
   "metadata": {},
   "outputs": [],
   "source": [
    "def height(x):\n",
    "    if x ==0:\n",
    "        return 'Average'\n",
    "    elif x<4:\n",
    "        return 'Small'\n",
    "    elif x<=9:\n",
    "        return 'Average'\n",
    "    elif x<=12:\n",
    "        return 'High'\n",
    "    else:\n",
    "        return 'Tower'"
   ]
  },
  {
   "cell_type": "code",
   "execution_count": 158,
   "metadata": {},
   "outputs": [],
   "source": [
    "def preprocessing(features):\n",
    "    features[0]=np.log(features[0])\n",
    "    new_features = [0 if x=='No' else 1 if x==\"Yes\" else x for x in features]\n",
    "    new_features[-1]=height(new_features[-1])\n",
    "    if new_features[8]=='Nothing':\n",
    "        new_features[8]=0\n",
    "    df=pd.DataFrame(new_features)\n",
    "    return new_features\n",
    "    "
   ]
  },
  {
   "cell_type": "code",
   "execution_count": 159,
   "metadata": {},
   "outputs": [
    {
     "data": {
      "text/plain": [
       "14"
      ]
     },
     "execution_count": 159,
     "metadata": {},
     "output_type": "execute_result"
    }
   ],
   "source": [
    "my_features=preprocessing(features)\n",
    "len(my_features)"
   ]
  },
  {
   "cell_type": "code",
   "execution_count": 161,
   "metadata": {},
   "outputs": [],
   "source": [
    "data_in=pd.DataFrame(np.array(my_features).reshape(1,-1),columns=['m2', 'nb_rooms','nb_bedrooms','nb_bath','apartment_floor','building_floor','Cellar','Parking', 'balc_patio','Renovated', 'Ground_floor','Last_floor', 'district','building_height'])"
   ]
  },
  {
   "cell_type": "code",
   "execution_count": 163,
   "metadata": {},
   "outputs": [
    {
     "data": {
      "text/html": [
       "<div>\n",
       "<style scoped>\n",
       "    .dataframe tbody tr th:only-of-type {\n",
       "        vertical-align: middle;\n",
       "    }\n",
       "\n",
       "    .dataframe tbody tr th {\n",
       "        vertical-align: top;\n",
       "    }\n",
       "\n",
       "    .dataframe thead th {\n",
       "        text-align: right;\n",
       "    }\n",
       "</style>\n",
       "<table border=\"1\" class=\"dataframe\">\n",
       "  <thead>\n",
       "    <tr style=\"text-align: right;\">\n",
       "      <th></th>\n",
       "      <th>m2</th>\n",
       "      <th>nb_rooms</th>\n",
       "      <th>nb_bedrooms</th>\n",
       "      <th>nb_bath</th>\n",
       "      <th>apartment_floor</th>\n",
       "      <th>building_floor</th>\n",
       "      <th>Cellar</th>\n",
       "      <th>Parking</th>\n",
       "      <th>balc_patio</th>\n",
       "      <th>Renovated</th>\n",
       "      <th>Ground_floor</th>\n",
       "      <th>Last_floor</th>\n",
       "      <th>district</th>\n",
       "      <th>building_height</th>\n",
       "    </tr>\n",
       "  </thead>\n",
       "  <tbody>\n",
       "    <tr>\n",
       "      <th>0</th>\n",
       "      <td>3.49650756146648</td>\n",
       "      <td>1</td>\n",
       "      <td>0</td>\n",
       "      <td>1</td>\n",
       "      <td>1</td>\n",
       "      <td>14</td>\n",
       "      <td>0</td>\n",
       "      <td>1</td>\n",
       "      <td>0</td>\n",
       "      <td>0</td>\n",
       "      <td>0</td>\n",
       "      <td>0</td>\n",
       "      <td>19e</td>\n",
       "      <td>Tower</td>\n",
       "    </tr>\n",
       "  </tbody>\n",
       "</table>\n",
       "</div>"
      ],
      "text/plain": [
       "                 m2 nb_rooms nb_bedrooms nb_bath apartment_floor  \\\n",
       "0  3.49650756146648        1           0       1               1   \n",
       "\n",
       "  building_floor Cellar Parking balc_patio Renovated Ground_floor Last_floor  \\\n",
       "0             14      0       1          0         0            0          0   \n",
       "\n",
       "  district building_height  \n",
       "0      19e           Tower  "
      ]
     },
     "execution_count": 163,
     "metadata": {},
     "output_type": "execute_result"
    }
   ],
   "source": [
    "data_in"
   ]
  },
  {
   "cell_type": "markdown",
   "metadata": {},
   "source": [
    "## Load the encoder"
   ]
  },
  {
   "cell_type": "code",
   "execution_count": 164,
   "metadata": {},
   "outputs": [],
   "source": [
    "import pickle\n",
    "with open('encoder.p', 'rb') as pickled:\n",
    "    data = pickle.load(pickled)\n",
    "    encoder=data['encoder']\n",
    "        "
   ]
  },
  {
   "cell_type": "code",
   "execution_count": 165,
   "metadata": {},
   "outputs": [],
   "source": [
    "data_in_enc=pd.DataFrame(encoder.transform(np.array(data_in[['balc_patio','district','building_height']].iloc[0]).reshape(1,-1)))\n",
    "data_in_enc.columns=encoder.get_feature_names(['balc_patio','district','building_height'])\n",
    "data_in.drop(['balc_patio','district','building_height'],axis=1,inplace=True)\n",
    "data_in_enc=pd.DataFrame(np.array(data_in.iloc[0]).reshape(1,-1),columns=['m2', 'nb_rooms','nb_bedrooms','nb_bath','apartment_floor','building_floor',\n",
    "        'Cellar','Parking','Renovated', 'Ground_floor','Last_floor'])\n",
    "data_out=pd.concat([df_old,df_enc],axis=1)"
   ]
  },
  {
   "cell_type": "code",
   "execution_count": 166,
   "metadata": {},
   "outputs": [
    {
     "data": {
      "text/html": [
       "<div>\n",
       "<style scoped>\n",
       "    .dataframe tbody tr th:only-of-type {\n",
       "        vertical-align: middle;\n",
       "    }\n",
       "\n",
       "    .dataframe tbody tr th {\n",
       "        vertical-align: top;\n",
       "    }\n",
       "\n",
       "    .dataframe thead th {\n",
       "        text-align: right;\n",
       "    }\n",
       "</style>\n",
       "<table border=\"1\" class=\"dataframe\">\n",
       "  <thead>\n",
       "    <tr style=\"text-align: right;\">\n",
       "      <th></th>\n",
       "      <th>m2</th>\n",
       "      <th>nb_rooms</th>\n",
       "      <th>nb_bedrooms</th>\n",
       "      <th>nb_bath</th>\n",
       "      <th>apartment_floor</th>\n",
       "      <th>Cellar</th>\n",
       "      <th>Parking</th>\n",
       "      <th>Renovated</th>\n",
       "      <th>Ground_floor</th>\n",
       "      <th>Last_floor</th>\n",
       "      <th>...</th>\n",
       "      <th>district_4e</th>\n",
       "      <th>district_5e</th>\n",
       "      <th>district_6e</th>\n",
       "      <th>district_7e</th>\n",
       "      <th>district_8e</th>\n",
       "      <th>district_9e</th>\n",
       "      <th>building_height_Average</th>\n",
       "      <th>building_height_High</th>\n",
       "      <th>building_height_Small</th>\n",
       "      <th>building_height_Tower</th>\n",
       "    </tr>\n",
       "  </thead>\n",
       "  <tbody>\n",
       "    <tr>\n",
       "      <th>0</th>\n",
       "      <td>3.496508</td>\n",
       "      <td>1.0</td>\n",
       "      <td>0.0</td>\n",
       "      <td>1.0</td>\n",
       "      <td>1.0</td>\n",
       "      <td>0.0</td>\n",
       "      <td>1.0</td>\n",
       "      <td>0.0</td>\n",
       "      <td>0.0</td>\n",
       "      <td>0.0</td>\n",
       "      <td>...</td>\n",
       "      <td>0.0</td>\n",
       "      <td>0.0</td>\n",
       "      <td>0.0</td>\n",
       "      <td>0.0</td>\n",
       "      <td>0.0</td>\n",
       "      <td>0.0</td>\n",
       "      <td>0.0</td>\n",
       "      <td>0.0</td>\n",
       "      <td>0.0</td>\n",
       "      <td>1.0</td>\n",
       "    </tr>\n",
       "  </tbody>\n",
       "</table>\n",
       "<p>1 rows × 38 columns</p>\n",
       "</div>"
      ],
      "text/plain": [
       "         m2  nb_rooms  nb_bedrooms  nb_bath  apartment_floor  Cellar  Parking  \\\n",
       "0  3.496508       1.0          0.0      1.0              1.0     0.0      1.0   \n",
       "\n",
       "   Renovated  Ground_floor  Last_floor  ...  district_4e  district_5e  \\\n",
       "0        0.0           0.0         0.0  ...          0.0          0.0   \n",
       "\n",
       "   district_6e  district_7e  district_8e  district_9e  \\\n",
       "0          0.0          0.0          0.0          0.0   \n",
       "\n",
       "   building_height_Average  building_height_High  building_height_Small  \\\n",
       "0                      0.0                   0.0                    0.0   \n",
       "\n",
       "   building_height_Tower  \n",
       "0                    1.0  \n",
       "\n",
       "[1 rows x 38 columns]"
      ]
     },
     "execution_count": 166,
     "metadata": {},
     "output_type": "execute_result"
    }
   ],
   "source": [
    "data_out"
   ]
  },
  {
   "cell_type": "code",
   "execution_count": null,
   "metadata": {},
   "outputs": [],
   "source": []
  },
  {
   "cell_type": "code",
   "execution_count": 167,
   "metadata": {},
   "outputs": [
    {
     "data": {
      "text/plain": [
       "array([328.6])"
      ]
     },
     "execution_count": 167,
     "metadata": {},
     "output_type": "execute_result"
    }
   ],
   "source": [
    "file_name = \"FlaskAPI/models/model_file.p\"\n",
    "with open(file_name, 'rb') as pickled:\n",
    "       data = pickle.load(pickled)\n",
    "       model = data['model']\n",
    "np.exp(model.predict(df_real))"
   ]
  },
  {
   "cell_type": "code",
   "execution_count": null,
   "metadata": {},
   "outputs": [],
   "source": []
  }
 ],
 "metadata": {
  "kernelspec": {
   "display_name": "Python 3",
   "language": "python",
   "name": "python3"
  },
  "language_info": {
   "codemirror_mode": {
    "name": "ipython",
    "version": 3
   },
   "file_extension": ".py",
   "mimetype": "text/x-python",
   "name": "python",
   "nbconvert_exporter": "python",
   "pygments_lexer": "ipython3",
   "version": "3.7.6"
  }
 },
 "nbformat": 4,
 "nbformat_minor": 4
}
